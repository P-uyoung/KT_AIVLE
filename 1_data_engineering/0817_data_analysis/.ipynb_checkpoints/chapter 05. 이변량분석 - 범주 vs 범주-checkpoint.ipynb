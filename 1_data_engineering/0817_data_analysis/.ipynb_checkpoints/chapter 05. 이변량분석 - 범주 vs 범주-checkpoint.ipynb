{
 "cells": [
  {
   "cell_type": "markdown",
   "metadata": {
    "id": "EnlYouStN0Le"
   },
   "source": [
    "# **이변량분석 : 범주 vs 범주**"
   ]
  },
  {
   "cell_type": "markdown",
   "metadata": {
    "id": "0SJP-uYxN0Lk"
   },
   "source": [
    "## **1.환경준비**"
   ]
  },
  {
   "cell_type": "markdown",
   "metadata": {
    "id": "6dMK5CsEN0Lk"
   },
   "source": [
    "* 라이브러리 불러오기"
   ]
  },
  {
   "cell_type": "code",
   "execution_count": 1,
   "metadata": {
    "executionInfo": {
     "elapsed": 3005,
     "status": "ok",
     "timestamp": 1674270908267,
     "user": {
      "displayName": "한기영",
      "userId": "13049187003176135487"
     },
     "user_tz": -540
    },
    "id": "Sma8Fku5N0Ll",
    "tags": []
   },
   "outputs": [],
   "source": [
    "import pandas as pd\n",
    "import numpy as np\n",
    "import random as rd\n",
    "\n",
    "import matplotlib.pyplot as plt\n",
    "import seaborn as sns\n",
    "from statsmodels.graphics.mosaicplot import mosaic      #mosaic plot!\n",
    "\n",
    "import scipy.stats as spst"
   ]
  },
  {
   "cell_type": "markdown",
   "metadata": {
    "id": "NCpMWLagN0Ln"
   },
   "source": [
    "* 데이터 불러오기 : 다음의 예제 데이터를 사용합니다.\n",
    "> 타이타닉 생존자  \n"
   ]
  },
  {
   "cell_type": "code",
   "execution_count": 2,
   "metadata": {
    "colab": {
     "base_uri": "https://localhost:8080/",
     "height": 206
    },
    "executionInfo": {
     "elapsed": 579,
     "status": "ok",
     "timestamp": 1674270908840,
     "user": {
      "displayName": "한기영",
      "userId": "13049187003176135487"
     },
     "user_tz": -540
    },
    "id": "si-trqDhN0Lo",
    "outputId": "15bb3792-ee03-4c39-b38e-1302cb5907c0",
    "tags": []
   },
   "outputs": [
    {
     "data": {
      "text/html": [
       "<div>\n",
       "<style scoped>\n",
       "    .dataframe tbody tr th:only-of-type {\n",
       "        vertical-align: middle;\n",
       "    }\n",
       "\n",
       "    .dataframe tbody tr th {\n",
       "        vertical-align: top;\n",
       "    }\n",
       "\n",
       "    .dataframe thead th {\n",
       "        text-align: right;\n",
       "    }\n",
       "</style>\n",
       "<table border=\"1\" class=\"dataframe\">\n",
       "  <thead>\n",
       "    <tr style=\"text-align: right;\">\n",
       "      <th></th>\n",
       "      <th>PassengerId</th>\n",
       "      <th>Survived</th>\n",
       "      <th>Pclass</th>\n",
       "      <th>Title</th>\n",
       "      <th>Sex</th>\n",
       "      <th>Age</th>\n",
       "      <th>SibSp</th>\n",
       "      <th>Parch</th>\n",
       "      <th>Ticket</th>\n",
       "      <th>Fare</th>\n",
       "      <th>Cabin</th>\n",
       "      <th>Embarked</th>\n",
       "      <th>AgeGroup</th>\n",
       "      <th>Family</th>\n",
       "      <th>Mother</th>\n",
       "      <th>Fare2</th>\n",
       "    </tr>\n",
       "  </thead>\n",
       "  <tbody>\n",
       "    <tr>\n",
       "      <th>0</th>\n",
       "      <td>1</td>\n",
       "      <td>0</td>\n",
       "      <td>3</td>\n",
       "      <td>Mr</td>\n",
       "      <td>male</td>\n",
       "      <td>22.0</td>\n",
       "      <td>1</td>\n",
       "      <td>0</td>\n",
       "      <td>A/5 21171</td>\n",
       "      <td>7.2500</td>\n",
       "      <td>NaN</td>\n",
       "      <td>S</td>\n",
       "      <td>Age_20</td>\n",
       "      <td>2</td>\n",
       "      <td>0</td>\n",
       "      <td>7.2500</td>\n",
       "    </tr>\n",
       "    <tr>\n",
       "      <th>1</th>\n",
       "      <td>2</td>\n",
       "      <td>1</td>\n",
       "      <td>1</td>\n",
       "      <td>Mrs</td>\n",
       "      <td>female</td>\n",
       "      <td>38.0</td>\n",
       "      <td>1</td>\n",
       "      <td>0</td>\n",
       "      <td>PC 17599</td>\n",
       "      <td>71.2833</td>\n",
       "      <td>C85</td>\n",
       "      <td>C</td>\n",
       "      <td>Age_30</td>\n",
       "      <td>2</td>\n",
       "      <td>0</td>\n",
       "      <td>71.2833</td>\n",
       "    </tr>\n",
       "    <tr>\n",
       "      <th>2</th>\n",
       "      <td>3</td>\n",
       "      <td>1</td>\n",
       "      <td>3</td>\n",
       "      <td>Miss</td>\n",
       "      <td>female</td>\n",
       "      <td>26.0</td>\n",
       "      <td>0</td>\n",
       "      <td>0</td>\n",
       "      <td>STON/O2. 3101282</td>\n",
       "      <td>7.9250</td>\n",
       "      <td>NaN</td>\n",
       "      <td>S</td>\n",
       "      <td>Age_20</td>\n",
       "      <td>1</td>\n",
       "      <td>0</td>\n",
       "      <td>7.9250</td>\n",
       "    </tr>\n",
       "    <tr>\n",
       "      <th>3</th>\n",
       "      <td>4</td>\n",
       "      <td>1</td>\n",
       "      <td>1</td>\n",
       "      <td>Mrs</td>\n",
       "      <td>female</td>\n",
       "      <td>35.0</td>\n",
       "      <td>1</td>\n",
       "      <td>0</td>\n",
       "      <td>113803</td>\n",
       "      <td>53.1000</td>\n",
       "      <td>C123</td>\n",
       "      <td>S</td>\n",
       "      <td>Age_30</td>\n",
       "      <td>2</td>\n",
       "      <td>0</td>\n",
       "      <td>53.1000</td>\n",
       "    </tr>\n",
       "    <tr>\n",
       "      <th>4</th>\n",
       "      <td>5</td>\n",
       "      <td>0</td>\n",
       "      <td>3</td>\n",
       "      <td>Mr</td>\n",
       "      <td>male</td>\n",
       "      <td>35.0</td>\n",
       "      <td>0</td>\n",
       "      <td>0</td>\n",
       "      <td>373450</td>\n",
       "      <td>8.0500</td>\n",
       "      <td>NaN</td>\n",
       "      <td>S</td>\n",
       "      <td>Age_30</td>\n",
       "      <td>1</td>\n",
       "      <td>0</td>\n",
       "      <td>8.0500</td>\n",
       "    </tr>\n",
       "  </tbody>\n",
       "</table>\n",
       "</div>"
      ],
      "text/plain": [
       "   PassengerId  Survived  Pclass Title     Sex   Age  SibSp  Parch  \\\n",
       "0            1         0       3    Mr    male  22.0      1      0   \n",
       "1            2         1       1   Mrs  female  38.0      1      0   \n",
       "2            3         1       3  Miss  female  26.0      0      0   \n",
       "3            4         1       1   Mrs  female  35.0      1      0   \n",
       "4            5         0       3    Mr    male  35.0      0      0   \n",
       "\n",
       "             Ticket     Fare Cabin Embarked AgeGroup  Family  Mother    Fare2  \n",
       "0         A/5 21171   7.2500   NaN        S   Age_20       2       0   7.2500  \n",
       "1          PC 17599  71.2833   C85        C   Age_30       2       0  71.2833  \n",
       "2  STON/O2. 3101282   7.9250   NaN        S   Age_20       1       0   7.9250  \n",
       "3            113803  53.1000  C123        S   Age_30       2       0  53.1000  \n",
       "4            373450   8.0500   NaN        S   Age_30       1       0   8.0500  "
      ]
     },
     "execution_count": 2,
     "metadata": {},
     "output_type": "execute_result"
    }
   ],
   "source": [
    "# 타이타닉 데이터\n",
    "titanic = pd.read_csv('https://raw.githubusercontent.com/DA4BAM/dataset/master/titanic.1.csv')\n",
    "titanic.head()"
   ]
  },
  {
   "cell_type": "markdown",
   "metadata": {
    "id": "h-Mfboaprl3P"
   },
   "source": [
    "## **2.범주 --> 범주**"
   ]
  },
  {
   "cell_type": "markdown",
   "metadata": {
    "id": "24HAzukSN0Ls"
   },
   "source": [
    "### **(1) 교차표(pd.crosstab)**\n",
    "\n",
    "범주 vs 범주 를 비교하고 분석하기 위해서는 먼저 **교차표**를 만들어야 합니다."
   ]
  },
  {
   "cell_type": "markdown",
   "metadata": {
    "id": "_ZAUjkluWcnp"
   },
   "source": [
    "* pd.crosstab(행, 열)"
   ]
  },
  {
   "cell_type": "code",
   "execution_count": 3,
   "metadata": {
    "colab": {
     "base_uri": "https://localhost:8080/",
     "height": 143
    },
    "executionInfo": {
     "elapsed": 9,
     "status": "ok",
     "timestamp": 1674102503179,
     "user": {
      "displayName": "한기영",
      "userId": "13049187003176135487"
     },
     "user_tz": -540
    },
    "id": "PVVnjqcSYFWs",
    "outputId": "d0d2d5b0-25f9-4818-df25-29a2ab403164",
    "tags": []
   },
   "outputs": [
    {
     "data": {
      "text/html": [
       "<div>\n",
       "<style scoped>\n",
       "    .dataframe tbody tr th:only-of-type {\n",
       "        vertical-align: middle;\n",
       "    }\n",
       "\n",
       "    .dataframe tbody tr th {\n",
       "        vertical-align: top;\n",
       "    }\n",
       "\n",
       "    .dataframe thead th {\n",
       "        text-align: right;\n",
       "    }\n",
       "</style>\n",
       "<table border=\"1\" class=\"dataframe\">\n",
       "  <thead>\n",
       "    <tr style=\"text-align: right;\">\n",
       "      <th>Sex</th>\n",
       "      <th>female</th>\n",
       "      <th>male</th>\n",
       "    </tr>\n",
       "    <tr>\n",
       "      <th>Survived</th>\n",
       "      <th></th>\n",
       "      <th></th>\n",
       "    </tr>\n",
       "  </thead>\n",
       "  <tbody>\n",
       "    <tr>\n",
       "      <th>0</th>\n",
       "      <td>81</td>\n",
       "      <td>468</td>\n",
       "    </tr>\n",
       "    <tr>\n",
       "      <th>1</th>\n",
       "      <td>233</td>\n",
       "      <td>109</td>\n",
       "    </tr>\n",
       "  </tbody>\n",
       "</table>\n",
       "</div>"
      ],
      "text/plain": [
       "Sex       female  male\n",
       "Survived              \n",
       "0             81   468\n",
       "1            233   109"
      ]
     },
     "execution_count": 3,
     "metadata": {},
     "output_type": "execute_result"
    }
   ],
   "source": [
    "# 두 범주별 빈도수를 교차표로 만들어 봅시다.\n",
    "pd.crosstab(titanic['Survived'], titanic['Sex'])"
   ]
  },
  {
   "cell_type": "markdown",
   "metadata": {
    "id": "F4YQ63QpXZKb"
   },
   "source": [
    "* pd.crosstab(행, 열, normalize =   )\n",
    "\n",
    "<img src='https://github.com/DA4BAM/image/blob/main/crosstab.png?raw=true' width=700/>\n"
   ]
  },
  {
   "cell_type": "code",
   "execution_count": 4,
   "metadata": {
    "colab": {
     "base_uri": "https://localhost:8080/",
     "height": 143
    },
    "executionInfo": {
     "elapsed": 523,
     "status": "ok",
     "timestamp": 1674102522271,
     "user": {
      "displayName": "한기영",
      "userId": "13049187003176135487"
     },
     "user_tz": -540
    },
    "id": "xNNBmdowHt1T",
    "outputId": "6122c4a5-4ade-46cb-a15e-756e43c9db73",
    "tags": []
   },
   "outputs": [
    {
     "data": {
      "text/html": [
       "<div>\n",
       "<style scoped>\n",
       "    .dataframe tbody tr th:only-of-type {\n",
       "        vertical-align: middle;\n",
       "    }\n",
       "\n",
       "    .dataframe tbody tr th {\n",
       "        vertical-align: top;\n",
       "    }\n",
       "\n",
       "    .dataframe thead th {\n",
       "        text-align: right;\n",
       "    }\n",
       "</style>\n",
       "<table border=\"1\" class=\"dataframe\">\n",
       "  <thead>\n",
       "    <tr style=\"text-align: right;\">\n",
       "      <th>Sex</th>\n",
       "      <th>female</th>\n",
       "      <th>male</th>\n",
       "    </tr>\n",
       "    <tr>\n",
       "      <th>Survived</th>\n",
       "      <th></th>\n",
       "      <th></th>\n",
       "    </tr>\n",
       "  </thead>\n",
       "  <tbody>\n",
       "    <tr>\n",
       "      <th>0</th>\n",
       "      <td>0.257962</td>\n",
       "      <td>0.811092</td>\n",
       "    </tr>\n",
       "    <tr>\n",
       "      <th>1</th>\n",
       "      <td>0.742038</td>\n",
       "      <td>0.188908</td>\n",
       "    </tr>\n",
       "  </tbody>\n",
       "</table>\n",
       "</div>"
      ],
      "text/plain": [
       "Sex         female      male\n",
       "Survived                    \n",
       "0         0.257962  0.811092\n",
       "1         0.742038  0.188908"
      ]
     },
     "execution_count": 4,
     "metadata": {},
     "output_type": "execute_result"
    }
   ],
   "source": [
    "pd.crosstab(titanic['Survived'], titanic['Sex'], normalize = 'columns')"
   ]
  },
  {
   "cell_type": "code",
   "execution_count": 5,
   "metadata": {
    "colab": {
     "base_uri": "https://localhost:8080/",
     "height": 143
    },
    "executionInfo": {
     "elapsed": 11,
     "status": "ok",
     "timestamp": 1674102538451,
     "user": {
      "displayName": "한기영",
      "userId": "13049187003176135487"
     },
     "user_tz": -540
    },
    "id": "HqRdrSu-JBbX",
    "outputId": "1c6bc437-7218-4543-fc1c-bc277fb22956",
    "tags": []
   },
   "outputs": [
    {
     "data": {
      "text/html": [
       "<div>\n",
       "<style scoped>\n",
       "    .dataframe tbody tr th:only-of-type {\n",
       "        vertical-align: middle;\n",
       "    }\n",
       "\n",
       "    .dataframe tbody tr th {\n",
       "        vertical-align: top;\n",
       "    }\n",
       "\n",
       "    .dataframe thead th {\n",
       "        text-align: right;\n",
       "    }\n",
       "</style>\n",
       "<table border=\"1\" class=\"dataframe\">\n",
       "  <thead>\n",
       "    <tr style=\"text-align: right;\">\n",
       "      <th>Sex</th>\n",
       "      <th>female</th>\n",
       "      <th>male</th>\n",
       "    </tr>\n",
       "    <tr>\n",
       "      <th>Survived</th>\n",
       "      <th></th>\n",
       "      <th></th>\n",
       "    </tr>\n",
       "  </thead>\n",
       "  <tbody>\n",
       "    <tr>\n",
       "      <th>0</th>\n",
       "      <td>0.147541</td>\n",
       "      <td>0.852459</td>\n",
       "    </tr>\n",
       "    <tr>\n",
       "      <th>1</th>\n",
       "      <td>0.681287</td>\n",
       "      <td>0.318713</td>\n",
       "    </tr>\n",
       "  </tbody>\n",
       "</table>\n",
       "</div>"
      ],
      "text/plain": [
       "Sex         female      male\n",
       "Survived                    \n",
       "0         0.147541  0.852459\n",
       "1         0.681287  0.318713"
      ]
     },
     "execution_count": 5,
     "metadata": {},
     "output_type": "execute_result"
    }
   ],
   "source": [
    "pd.crosstab(titanic['Survived'], titanic['Sex'], normalize = 'index')"
   ]
  },
  {
   "cell_type": "code",
   "execution_count": 6,
   "metadata": {
    "colab": {
     "base_uri": "https://localhost:8080/",
     "height": 143
    },
    "executionInfo": {
     "elapsed": 434,
     "status": "ok",
     "timestamp": 1674102556705,
     "user": {
      "displayName": "한기영",
      "userId": "13049187003176135487"
     },
     "user_tz": -540
    },
    "id": "S8yAEvtzJHEg",
    "outputId": "dcb340af-1f07-4ec3-d677-a40588f3f7b7",
    "tags": []
   },
   "outputs": [
    {
     "data": {
      "text/html": [
       "<div>\n",
       "<style scoped>\n",
       "    .dataframe tbody tr th:only-of-type {\n",
       "        vertical-align: middle;\n",
       "    }\n",
       "\n",
       "    .dataframe tbody tr th {\n",
       "        vertical-align: top;\n",
       "    }\n",
       "\n",
       "    .dataframe thead th {\n",
       "        text-align: right;\n",
       "    }\n",
       "</style>\n",
       "<table border=\"1\" class=\"dataframe\">\n",
       "  <thead>\n",
       "    <tr style=\"text-align: right;\">\n",
       "      <th>Embarked</th>\n",
       "      <th>C</th>\n",
       "      <th>Q</th>\n",
       "      <th>S</th>\n",
       "    </tr>\n",
       "    <tr>\n",
       "      <th>Survived</th>\n",
       "      <th></th>\n",
       "      <th></th>\n",
       "      <th></th>\n",
       "    </tr>\n",
       "  </thead>\n",
       "  <tbody>\n",
       "    <tr>\n",
       "      <th>0</th>\n",
       "      <td>0.084175</td>\n",
       "      <td>0.05275</td>\n",
       "      <td>0.479237</td>\n",
       "    </tr>\n",
       "    <tr>\n",
       "      <th>1</th>\n",
       "      <td>0.104377</td>\n",
       "      <td>0.03367</td>\n",
       "      <td>0.245791</td>\n",
       "    </tr>\n",
       "  </tbody>\n",
       "</table>\n",
       "</div>"
      ],
      "text/plain": [
       "Embarked         C        Q         S\n",
       "Survived                             \n",
       "0         0.084175  0.05275  0.479237\n",
       "1         0.104377  0.03367  0.245791"
      ]
     },
     "execution_count": 6,
     "metadata": {},
     "output_type": "execute_result"
    }
   ],
   "source": [
    "pd.crosstab(titanic['Survived'], titanic['Embarked'], normalize = 'all')"
   ]
  },
  {
   "cell_type": "markdown",
   "metadata": {
    "id": "bBPSpzBhVua5"
   },
   "source": [
    "### **(2) 시각화**\n",
    "* mosaic\n",
    "* (참조) 100% Stacked Bar\n"
   ]
  },
  {
   "cell_type": "markdown",
   "metadata": {
    "id": "LAMXGCpsWJm5"
   },
   "source": [
    "1) Pclass --> Survived"
   ]
  },
  {
   "cell_type": "markdown",
   "metadata": {
    "id": "dmopxnQQZX4_"
   },
   "source": [
    "* mosaic plot\n",
    "    * mosaic(dataframe, [ feature, target])"
   ]
  },
  {
   "cell_type": "code",
   "execution_count": 10,
   "metadata": {
    "tags": []
   },
   "outputs": [
    {
     "data": {
      "text/plain": [
       "0.6161616161616161"
      ]
     },
     "execution_count": 10,
     "metadata": {},
     "output_type": "execute_result"
    }
   ],
   "source": [
    "surv_rate = titanic['Survived'].mean()\n",
    "die_rate = 1-surv_rate\n",
    "die_rate"
   ]
  },
  {
   "cell_type": "code",
   "execution_count": 11,
   "metadata": {
    "colab": {
     "base_uri": "https://localhost:8080/",
     "height": 269
    },
    "executionInfo": {
     "elapsed": 7,
     "status": "ok",
     "timestamp": 1674103246065,
     "user": {
      "displayName": "한기영",
      "userId": "13049187003176135487"
     },
     "user_tz": -540
    },
    "id": "t10ETkNKHcNi",
    "outputId": "3484f935-df33-4e74-c7ac-fa42d6d1c7cb",
    "tags": []
   },
   "outputs": [
    {
     "data": {
      "image/png": "[encoded data removed]",
      "text/plain": [
       "<Figure size 640x480 with 3 Axes>"
      ]
     },
     "metadata": {},
     "output_type": "display_data"
    }
   ],
   "source": [
    "# Pclass별 생존여부를 mosaic plot으로 그려 봅시다.\n",
    "mosaic(titanic, ['Pclass','Survived']) \n",
    "plt.axhline(1- titanic['Survived'].mean(), color = 'r')  # 평균선, 사망률 부터 y 시작이라\n",
    "plt.show()"
   ]
  },
  {
   "attachments": {
    "3eac82d5-4840-4088-b97f-81862942de0a.png": {
     "image/png": "[encoded data removed]"
    }
   },
   "cell_type": "markdown",
   "metadata": {},
   "source": [
    "비율 크기 순서대로 그려짐\n",
    "\n",
    "![image.png](attachment:3eac82d5-4840-4088-b97f-81862942de0a.png)"
   ]
  },
  {
   "cell_type": "code",
   "execution_count": null,
   "metadata": {},
   "outputs": [],
   "source": []
  },
  {
   "cell_type": "code",
   "execution_count": 12,
   "metadata": {
    "tags": []
   },
   "outputs": [
    {
     "ename": "SyntaxError",
     "evalue": "invalid syntax (2356639726.py, line 1)",
     "output_type": "error",
     "traceback": [
      "\u001b[1;36m  Cell \u001b[1;32mIn[12], line 1\u001b[1;36m\u001b[0m\n\u001b[1;33m    객실 등급과 생존율이 상관이 없다면? 아래와 같이 나오겠다.\u001b[0m\n\u001b[1;37m       ^\u001b[0m\n\u001b[1;31mSyntaxError\u001b[0m\u001b[1;31m:\u001b[0m invalid syntax\n"
     ]
    }
   ],
   "source": [
    "객실 등급과 생존율이 상관이 없다면? 아래와 같이 나오겠다.\n",
    "\n",
    "전체 평균선으로 끊긴다\n",
    "\n"
   ]
  },
  {
   "cell_type": "markdown",
   "metadata": {
    "id": "SF6cAab1aKw5"
   },
   "source": [
    "① X축 길이는 각 객실등급별 승객비율을 나타냅니다.  \n",
    "② 그 중 3등급 객실에 대해서 보면, y축의 길이는, 3등급 객실 승객 중에서 사망, 생존 비율을 의미합니다."
   ]
  },
  {
   "cell_type": "markdown",
   "metadata": {
    "id": "QprpfbLPYoA7"
   },
   "source": [
    "* 100% Stacked Bar\n",
    "    * 먼저 crosstab으로 집계 : pd.crosstab(**feature**, **target**, normalize = **'index'**)\n",
    "    * .plot.bar(stacked = true)\n",
    "    * 전체 평균선 : plt.axhline()"
   ]
  },
  {
   "cell_type": "code",
   "execution_count": null,
   "metadata": {
    "colab": {
     "base_uri": "https://localhost:8080/",
     "height": 367
    },
    "executionInfo": {
     "elapsed": 468,
     "status": "ok",
     "timestamp": 1674103255667,
     "user": {
      "displayName": "한기영",
      "userId": "13049187003176135487"
     },
     "user_tz": -540
    },
    "id": "qahDr2FxNLKJ",
    "outputId": "bd0afe95-5428-42eb-96c6-c99c4b9fa7f8"
   },
   "outputs": [],
   "source": [
    "temp = pd.crosstab(titanic['Pclass'], titanic['Survived'], normalize = 'index')\n",
    "print(temp)\n",
    "temp.plot.bar(stacked=True)\n",
    "plt.axhline(1-titanic['Survived'].mean(), color = 'r')\n",
    "plt.show()"
   ]
  },
  {
   "cell_type": "markdown",
   "metadata": {
    "id": "r8bveTITaDsU"
   },
   "source": [
    "비율만 비교하므로 양에 대한 비교는 할 수 없다!"
   ]
  },
  {
   "cell_type": "markdown",
   "metadata": {
    "id": "xSWBmU_Yeu5A"
   },
   "source": [
    "<img src='https://raw.githubusercontent.com/jangrae/img/master/practice_01.png' width=120 align=\"left\"/>"
   ]
  },
  {
   "cell_type": "markdown",
   "metadata": {
    "id": "8v7MIkTFGZun"
   },
   "source": [
    "아래 관계에 대해서 교차표와 시각화(mosaic)를 수행하고, feature와 target 간에 관계가 있는지 분석해 봅시다.\n"
   ]
  },
  {
   "cell_type": "code",
   "execution_count": null,
   "metadata": {
    "colab": {
     "base_uri": "https://localhost:8080/",
     "height": 206
    },
    "executionInfo": {
     "elapsed": 1348,
     "status": "ok",
     "timestamp": 1674103472898,
     "user": {
      "displayName": "한기영",
      "userId": "13049187003176135487"
     },
     "user_tz": -540
    },
    "id": "SaSnWLnEV6k2",
    "outputId": "bdce4f49-86b7-48d2-f682-f518eee04c6b"
   },
   "outputs": [],
   "source": [
    "titanic.head()"
   ]
  },
  {
   "cell_type": "markdown",
   "metadata": {
    "id": "1KkdJ53SGioZ"
   },
   "source": [
    "* [문1] Sex --> Survived"
   ]
  },
  {
   "cell_type": "code",
   "execution_count": null,
   "metadata": {},
   "outputs": [],
   "source": []
  },
  {
   "cell_type": "code",
   "execution_count": null,
   "metadata": {},
   "outputs": [],
   "source": []
  },
  {
   "cell_type": "code",
   "execution_count": null,
   "metadata": {},
   "outputs": [],
   "source": []
  },
  {
   "cell_type": "markdown",
   "metadata": {
    "id": "BGrJExbTZA-m"
   },
   "source": [
    "* [문2] Embarked --> Survived"
   ]
  },
  {
   "cell_type": "code",
   "execution_count": null,
   "metadata": {},
   "outputs": [],
   "source": []
  },
  {
   "cell_type": "code",
   "execution_count": null,
   "metadata": {},
   "outputs": [],
   "source": []
  },
  {
   "cell_type": "code",
   "execution_count": null,
   "metadata": {},
   "outputs": [],
   "source": []
  },
  {
   "cell_type": "markdown",
   "metadata": {
    "id": "bRXfrDPRZEGa"
   },
   "source": [
    "* [문3] Title --> Survived"
   ]
  },
  {
   "cell_type": "code",
   "execution_count": null,
   "metadata": {},
   "outputs": [],
   "source": []
  },
  {
   "cell_type": "code",
   "execution_count": null,
   "metadata": {},
   "outputs": [],
   "source": []
  },
  {
   "cell_type": "code",
   "execution_count": null,
   "metadata": {},
   "outputs": [],
   "source": []
  },
  {
   "cell_type": "markdown",
   "metadata": {
    "id": "dmhYzOHLXvJC"
   },
   "source": [
    "### **(3) 수치화 : 카이제곱검정**"
   ]
  },
  {
   "cell_type": "markdown",
   "metadata": {
    "id": "9HGXCJWhY5MC"
   },
   "source": [
    "* 카이제곱검정 : 범주형 변수들 사이에 어떤 관계가 있는지, 수치화 하는 방법"
   ]
  },
  {
   "cell_type": "markdown",
   "metadata": {
    "id": "8p7ZrC7rj8Ei"
   },
   "source": [
    "![image.png](https://github.com/DA4BAM/image/blob/main/%EC%B9%B4%EC%9D%B4%EC%A0%9C%EA%B3%B1%20%ED%86%B5%EA%B3%84%EB%9F%89.png?raw=true)"
   ]
  },
  {
   "cell_type": "markdown",
   "metadata": {
    "id": "A2fDnaln9310"
   },
   "source": [
    "* 카이 제곱 통계량은\n",
    "    * 클수록 기대빈도로부터 실제 값에 차이가 크다는 의미.\n",
    "    * 계산식으로 볼 때, 범주의 수가 늘어날 수록 값은 커지게 되어 있음.\n",
    "    * 보통, 자유도의 2~3배 보다 크면, 차이가 있다고 본다. \n",
    "\n",
    "* 범주형 변수의 자유도 : 범주의 수 - 1\n",
    "\n",
    "* 카이제곱검정에서는\n",
    "    * x 변수의 자유도 × y 변수의 자유도\n",
    "    * 예 : Pclass --> Survived\n",
    "        * Pclass : 범주가 3개, Survived : 2개\n",
    "        * (3-1) * (2-1) = 2\n",
    "        * 그러므로, 2의 2 ~ 3배인 4 ~ 6 보다 카이제곱 통계량이 크면, 차이가 있다고 볼수 있음.\n"
   ]
  },
  {
   "cell_type": "markdown",
   "metadata": {
    "id": "CwbDv0nEkUIz"
   },
   "source": [
    "* 타이타닉 데이터에서 객실등급과 생존여부 간의 카이제곱 검정을 수행해 봅시다."
   ]
  },
  {
   "cell_type": "code",
   "execution_count": null,
   "metadata": {
    "colab": {
     "base_uri": "https://localhost:8080/",
     "height": 143
    },
    "executionInfo": {
     "elapsed": 436,
     "status": "ok",
     "timestamp": 1674105581618,
     "user": {
      "displayName": "한기영",
      "userId": "13049187003176135487"
     },
     "user_tz": -540
    },
    "id": "Jl7IPy0GkeEn",
    "outputId": "7cafa4ae-ddb1-428d-a5d8-1dc2c88c867e"
   },
   "outputs": [],
   "source": [
    "pd.crosstab(titanic['Survived'], titanic['Pclass'])"
   ]
  },
  {
   "cell_type": "code",
   "execution_count": null,
   "metadata": {
    "colab": {
     "base_uri": "https://localhost:8080/"
    },
    "executionInfo": {
     "elapsed": 430,
     "status": "ok",
     "timestamp": 1674105594972,
     "user": {
      "displayName": "한기영",
      "userId": "13049187003176135487"
     },
     "user_tz": -540
    },
    "id": "ZIhdTgsSnE_P",
    "outputId": "59105e79-cba2-4acf-d01a-687f86958910"
   },
   "outputs": [],
   "source": [
    "# 1) 먼저 교차표 집계\n",
    "table = pd.crosstab(titanic['Survived'], titanic['Pclass'])\n",
    "print(table)\n",
    "print('-' * 50)\n",
    "\n",
    "# 2) 카이제곱검정\n",
    "spst.chi2_contingency(table)"
   ]
  },
  {
   "cell_type": "markdown",
   "metadata": {
    "id": "Uq1lijGhsw72"
   },
   "source": [
    "<img src='https://raw.githubusercontent.com/jangrae/img/master/practice_01.png' width=120 align=\"left\"/>"
   ]
  },
  {
   "cell_type": "markdown",
   "metadata": {
    "id": "ai4Io_lInE_Q"
   },
   "source": [
    "다음의 관계에 대해 수치화 해 봅시다."
   ]
  },
  {
   "cell_type": "markdown",
   "metadata": {
    "id": "DIIf_Gt9foRO"
   },
   "source": [
    "* [문1] Sex --> Survived"
   ]
  },
  {
   "cell_type": "code",
   "execution_count": null,
   "metadata": {},
   "outputs": [],
   "source": []
  },
  {
   "cell_type": "markdown",
   "metadata": {
    "id": "sfkwdLVvZIOP"
   },
   "source": [
    "* [문2] Embarked --> Survived"
   ]
  },
  {
   "cell_type": "code",
   "execution_count": null,
   "metadata": {},
   "outputs": [],
   "source": []
  },
  {
   "cell_type": "markdown",
   "metadata": {
    "id": "WCmKwOwSZIOR"
   },
   "source": [
    "* [문3] Title --> Survived"
   ]
  },
  {
   "cell_type": "code",
   "execution_count": null,
   "metadata": {},
   "outputs": [],
   "source": []
  }
 ],
 "metadata": {
  "colab": {
   "provenance": [],
   "toc_visible": true
  },
  "kernelspec": {
   "display_name": "Python 3 (ipykernel)",
   "language": "python",
   "name": "python3"
  },
  "language_info": {
   "codemirror_mode": {
    "name": "ipython",
    "version": 3
   },
   "file_extension": ".py",
   "mimetype": "text/x-python",
   "name": "python",
   "nbconvert_exporter": "python",
   "pygments_lexer": "ipython3",
   "version": "3.11.3"
  }
 },
 "nbformat": 4,
 "nbformat_minor": 4
}
