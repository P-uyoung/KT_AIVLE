{
 "cells": [
  {
   "cell_type": "markdown",
   "id": "55add5c1",
   "metadata": {},
   "source": [
    "# 안녕하세요^^ \n",
    "# AIVLE 미니 프로젝트에 오신 여러분을 환영합니다.\n",
    "* 본 과정에서는 실제 사례와 데이터를 기반으로 문제를 해결하는 전체 과정을 자기 주도형 실습으로 진행해볼 예정입니다.\n",
    "* 앞선 교육과정을 정리하는 마음과 지금까지 배운 내용을 바탕으로 문제 해결을 해볼게요!\n",
    "* 미니 프로젝트를 통한 문제 해결 과정 'A에서 Z까지', 지금부터 시작합니다!"
   ]
  },
  {
   "cell_type": "markdown",
   "id": "84008ade",
   "metadata": {},
   "source": [
    "---"
   ]
  },
  {
   "cell_type": "markdown",
   "id": "bright-evolution",
   "metadata": {},
   "source": [
    "# (실습준비) 데이터 불러오기부터\n",
    "\n",
    "* 17년도부터 21년도 까지의 데이터를 train set, 22년도의 6개월치 데이터를 test set 으로 설정합니다."
   ]
  },
  {
   "cell_type": "code",
   "execution_count": 2,
   "id": "63e99950-c9a9-4854-8336-bc87e114100a",
   "metadata": {
    "tags": []
   },
   "outputs": [],
   "source": [
    "import pandas as pd\n",
    "import numpy as np\n",
    "import matplotlib.pyplot as plt\n",
    "import seaborn as sns\n",
    "import scipy.stats as spst\n",
    "import joblib"
   ]
  },
  {
   "cell_type": "code",
   "execution_count": 4,
   "id": "innocent-token",
   "metadata": {
    "tags": []
   },
   "outputs": [],
   "source": [
    "# 학습 데이터 로딩\n",
    "df_total = joblib.load('train.pkl')\n",
    "df_test = joblib.load('test.pkl')"
   ]
  },
  {
   "cell_type": "markdown",
   "id": "polished-myrtle",
   "metadata": {},
   "source": [
    "---"
   ]
  },
  {
   "cell_type": "markdown",
   "id": "palestinian-catalog",
   "metadata": {},
   "source": [
    "# 1. 데이터 전처리"
   ]
  },
  {
   "cell_type": "markdown",
   "id": "89892756",
   "metadata": {},
   "source": [
    "#### [실습문제1] 열 추가 \n",
    "* 기존 '기준일ID'열에서 날짜 데이터를 추출하여 새로운 열로 추가 합니다.\n",
    "    - pd.to_datetime() 함수를 사용해 '기준일ID'열을 datetime 형식으로 변경하겠습니다.\n",
    "    - year, month, day 열로 기존 데이터 프레임에 연월일 정보를 저장합니다.\n",
    "    - 데이터 프레임 열에 대해 날짜 정보를 얻을 때에는 **dt.year**, **dt.month**, **dt.day** 속성을 사용합니다. "
   ]
  },
  {
   "cell_type": "code",
   "execution_count": 5,
   "id": "3553fb5f",
   "metadata": {
    "tags": []
   },
   "outputs": [
    {
     "name": "stdout",
     "output_type": "stream",
     "text": [
      "<class 'pandas.core.frame.DataFrame'>\n",
      "RangeIndex: 43512 entries, 0 to 43511\n",
      "Data columns (total 31 columns):\n",
      " #   Column           Non-Null Count  Dtype         \n",
      "---  ------           --------------  -----         \n",
      " 0   기준일ID            43512 non-null  datetime64[ns]\n",
      " 1   시간대구분            43512 non-null  category      \n",
      " 2   총생활인구수           43512 non-null  float64       \n",
      " 3   남자0세부터9세생활인구수    43512 non-null  float64       \n",
      " 4   남자10세부터14세생활인구수  43512 non-null  float64       \n",
      " 5   남자15세부터19세생활인구수  43512 non-null  float64       \n",
      " 6   남자20세부터24세생활인구수  43512 non-null  float64       \n",
      " 7   남자25세부터29세생활인구수  43512 non-null  float64       \n",
      " 8   남자30세부터34세생활인구수  43512 non-null  float64       \n",
      " 9   남자35세부터39세생활인구수  43512 non-null  float64       \n",
      " 10  남자40세부터44세생활인구수  43512 non-null  float64       \n",
      " 11  남자45세부터49세생활인구수  43512 non-null  float64       \n",
      " 12  남자50세부터54세생활인구수  43512 non-null  float64       \n",
      " 13  남자55세부터59세생활인구수  43512 non-null  float64       \n",
      " 14  남자60세부터64세생활인구수  43512 non-null  float64       \n",
      " 15  남자65세부터69세생활인구수  43512 non-null  float64       \n",
      " 16  남자70세이상생활인구수     43512 non-null  float64       \n",
      " 17  여자0세부터9세생활인구수    43512 non-null  float64       \n",
      " 18  여자10세부터14세생활인구수  43512 non-null  float64       \n",
      " 19  여자15세부터19세생활인구수  43512 non-null  float64       \n",
      " 20  여자20세부터24세생활인구수  43512 non-null  float64       \n",
      " 21  여자25세부터29세생활인구수  43512 non-null  float64       \n",
      " 22  여자30세부터34세생활인구수  43512 non-null  float64       \n",
      " 23  여자35세부터39세생활인구수  43512 non-null  float64       \n",
      " 24  여자40세부터44세생활인구수  43512 non-null  float64       \n",
      " 25  여자45세부터49세생활인구수  43512 non-null  float64       \n",
      " 26  여자50세부터54세생활인구수  43512 non-null  float64       \n",
      " 27  여자55세부터59세생활인구수  43512 non-null  float64       \n",
      " 28  여자60세부터64세생활인구수  43512 non-null  float64       \n",
      " 29  여자65세부터69세생활인구수  43512 non-null  float64       \n",
      " 30  여자70세이상생활인구수     43512 non-null  float64       \n",
      "dtypes: category(1), datetime64[ns](1), float64(29)\n",
      "memory usage: 10.0 MB\n"
     ]
    }
   ],
   "source": [
    "# 아래에 실습코드를 작성하고 결과를 확인합니다.\n",
    "df_total['year'], df_total['month'] = df_total['기준일ID'].dt.year\n"
   ]
  },
  {
   "cell_type": "code",
   "execution_count": 3,
   "id": "85808d0d",
   "metadata": {},
   "outputs": [],
   "source": [
    "# 아래에 실습코드를 작성하고 결과를 확인합니다.\n",
    "\n",
    "\n"
   ]
  },
  {
   "cell_type": "markdown",
   "id": "fefaf235",
   "metadata": {},
   "source": [
    "#### [실습문제2] 불필요한 열 제거 및 열 이름 변경\n",
    "* df_total과 df_test에서 '총생활인구수'외에 불필요한 열을 제거 하도록 하겠습니다.\n",
    "* 시간 데이터를 남기고, '시간대구분' column 을 'hour'로 rename 하도록 하겠습니다. "
   ]
  },
  {
   "cell_type": "code",
   "execution_count": 4,
   "id": "2f024b9b",
   "metadata": {},
   "outputs": [],
   "source": [
    "# 아래에 실습코드를 작성하고 결과를 확인합니다.\n",
    "\n",
    "\n"
   ]
  },
  {
   "cell_type": "code",
   "execution_count": 5,
   "id": "0bd4ebf8",
   "metadata": {},
   "outputs": [],
   "source": [
    "# 아래에 실습코드를 작성하고 결과를 확인합니다.\n",
    "\n",
    "\n"
   ]
  },
  {
   "cell_type": "markdown",
   "id": "a3431933",
   "metadata": {},
   "source": [
    "#### [실습문제3] 시프트 & 롤링\n",
    "* shift()를 활용하여 이동할 행 수를 지정합니다.\n",
    "* rolling()을 활용하여 추가할 이동평균 수를 지정합니다."
   ]
  },
  {
   "cell_type": "code",
   "execution_count": 7,
   "id": "60c1c633",
   "metadata": {},
   "outputs": [],
   "source": [
    "# 아래에 실습코드를 작성하고 결과를 확인합니다.\n",
    "\n"
   ]
  },
  {
   "cell_type": "code",
   "execution_count": 8,
   "id": "6b4d6ebd",
   "metadata": {},
   "outputs": [],
   "source": [
    "# 아래에 실습코드를 작성하고 결과를 확인합니다.\n",
    "\n"
   ]
  },
  {
   "cell_type": "markdown",
   "id": "combined-python",
   "metadata": {},
   "source": [
    "#### [실습문제4] 결측치 처리 및 불필요한 열 제거\n",
    "* 롤링 & 시프트 과정에서 발생한 결측치를 처리하도록 하겠습니다.\n",
    "* 불필요한 열을 추가로 제거 하겠습니다.(시간 관련 행들)"
   ]
  },
  {
   "cell_type": "code",
   "execution_count": 9,
   "id": "de88e130",
   "metadata": {},
   "outputs": [],
   "source": [
    "# 아래에 실습코드를 작성하고 결과를 확인합니다.\n",
    "\n"
   ]
  },
  {
   "cell_type": "code",
   "execution_count": 10,
   "id": "driven-optimization",
   "metadata": {},
   "outputs": [],
   "source": [
    "# 아래에 실습코드를 작성하고 결과를 확인합니다.\n",
    "\n",
    "\n"
   ]
  },
  {
   "cell_type": "markdown",
   "id": "dependent-motion",
   "metadata": {},
   "source": [
    "#### [실습문제5] train, test 데이터 나누기\n",
    "* df_total과 df_test를 각각 train_x, train_y, test_x, test_y 로 나누어 주세요.\n",
    "* 인덱스를 리셋 해주세요."
   ]
  },
  {
   "cell_type": "code",
   "execution_count": 18,
   "id": "92652b6b",
   "metadata": {},
   "outputs": [],
   "source": [
    "# 아래에 실습코드를 작성하고 결과를 확인합니다.\n",
    "\n",
    "\n"
   ]
  },
  {
   "cell_type": "code",
   "execution_count": 19,
   "id": "b49c4fb9",
   "metadata": {},
   "outputs": [],
   "source": [
    "# 아래에 실습코드를 작성하고 결과를 확인합니다.\n",
    "\n",
    "\n",
    "\n"
   ]
  },
  {
   "cell_type": "markdown",
   "id": "dramatic-meditation",
   "metadata": {},
   "source": [
    "---"
   ]
  },
  {
   "cell_type": "markdown",
   "id": "bridal-closer",
   "metadata": {},
   "source": [
    "## 다음 단계를 위해서 데이터를 저장하겠습니다."
   ]
  },
  {
   "cell_type": "code",
   "execution_count": 20,
   "id": "designed-cartridge",
   "metadata": {},
   "outputs": [],
   "source": [
    "# CSV로 저장\n",
    "train_x.to_csv('train_x.csv', index = False)\n",
    "train_y.to_csv('train_y.csv', index = False)\n",
    "test_x.to_csv('test_x.csv', index = False)\n",
    "test_y.to_csv('test_y.csv', index = False)"
   ]
  },
  {
   "cell_type": "markdown",
   "id": "b70ee587",
   "metadata": {},
   "source": [
    "---"
   ]
  }
 ],
 "metadata": {
  "kernelspec": {
   "display_name": "Python 3 (ipykernel)",
   "language": "python",
   "name": "python3"
  },
  "language_info": {
   "codemirror_mode": {
    "name": "ipython",
    "version": 3
   },
   "file_extension": ".py",
   "mimetype": "text/x-python",
   "name": "python",
   "nbconvert_exporter": "python",
   "pygments_lexer": "ipython3",
   "version": "3.11.3"
  },
  "vscode": {
   "interpreter": {
    "hash": "f08154012ddadd8e950e6e9e035c7a7b32c136e7647e9b7c77e02eb723a8bedb"
   }
  }
 },
 "nbformat": 4,
 "nbformat_minor": 5
}
