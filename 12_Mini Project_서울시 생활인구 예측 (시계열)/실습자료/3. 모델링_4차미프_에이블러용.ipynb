{
 "cells": [
  {
   "cell_type": "markdown",
   "id": "22f7625f",
   "metadata": {},
   "source": [
    "# 안녕하세요^^ \n",
    "# AIVLE 미니 프로젝트에 오신 여러분을 환영합니다.\n",
    "* 본 과정에서는 실제 사례와 데이터를 기반으로 문제를 해결하는 전체 과정을 자기 주도형 실습으로 진행해볼 예정입니다.\n",
    "* 앞선 교육과정을 정리하는 마음과 지금까지 배운 내용을 바탕으로 문제 해결을 해볼게요!\n",
    "* 미니 프로젝트를 통한 문제 해결 과정 'A에서 Z까지', 지금부터 시작합니다!"
   ]
  },
  {
   "cell_type": "markdown",
   "id": "04b1edbb",
   "metadata": {},
   "source": [
    "---"
   ]
  },
  {
   "cell_type": "markdown",
   "id": "cubic-stress",
   "metadata": {},
   "source": [
    "# (실습준비) 데이터 불러오기부터"
   ]
  },
  {
   "cell_type": "code",
   "execution_count": 2,
   "id": "7b96dbc9",
   "metadata": {},
   "outputs": [],
   "source": [
    "import pandas as pd"
   ]
  },
  {
   "cell_type": "code",
   "execution_count": 4,
   "id": "efficient-minutes",
   "metadata": {},
   "outputs": [],
   "source": [
    "# 학습/평가 데이터 로딩\n",
    "x_train = pd.read_csv('train_x.csv')\n",
    "y_train = pd.read_csv('train_y.csv')\n",
    "x_test = pd.read_csv('test_x.csv')\n",
    "y_test = pd.read_csv('test_y.csv')"
   ]
  },
  {
   "cell_type": "code",
   "execution_count": 5,
   "id": "9bb87624",
   "metadata": {},
   "outputs": [
    {
     "data": {
      "text/html": [
       "<div>\n",
       "<style scoped>\n",
       "    .dataframe tbody tr th:only-of-type {\n",
       "        vertical-align: middle;\n",
       "    }\n",
       "\n",
       "    .dataframe tbody tr th {\n",
       "        vertical-align: top;\n",
       "    }\n",
       "\n",
       "    .dataframe thead th {\n",
       "        text-align: right;\n",
       "    }\n",
       "</style>\n",
       "<table border=\"1\" class=\"dataframe\">\n",
       "  <thead>\n",
       "    <tr style=\"text-align: right;\">\n",
       "      <th></th>\n",
       "      <th>TRP</th>\n",
       "      <th>year</th>\n",
       "      <th>month</th>\n",
       "      <th>day</th>\n",
       "      <th>hour</th>\n",
       "      <th>TRP_day</th>\n",
       "    </tr>\n",
       "  </thead>\n",
       "  <tbody>\n",
       "    <tr>\n",
       "      <th>0</th>\n",
       "      <td>31535.2200</td>\n",
       "      <td>1</td>\n",
       "      <td>1</td>\n",
       "      <td>1</td>\n",
       "      <td>0</td>\n",
       "      <td>31535.2</td>\n",
       "    </tr>\n",
       "    <tr>\n",
       "      <th>1</th>\n",
       "      <td>31188.9174</td>\n",
       "      <td>1</td>\n",
       "      <td>1</td>\n",
       "      <td>1</td>\n",
       "      <td>1</td>\n",
       "      <td>31362.1</td>\n",
       "    </tr>\n",
       "    <tr>\n",
       "      <th>2</th>\n",
       "      <td>31240.4974</td>\n",
       "      <td>1</td>\n",
       "      <td>1</td>\n",
       "      <td>1</td>\n",
       "      <td>2</td>\n",
       "      <td>31321.5</td>\n",
       "    </tr>\n",
       "    <tr>\n",
       "      <th>3</th>\n",
       "      <td>31442.4314</td>\n",
       "      <td>1</td>\n",
       "      <td>1</td>\n",
       "      <td>1</td>\n",
       "      <td>3</td>\n",
       "      <td>31351.8</td>\n",
       "    </tr>\n",
       "    <tr>\n",
       "      <th>4</th>\n",
       "      <td>31922.7751</td>\n",
       "      <td>1</td>\n",
       "      <td>1</td>\n",
       "      <td>1</td>\n",
       "      <td>4</td>\n",
       "      <td>31466.0</td>\n",
       "    </tr>\n",
       "    <tr>\n",
       "      <th>...</th>\n",
       "      <td>...</td>\n",
       "      <td>...</td>\n",
       "      <td>...</td>\n",
       "      <td>...</td>\n",
       "      <td>...</td>\n",
       "      <td>...</td>\n",
       "    </tr>\n",
       "    <tr>\n",
       "      <th>43507</th>\n",
       "      <td>33060.4555</td>\n",
       "      <td>12</td>\n",
       "      <td>12</td>\n",
       "      <td>31</td>\n",
       "      <td>19</td>\n",
       "      <td>36846.6</td>\n",
       "    </tr>\n",
       "    <tr>\n",
       "      <th>43508</th>\n",
       "      <td>32360.1898</td>\n",
       "      <td>12</td>\n",
       "      <td>12</td>\n",
       "      <td>31</td>\n",
       "      <td>20</td>\n",
       "      <td>35833.3</td>\n",
       "    </tr>\n",
       "    <tr>\n",
       "      <th>43509</th>\n",
       "      <td>31417.3991</td>\n",
       "      <td>12</td>\n",
       "      <td>12</td>\n",
       "      <td>31</td>\n",
       "      <td>21</td>\n",
       "      <td>34814.8</td>\n",
       "    </tr>\n",
       "    <tr>\n",
       "      <th>43510</th>\n",
       "      <td>30763.0563</td>\n",
       "      <td>12</td>\n",
       "      <td>12</td>\n",
       "      <td>31</td>\n",
       "      <td>22</td>\n",
       "      <td>33921.2</td>\n",
       "    </tr>\n",
       "    <tr>\n",
       "      <th>43511</th>\n",
       "      <td>30404.2740</td>\n",
       "      <td>12</td>\n",
       "      <td>12</td>\n",
       "      <td>31</td>\n",
       "      <td>23</td>\n",
       "      <td>33052.0</td>\n",
       "    </tr>\n",
       "  </tbody>\n",
       "</table>\n",
       "<p>43512 rows × 6 columns</p>\n",
       "</div>"
      ],
      "text/plain": [
       "              TRP  year  month  day  hour  TRP_day\n",
       "0      31535.2200     1      1    1     0  31535.2\n",
       "1      31188.9174     1      1    1     1  31362.1\n",
       "2      31240.4974     1      1    1     2  31321.5\n",
       "3      31442.4314     1      1    1     3  31351.8\n",
       "4      31922.7751     1      1    1     4  31466.0\n",
       "...           ...   ...    ...  ...   ...      ...\n",
       "43507  33060.4555    12     12   31    19  36846.6\n",
       "43508  32360.1898    12     12   31    20  35833.3\n",
       "43509  31417.3991    12     12   31    21  34814.8\n",
       "43510  30763.0563    12     12   31    22  33921.2\n",
       "43511  30404.2740    12     12   31    23  33052.0\n",
       "\n",
       "[43512 rows x 6 columns]"
      ]
     },
     "execution_count": 5,
     "metadata": {},
     "output_type": "execute_result"
    }
   ],
   "source": [
    "x_train"
   ]
  },
  {
   "cell_type": "code",
   "execution_count": 6,
   "id": "ea4416f3",
   "metadata": {},
   "outputs": [
    {
     "data": {
      "text/html": [
       "<div>\n",
       "<style scoped>\n",
       "    .dataframe tbody tr th:only-of-type {\n",
       "        vertical-align: middle;\n",
       "    }\n",
       "\n",
       "    .dataframe tbody tr th {\n",
       "        vertical-align: top;\n",
       "    }\n",
       "\n",
       "    .dataframe thead th {\n",
       "        text-align: right;\n",
       "    }\n",
       "</style>\n",
       "<table border=\"1\" class=\"dataframe\">\n",
       "  <thead>\n",
       "    <tr style=\"text-align: right;\">\n",
       "      <th></th>\n",
       "      <th>target</th>\n",
       "    </tr>\n",
       "  </thead>\n",
       "  <tbody>\n",
       "    <tr>\n",
       "      <th>0</th>\n",
       "      <td>30716.3268</td>\n",
       "    </tr>\n",
       "    <tr>\n",
       "      <th>1</th>\n",
       "      <td>30673.4813</td>\n",
       "    </tr>\n",
       "    <tr>\n",
       "      <th>2</th>\n",
       "      <td>30535.9573</td>\n",
       "    </tr>\n",
       "    <tr>\n",
       "      <th>3</th>\n",
       "      <td>30884.0372</td>\n",
       "    </tr>\n",
       "    <tr>\n",
       "      <th>4</th>\n",
       "      <td>31353.9409</td>\n",
       "    </tr>\n",
       "    <tr>\n",
       "      <th>...</th>\n",
       "      <td>...</td>\n",
       "    </tr>\n",
       "    <tr>\n",
       "      <th>43507</th>\n",
       "      <td>33313.8579</td>\n",
       "    </tr>\n",
       "    <tr>\n",
       "      <th>43508</th>\n",
       "      <td>33467.1922</td>\n",
       "    </tr>\n",
       "    <tr>\n",
       "      <th>43509</th>\n",
       "      <td>31867.1341</td>\n",
       "    </tr>\n",
       "    <tr>\n",
       "      <th>43510</th>\n",
       "      <td>31615.5016</td>\n",
       "    </tr>\n",
       "    <tr>\n",
       "      <th>43511</th>\n",
       "      <td>32019.4949</td>\n",
       "    </tr>\n",
       "  </tbody>\n",
       "</table>\n",
       "<p>43512 rows × 1 columns</p>\n",
       "</div>"
      ],
      "text/plain": [
       "           target\n",
       "0      30716.3268\n",
       "1      30673.4813\n",
       "2      30535.9573\n",
       "3      30884.0372\n",
       "4      31353.9409\n",
       "...           ...\n",
       "43507  33313.8579\n",
       "43508  33467.1922\n",
       "43509  31867.1341\n",
       "43510  31615.5016\n",
       "43511  32019.4949\n",
       "\n",
       "[43512 rows x 1 columns]"
      ]
     },
     "execution_count": 6,
     "metadata": {},
     "output_type": "execute_result"
    }
   ],
   "source": [
    "y_train"
   ]
  },
  {
   "cell_type": "markdown",
   "id": "2084ca1a",
   "metadata": {},
   "source": [
    "---"
   ]
  },
  {
   "cell_type": "markdown",
   "id": "native-expansion",
   "metadata": {},
   "source": [
    "# 1. Machine Learning\n",
    "## 이제 모델링을 해봅시다!\n",
    "+ KeyPoint : 머신러닝 라이브러리를 토대로 모델링을 할 수 있다."
   ]
  },
  {
   "cell_type": "code",
   "execution_count": 7,
   "id": "bd486fa0",
   "metadata": {},
   "outputs": [],
   "source": [
    "import seaborn as sns\n",
    "import matplotlib.pyplot as plt\n",
    "\n",
    "plt.rc('font', family='Malgun Gothic')\n",
    "sns.set(font=\"Malgun Gothic\",#\"NanumGothicCoding\", \n",
    "        rc={\"axes.unicode_minus\":False}, # 마이너스 부호 깨짐 현상 해결\n",
    "        style='darkgrid')"
   ]
  },
  {
   "cell_type": "markdown",
   "id": "persistent-brighton",
   "metadata": {},
   "source": [
    "### 가. LinearRegression 부터 시작해봅시다."
   ]
  },
  {
   "cell_type": "markdown",
   "id": "joined-client",
   "metadata": {},
   "source": [
    "#### [실습문제1] 머신러닝_1\n",
    "* Train과 Test로 나눈 데이터를 기준으로 LinearRegression 모델링을 진행하고 평가를 해주세요.\n",
    "* 성능지표 : RMSE, R-squared Score"
   ]
  },
  {
   "cell_type": "code",
   "execution_count": 9,
   "id": "781417b0",
   "metadata": {},
   "outputs": [],
   "source": [
    "from sklearn.linear_model import LinearRegression\n",
    "from sklearn.metrics import mean_squared_error, r2_score\n",
    "import numpy as np"
   ]
  },
  {
   "cell_type": "code",
   "execution_count": 11,
   "id": "willing-disclaimer",
   "metadata": {
    "scrolled": false
   },
   "outputs": [
    {
     "name": "stdout",
     "output_type": "stream",
     "text": [
      "RMSE: 8757.143058564123\n",
      "R-squared Score: -5.018412937272836\n"
     ]
    }
   ],
   "source": [
    "# LinearRegression 모델 학습\n",
    "LR = LinearRegression()\n",
    "LR.fit(x_train, y_train)\n",
    "\n",
    "# 예측 수행\n",
    "y_pred = LR.predict(x_test)\n",
    "\n",
    "# 성능 평가\n",
    "rmse = np.sqrt(mean_squared_error(y_test, y_pred))\n",
    "r2 = r2_score(y_test, y_pred)\n",
    "\n",
    "print(f\"RMSE: {rmse}\")\n",
    "print(f\"R-squared Score: {r2}\")"
   ]
  },
  {
   "cell_type": "markdown",
   "id": "lesser-universe",
   "metadata": {},
   "source": [
    "### 나. 다음은 앙상블 기법을 토대로 랜덤포레스트와 그라디언부스팅을 활용해봅시다."
   ]
  },
  {
   "cell_type": "markdown",
   "id": "crazy-escape",
   "metadata": {},
   "source": [
    "#### 1) 렌덤포레스트\n",
    "##### 배깅의 일종으로 의사결정나무(Decision Tree) 여러 개를 모아서 숲을 랜덤으로 구성하고 이를 종합해서 최종 모델을 산출하는 기법이라고 할 수 있다."
   ]
  },
  {
   "cell_type": "markdown",
   "id": "dense-eleven",
   "metadata": {},
   "source": [
    "#### [실습문제2] 머신러닝_2\n",
    "* Train과 Test로 나눈 데이터를 기준으로 렌덤포레스트로 모델을 학습을 진행하고 평가를 해주세요.\n",
    "* 성능지표 : RMSE, R-squared Score"
   ]
  },
  {
   "cell_type": "code",
   "execution_count": 12,
   "id": "guilty-score",
   "metadata": {},
   "outputs": [
    {
     "name": "stderr",
     "output_type": "stream",
     "text": [
      "C:\\Users\\user\\AppData\\Local\\Temp\\ipykernel_3672\\1501328330.py:5: DataConversionWarning: A column-vector y was passed when a 1d array was expected. Please change the shape of y to (n_samples,), for example using ravel().\n",
      "  RF.fit(x_train, y_train)\n"
     ]
    },
    {
     "name": "stdout",
     "output_type": "stream",
     "text": [
      "RMSE: 2196.779338143356\n",
      "R-squared Score: 0.6212697769101843\n"
     ]
    }
   ],
   "source": [
    "from sklearn.ensemble import RandomForestRegressor\n",
    "\n",
    "# RandomForestRegressor 모델 학습\n",
    "RF = RandomForestRegressor()\n",
    "RF.fit(x_train, y_train)\n",
    "\n",
    "# 예측 수행\n",
    "y_pred = RF.predict(x_test)\n",
    "\n",
    "# 성능 평가\n",
    "rmse = np.sqrt(mean_squared_error(y_test, y_pred))\n",
    "r2 = r2_score(y_test, y_pred)\n",
    "\n",
    "print(f\"RMSE: {rmse}\")\n",
    "print(f\"R-squared Score: {r2}\")"
   ]
  },
  {
   "cell_type": "markdown",
   "id": "788be2bb",
   "metadata": {},
   "source": [
    "#### [실습문제3] 머신러닝_3\n",
    "* 렌덤포레스트로 학습한 모델의 feature_importances 또는 Shap value를 구해보세요.\n",
    "* 확인할 수 있는 내용으로 우리 모델에서의 인사이트를 정리해보세요."
   ]
  },
  {
   "cell_type": "markdown",
   "id": "fe2bf227",
   "metadata": {},
   "source": [
    "##### RF - feature_importances"
   ]
  },
  {
   "cell_type": "code",
   "execution_count": 13,
   "id": "48281022",
   "metadata": {},
   "outputs": [],
   "source": [
    "# 변수 중요도 plot\n",
    "def plot_feature_importance(importance, names, topn = 'all'):\n",
    "    feature_importance = np.array(importance)\n",
    "    feature_names = np.array(names)\n",
    "\n",
    "    data={'feature_names':feature_names,'feature_importance':feature_importance}\n",
    "    fi_temp = pd.DataFrame(data)\n",
    "\n",
    "    fi_temp.sort_values(by=['feature_importance'], ascending=False,inplace=True)\n",
    "    fi_temp.reset_index(drop=True, inplace = True)\n",
    "\n",
    "    if topn == 'all' :\n",
    "        fi_df = fi_temp.copy()\n",
    "    else :\n",
    "        fi_df = fi_temp.iloc[:topn]\n",
    "\n",
    "    plt.figure(figsize=(10,8))\n",
    "    sns.barplot(x='feature_importance', y='feature_names', data = fi_df)\n",
    "\n",
    "    plt.xlabel('importance')\n",
    "    plt.ylabel('feature names')\n",
    "    plt.grid()\n",
    "\n",
    "    return fi_df"
   ]
  },
  {
   "cell_type": "code",
   "execution_count": 15,
   "id": "e19f84b0",
   "metadata": {},
   "outputs": [
    {
     "data": {
      "image/png": "[encoded data removed]",
      "text/plain": [
       "<Figure size 1000x800 with 1 Axes>"
      ]
     },
     "metadata": {},
     "output_type": "display_data"
    }
   ],
   "source": [
    "result = plot_feature_importance(RF.feature_importances_, list(x_train))"
   ]
  },
  {
   "cell_type": "code",
   "execution_count": 16,
   "id": "07de39ac",
   "metadata": {},
   "outputs": [
    {
     "data": {
      "text/html": [
       "<div>\n",
       "<style scoped>\n",
       "    .dataframe tbody tr th:only-of-type {\n",
       "        vertical-align: middle;\n",
       "    }\n",
       "\n",
       "    .dataframe tbody tr th {\n",
       "        vertical-align: top;\n",
       "    }\n",
       "\n",
       "    .dataframe thead th {\n",
       "        text-align: right;\n",
       "    }\n",
       "</style>\n",
       "<table border=\"1\" class=\"dataframe\">\n",
       "  <thead>\n",
       "    <tr style=\"text-align: right;\">\n",
       "      <th></th>\n",
       "      <th>feature_names</th>\n",
       "      <th>feature_importance</th>\n",
       "    </tr>\n",
       "  </thead>\n",
       "  <tbody>\n",
       "    <tr>\n",
       "      <th>0</th>\n",
       "      <td>TRP</td>\n",
       "      <td>0.875742</td>\n",
       "    </tr>\n",
       "    <tr>\n",
       "      <th>1</th>\n",
       "      <td>TRP_day</td>\n",
       "      <td>0.039244</td>\n",
       "    </tr>\n",
       "    <tr>\n",
       "      <th>2</th>\n",
       "      <td>day</td>\n",
       "      <td>0.032409</td>\n",
       "    </tr>\n",
       "    <tr>\n",
       "      <th>3</th>\n",
       "      <td>hour</td>\n",
       "      <td>0.022743</td>\n",
       "    </tr>\n",
       "    <tr>\n",
       "      <th>4</th>\n",
       "      <td>month</td>\n",
       "      <td>0.014966</td>\n",
       "    </tr>\n",
       "    <tr>\n",
       "      <th>5</th>\n",
       "      <td>year</td>\n",
       "      <td>0.014896</td>\n",
       "    </tr>\n",
       "  </tbody>\n",
       "</table>\n",
       "</div>"
      ],
      "text/plain": [
       "  feature_names  feature_importance\n",
       "0           TRP            0.875742\n",
       "1       TRP_day            0.039244\n",
       "2           day            0.032409\n",
       "3          hour            0.022743\n",
       "4         month            0.014966\n",
       "5          year            0.014896"
      ]
     },
     "execution_count": 16,
     "metadata": {},
     "output_type": "execute_result"
    }
   ],
   "source": [
    "result"
   ]
  },
  {
   "cell_type": "markdown",
   "id": "e8f3a2a4",
   "metadata": {},
   "source": [
    "##### SHAP"
   ]
  },
  {
   "cell_type": "code",
   "execution_count": 34,
   "id": "09ba1cba",
   "metadata": {},
   "outputs": [
    {
     "name": "stderr",
     "output_type": "stream",
     "text": [
      "'pip'��(��) ���� �Ǵ� �ܺ� ����, ������ �� �ִ� ���α׷�, �Ǵ�\n",
      "��ġ ������ �ƴմϴ�.\n"
     ]
    }
   ],
   "source": [
    "!pip install shap"
   ]
  },
  {
   "cell_type": "code",
   "execution_count": 33,
   "id": "b7926984",
   "metadata": {},
   "outputs": [
    {
     "ename": "ModuleNotFoundError",
     "evalue": "No module named 'shap'",
     "output_type": "error",
     "traceback": [
      "\u001b[1;31m---------------------------------------------------------------------------\u001b[0m",
      "\u001b[1;31mModuleNotFoundError\u001b[0m                       Traceback (most recent call last)",
      "\u001b[1;32mc:\\Users\\user\\AIVLE\\11_mp4\\실습자료\\3. 모델링_4차미프_에이블러용.ipynb Cell 26\u001b[0m line \u001b[0;36m1\n\u001b[1;32m----> <a href='vscode-notebook-cell:/c%3A/Users/user/AIVLE/11_mp4/%EC%8B%A4%EC%8A%B5%EC%9E%90%EB%A3%8C/3.%20%EB%AA%A8%EB%8D%B8%EB%A7%81_4%EC%B0%A8%EB%AF%B8%ED%94%84_%EC%97%90%EC%9D%B4%EB%B8%94%EB%9F%AC%EC%9A%A9.ipynb#Y120sZmlsZQ%3D%3D?line=0'>1</a>\u001b[0m \u001b[39mimport\u001b[39;00m \u001b[39mshap\u001b[39;00m\n\u001b[0;32m      <a href='vscode-notebook-cell:/c%3A/Users/user/AIVLE/11_mp4/%EC%8B%A4%EC%8A%B5%EC%9E%90%EB%A3%8C/3.%20%EB%AA%A8%EB%8D%B8%EB%A7%81_4%EC%B0%A8%EB%AF%B8%ED%94%84_%EC%97%90%EC%9D%B4%EB%B8%94%EB%9F%AC%EC%9A%A9.ipynb#Y120sZmlsZQ%3D%3D?line=2'>3</a>\u001b[0m explainer_rf \u001b[39m=\u001b[39m shap\u001b[39m.\u001b[39mTreeExplainer(RF)\n\u001b[0;32m      <a href='vscode-notebook-cell:/c%3A/Users/user/AIVLE/11_mp4/%EC%8B%A4%EC%8A%B5%EC%9E%90%EB%A3%8C/3.%20%EB%AA%A8%EB%8D%B8%EB%A7%81_4%EC%B0%A8%EB%AF%B8%ED%94%84_%EC%97%90%EC%9D%B4%EB%B8%94%EB%9F%AC%EC%9A%A9.ipynb#Y120sZmlsZQ%3D%3D?line=3'>4</a>\u001b[0m shap_values1 \u001b[39m=\u001b[39m explainer_rf\u001b[39m.\u001b[39mshap_values(x_train)\n",
      "\u001b[1;31mModuleNotFoundError\u001b[0m: No module named 'shap'"
     ]
    }
   ],
   "source": [
    "import shap\n",
    "\n",
    "explainer_rf = shap.TreeExplainer(RF)\n",
    "shap_values1 = explainer_rf.shap_values(x_train)"
   ]
  },
  {
   "cell_type": "code",
   "execution_count": null,
   "id": "ae0dcb2b",
   "metadata": {},
   "outputs": [],
   "source": [
    "shap.initjs() # javascript 시각화 라이브러리 --> colab에서는 모든 셀에 포함시켜야 함.\n",
    "\n",
    "# force_plot(전체평균, shapley_values, input)\n",
    "shap.force_plot(explainer1.expected_value, shap_values1[0, :], x_train.iloc[0,:])"
   ]
  },
  {
   "cell_type": "code",
   "execution_count": null,
   "id": "af7989f3",
   "metadata": {},
   "outputs": [],
   "source": [
    "# 확인할 수 있는 인사이트\n",
    "# 1.\n",
    "# 2.\n",
    "# 3."
   ]
  },
  {
   "cell_type": "markdown",
   "id": "convinced-vocabulary",
   "metadata": {},
   "source": [
    "#### 2) GradientBoosting\n",
    "##### 앞선 모델의 에러를 다음 모델의 예측 값으로 활용하면서 가중치 업데이트 하는데 경사하강법(Gradient Descent)를 활용해서 최적 모델을 만드는 기법"
   ]
  },
  {
   "cell_type": "markdown",
   "id": "needed-google",
   "metadata": {},
   "source": [
    "#### [실습문제4] 머신러닝_4\n",
    "* Train과 Test로 나눈 데이터를 기준으로 그라디언트부스팅으로 모델을 학습을 진행하고 평가를 해주세요.\n",
    "* 성능지표 : RMSE, R-squared Score"
   ]
  },
  {
   "cell_type": "code",
   "execution_count": 22,
   "id": "continent-olympus",
   "metadata": {},
   "outputs": [
    {
     "name": "stdout",
     "output_type": "stream",
     "text": [
      "RMSE: 2070.756740090754\n",
      "R-squared Score: 0.6634766057768796\n"
     ]
    }
   ],
   "source": [
    "from xgboost import XGBRegressor, plot_tree, plot_importance\n",
    "\n",
    "XGB = XGBRegressor(objective='reg:squarederror')\n",
    "XGB.fit(x_train, y_train)\n",
    "\n",
    "# 예측 수행\n",
    "y_pred = XGB.predict(x_test)\n",
    "\n",
    "# 성능 평가\n",
    "rmse = np.sqrt(mean_squared_error(y_test, y_pred))\n",
    "r2 = r2_score(y_test, y_pred)\n",
    "\n",
    "print(f\"RMSE: {rmse}\")\n",
    "print(f\"R-squared Score: {r2}\")"
   ]
  },
  {
   "cell_type": "markdown",
   "id": "04925b45",
   "metadata": {},
   "source": [
    "#### [실습문제5] 머신러닝_5\n",
    "* 그라디언트부스팅으로 학습한 모델의 feature_importances 또는 Shap value를 구해보세요.\n",
    "* 확인할 수 있는 내용으로 우리 모델에서의 인사이트를 정리해보세요."
   ]
  },
  {
   "cell_type": "markdown",
   "id": "12636ca2",
   "metadata": {},
   "source": [
    "##### XGB - feature_importances"
   ]
  },
  {
   "cell_type": "code",
   "execution_count": 25,
   "id": "8deba58d",
   "metadata": {},
   "outputs": [
    {
     "data": {
      "image/png": "[encoded data removed]",
      "text/plain": [
       "<Figure size 1000x800 with 1 Axes>"
      ]
     },
     "metadata": {},
     "output_type": "display_data"
    }
   ],
   "source": [
    "result = plot_feature_importance(XGB.feature_importances_, list(x_train))"
   ]
  },
  {
   "cell_type": "code",
   "execution_count": 26,
   "id": "c453b7af",
   "metadata": {},
   "outputs": [
    {
     "data": {
      "text/html": [
       "<div>\n",
       "<style scoped>\n",
       "    .dataframe tbody tr th:only-of-type {\n",
       "        vertical-align: middle;\n",
       "    }\n",
       "\n",
       "    .dataframe tbody tr th {\n",
       "        vertical-align: top;\n",
       "    }\n",
       "\n",
       "    .dataframe thead th {\n",
       "        text-align: right;\n",
       "    }\n",
       "</style>\n",
       "<table border=\"1\" class=\"dataframe\">\n",
       "  <thead>\n",
       "    <tr style=\"text-align: right;\">\n",
       "      <th></th>\n",
       "      <th>feature_names</th>\n",
       "      <th>feature_importance</th>\n",
       "    </tr>\n",
       "  </thead>\n",
       "  <tbody>\n",
       "    <tr>\n",
       "      <th>0</th>\n",
       "      <td>TRP</td>\n",
       "      <td>0.898704</td>\n",
       "    </tr>\n",
       "    <tr>\n",
       "      <th>1</th>\n",
       "      <td>year</td>\n",
       "      <td>0.032304</td>\n",
       "    </tr>\n",
       "    <tr>\n",
       "      <th>2</th>\n",
       "      <td>day</td>\n",
       "      <td>0.026768</td>\n",
       "    </tr>\n",
       "    <tr>\n",
       "      <th>3</th>\n",
       "      <td>hour</td>\n",
       "      <td>0.024429</td>\n",
       "    </tr>\n",
       "    <tr>\n",
       "      <th>4</th>\n",
       "      <td>TRP_day</td>\n",
       "      <td>0.017795</td>\n",
       "    </tr>\n",
       "    <tr>\n",
       "      <th>5</th>\n",
       "      <td>month</td>\n",
       "      <td>0.000000</td>\n",
       "    </tr>\n",
       "  </tbody>\n",
       "</table>\n",
       "</div>"
      ],
      "text/plain": [
       "  feature_names  feature_importance\n",
       "0           TRP            0.898704\n",
       "1          year            0.032304\n",
       "2           day            0.026768\n",
       "3          hour            0.024429\n",
       "4       TRP_day            0.017795\n",
       "5         month            0.000000"
      ]
     },
     "execution_count": 26,
     "metadata": {},
     "output_type": "execute_result"
    }
   ],
   "source": [
    "result"
   ]
  },
  {
   "cell_type": "code",
   "execution_count": null,
   "id": "9d1bfe7d",
   "metadata": {},
   "outputs": [],
   "source": [
    "# 확인할 수 있는 인사이트\n",
    "# 1.\n",
    "# 2.\n",
    "# 3."
   ]
  },
  {
   "cell_type": "markdown",
   "id": "305bbd5b",
   "metadata": {},
   "source": [
    "#### 3) Self Choice Model\n",
    "##### 앞선 교육과정에서 배운 머신러닝 모델 중 어떤 것이든 좋습니다. 원하는 모델을 선택해서 학습을 시켜보세요."
   ]
  },
  {
   "cell_type": "markdown",
   "id": "fbef7589",
   "metadata": {},
   "source": [
    "#### [실습문제6] 머신러닝_6\n",
    "* Train과 Test로 나눈 데이터를 기준으로 Self Choice Model로 모델을 학습을 진행하고 평가를 해주세요.\n",
    "* 성능지표 : RMSE, R-squared Score"
   ]
  },
  {
   "cell_type": "code",
   "execution_count": null,
   "id": "a2c66605",
   "metadata": {},
   "outputs": [],
   "source": [
    "# 아래에 실습코드를 작성하세요.\n",
    "\n",
    "\n"
   ]
  },
  {
   "cell_type": "code",
   "execution_count": null,
   "id": "546ac8bf",
   "metadata": {},
   "outputs": [],
   "source": [
    "# 아래에 실습코드를 작성하세요.\n",
    "\n",
    "\n"
   ]
  },
  {
   "cell_type": "code",
   "execution_count": null,
   "id": "e69d0d7c",
   "metadata": {},
   "outputs": [],
   "source": [
    "# 아래에 실습코드를 작성하세요.\n",
    "\n"
   ]
  },
  {
   "cell_type": "markdown",
   "id": "94cfdb09",
   "metadata": {},
   "source": [
    "#### [실습문제7] 머신러닝_7\n",
    "* Self Choice Model로 학습한 모델의 feature_importances 또는 Shap value를 구해보세요.\n",
    "* 확인할 수 있는 내용으로 우리 모델에서의 인사이트를 정리해보세요."
   ]
  },
  {
   "cell_type": "code",
   "execution_count": null,
   "id": "67e6d924",
   "metadata": {},
   "outputs": [],
   "source": [
    "# Feature의 중요도 확인\n",
    "\n",
    "\n"
   ]
  },
  {
   "cell_type": "code",
   "execution_count": null,
   "id": "a8ac782c",
   "metadata": {},
   "outputs": [],
   "source": [
    "# 확인할 수 있는 인사이트\n",
    "# 1.\n",
    "# 2.\n",
    "# 3."
   ]
  },
  {
   "cell_type": "markdown",
   "id": "07b38e1a",
   "metadata": {},
   "source": [
    "#### [실습문제8] 스케일링\n",
    "* Min Max Scale 함수를 활용하여 스케일링 후 위 모델에 적용하여 보세요. \n"
   ]
  },
  {
   "cell_type": "code",
   "execution_count": null,
   "id": "546ac8bf",
   "metadata": {},
   "outputs": [],
   "source": [
    "# 아래에 실습코드를 작성하세요.\n",
    "\n",
    "\n"
   ]
  },
  {
   "cell_type": "code",
   "execution_count": null,
   "id": "e69d0d7c",
   "metadata": {},
   "outputs": [],
   "source": [
    "# 아래에 실습코드를 작성하세요.\n",
    "\n"
   ]
  },
  {
   "cell_type": "markdown",
   "id": "f054fd75",
   "metadata": {},
   "source": [
    "---"
   ]
  },
  {
   "cell_type": "markdown",
   "id": "typical-optics",
   "metadata": {},
   "source": [
    "# 2. Deep Learning \n",
    "## 이번엔 딥러닝 모델링을 해봅시다."
   ]
  },
  {
   "cell_type": "markdown",
   "id": "numeric-dealer",
   "metadata": {},
   "source": [
    "#### [실습문제9] 딥러닝\n",
    "\n",
    "* tensorflow 라이브러리를 활용한 모델을 자유롭게 만들어보세요."
   ]
  },
  {
   "cell_type": "code",
   "execution_count": null,
   "id": "bb331b21",
   "metadata": {},
   "outputs": [],
   "source": [
    "# 아래에 실습코드를 작성하세요.\n"
   ]
  },
  {
   "cell_type": "code",
   "execution_count": null,
   "id": "3f4ac1bc",
   "metadata": {},
   "outputs": [],
   "source": [
    "# 아래에 실습코드를 작성하세요.\n",
    "\n",
    "\n"
   ]
  },
  {
   "cell_type": "code",
   "execution_count": null,
   "id": "61dce4f4",
   "metadata": {},
   "outputs": [],
   "source": [
    "# 아래에 실습코드를 작성하세요.\n",
    "\n"
   ]
  },
  {
   "cell_type": "code",
   "execution_count": null,
   "id": "a0d4ce12",
   "metadata": {},
   "outputs": [],
   "source": [
    "# 아래에 실습코드를 작성하세요.\n",
    "\n"
   ]
  },
  {
   "cell_type": "code",
   "execution_count": null,
   "id": "dd25f1b1",
   "metadata": {},
   "outputs": [],
   "source": [
    "# 아래에 실습코드를 작성하세요.\n"
   ]
  },
  {
   "cell_type": "code",
   "execution_count": null,
   "id": "710ef8ed",
   "metadata": {},
   "outputs": [],
   "source": [
    "# 아래에 실습코드를 작성하세요.\n",
    "\n"
   ]
  }
 ],
 "metadata": {
  "kernelspec": {
   "display_name": "Python 3.8.8 ('base')",
   "language": "python",
   "name": "python3"
  },
  "language_info": {
   "codemirror_mode": {
    "name": "ipython",
    "version": 3
   },
   "file_extension": ".py",
   "mimetype": "text/x-python",
   "name": "python",
   "nbconvert_exporter": "python",
   "pygments_lexer": "ipython3",
   "version": "3.11.3"
  },
  "vscode": {
   "interpreter": {
    "hash": "f08154012ddadd8e950e6e9e035c7a7b32c136e7647e9b7c77e02eb723a8bedb"
   }
  }
 },
 "nbformat": 4,
 "nbformat_minor": 5
}
