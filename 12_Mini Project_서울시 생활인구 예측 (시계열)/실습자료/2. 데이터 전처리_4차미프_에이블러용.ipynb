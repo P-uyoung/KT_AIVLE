{
 "cells": [
  {
   "cell_type": "markdown",
   "id": "55add5c1",
   "metadata": {},
   "source": [
    "# 안녕하세요^^ \n",
    "# AIVLE 미니 프로젝트에 오신 여러분을 환영합니다.\n",
    "* 본 과정에서는 실제 사례와 데이터를 기반으로 문제를 해결하는 전체 과정을 자기 주도형 실습으로 진행해볼 예정입니다.\n",
    "* 앞선 교육과정을 정리하는 마음과 지금까지 배운 내용을 바탕으로 문제 해결을 해볼게요!\n",
    "* 미니 프로젝트를 통한 문제 해결 과정 'A에서 Z까지', 지금부터 시작합니다!"
   ]
  },
  {
   "cell_type": "markdown",
   "id": "84008ade",
   "metadata": {},
   "source": [
    "---"
   ]
  },
  {
   "cell_type": "markdown",
   "id": "bright-evolution",
   "metadata": {},
   "source": [
    "# (실습준비) 데이터 불러오기부터\n",
    "\n",
    "* 17년도부터 21년도 까지의 데이터를 train set, 22년도의 6개월치 데이터를 test set 으로 설정합니다."
   ]
  },
  {
   "cell_type": "code",
   "execution_count": 1,
   "id": "63e99950-c9a9-4854-8336-bc87e114100a",
   "metadata": {
    "tags": []
   },
   "outputs": [],
   "source": [
    "import pandas as pd\n",
    "import numpy as np\n",
    "import matplotlib.pyplot as plt\n",
    "import seaborn as sns\n",
    "import scipy.stats as spst\n",
    "import joblib"
   ]
  },
  {
   "cell_type": "code",
   "execution_count": 2,
   "id": "innocent-token",
   "metadata": {
    "tags": []
   },
   "outputs": [],
   "source": [
    "# 학습 데이터 로딩\n",
    "df_total = joblib.load('train.pkl')\n",
    "df_test = joblib.load('test.pkl')"
   ]
  },
  {
   "cell_type": "markdown",
   "id": "polished-myrtle",
   "metadata": {},
   "source": [
    "---"
   ]
  },
  {
   "cell_type": "markdown",
   "id": "palestinian-catalog",
   "metadata": {},
   "source": [
    "# 1. 데이터 전처리"
   ]
  },
  {
   "cell_type": "markdown",
   "id": "89892756",
   "metadata": {},
   "source": [
    "#### [실습문제1] 열 추가 \n",
    "* 기존 '기준일ID'열에서 날짜 데이터를 추출하여 새로운 열로 추가 합니다.\n",
    "    - pd.to_datetime() 함수를 사용해 '기준일ID'열을 datetime 형식으로 변경하겠습니다.\n",
    "    - year, month, day 열로 기존 데이터 프레임에 연월일 정보를 저장합니다.\n",
    "    - 데이터 프레임 열에 대해 날짜 정보를 얻을 때에는 **dt.year**, **dt.month**, **dt.day** 속성을 사용합니다. "
   ]
  },
  {
   "cell_type": "code",
   "execution_count": 4,
   "id": "3553fb5f",
   "metadata": {
    "tags": []
   },
   "outputs": [
    {
     "data": {
      "text/html": [
       "<div>\n",
       "<style scoped>\n",
       "    .dataframe tbody tr th:only-of-type {\n",
       "        vertical-align: middle;\n",
       "    }\n",
       "\n",
       "    .dataframe tbody tr th {\n",
       "        vertical-align: top;\n",
       "    }\n",
       "\n",
       "    .dataframe thead th {\n",
       "        text-align: right;\n",
       "    }\n",
       "</style>\n",
       "<table border=\"1\" class=\"dataframe\">\n",
       "  <thead>\n",
       "    <tr style=\"text-align: right;\">\n",
       "      <th></th>\n",
       "      <th>기준일ID</th>\n",
       "      <th>시간대구분</th>\n",
       "      <th>총생활인구수</th>\n",
       "      <th>남자0세부터9세생활인구수</th>\n",
       "      <th>남자10세부터14세생활인구수</th>\n",
       "      <th>남자15세부터19세생활인구수</th>\n",
       "      <th>남자20세부터24세생활인구수</th>\n",
       "      <th>남자25세부터29세생활인구수</th>\n",
       "      <th>남자30세부터34세생활인구수</th>\n",
       "      <th>남자35세부터39세생활인구수</th>\n",
       "      <th>...</th>\n",
       "      <th>여자40세부터44세생활인구수</th>\n",
       "      <th>여자45세부터49세생활인구수</th>\n",
       "      <th>여자50세부터54세생활인구수</th>\n",
       "      <th>여자55세부터59세생활인구수</th>\n",
       "      <th>여자60세부터64세생활인구수</th>\n",
       "      <th>여자65세부터69세생활인구수</th>\n",
       "      <th>여자70세이상생활인구수</th>\n",
       "      <th>year</th>\n",
       "      <th>month</th>\n",
       "      <th>day</th>\n",
       "    </tr>\n",
       "  </thead>\n",
       "  <tbody>\n",
       "    <tr>\n",
       "      <th>0</th>\n",
       "      <td>2017-01-01</td>\n",
       "      <td>0</td>\n",
       "      <td>31535.2200</td>\n",
       "      <td>1945.4402</td>\n",
       "      <td>566.4588</td>\n",
       "      <td>631.5581</td>\n",
       "      <td>991.9184</td>\n",
       "      <td>1297.1287</td>\n",
       "      <td>1223.1529</td>\n",
       "      <td>1552.9448</td>\n",
       "      <td>...</td>\n",
       "      <td>1029.4360</td>\n",
       "      <td>998.0414</td>\n",
       "      <td>874.5643</td>\n",
       "      <td>1162.1547</td>\n",
       "      <td>1053.0477</td>\n",
       "      <td>964.3940</td>\n",
       "      <td>2025.4819</td>\n",
       "      <td>2017</td>\n",
       "      <td>1</td>\n",
       "      <td>1</td>\n",
       "    </tr>\n",
       "    <tr>\n",
       "      <th>1</th>\n",
       "      <td>2017-01-01</td>\n",
       "      <td>1</td>\n",
       "      <td>31188.9174</td>\n",
       "      <td>1930.4766</td>\n",
       "      <td>562.1018</td>\n",
       "      <td>625.2151</td>\n",
       "      <td>1030.6281</td>\n",
       "      <td>1307.7381</td>\n",
       "      <td>1183.0956</td>\n",
       "      <td>1491.5827</td>\n",
       "      <td>...</td>\n",
       "      <td>1027.2574</td>\n",
       "      <td>1038.7528</td>\n",
       "      <td>857.9100</td>\n",
       "      <td>1149.7532</td>\n",
       "      <td>1042.7411</td>\n",
       "      <td>919.0115</td>\n",
       "      <td>2062.2422</td>\n",
       "      <td>2017</td>\n",
       "      <td>1</td>\n",
       "      <td>1</td>\n",
       "    </tr>\n",
       "    <tr>\n",
       "      <th>2</th>\n",
       "      <td>2017-01-01</td>\n",
       "      <td>2</td>\n",
       "      <td>31240.4974</td>\n",
       "      <td>1921.1864</td>\n",
       "      <td>559.3965</td>\n",
       "      <td>658.7463</td>\n",
       "      <td>1058.7082</td>\n",
       "      <td>1311.9591</td>\n",
       "      <td>1186.2600</td>\n",
       "      <td>1537.3732</td>\n",
       "      <td>...</td>\n",
       "      <td>1027.8901</td>\n",
       "      <td>1020.0177</td>\n",
       "      <td>853.3890</td>\n",
       "      <td>1193.4472</td>\n",
       "      <td>1011.2073</td>\n",
       "      <td>889.9325</td>\n",
       "      <td>1960.1236</td>\n",
       "      <td>2017</td>\n",
       "      <td>1</td>\n",
       "      <td>1</td>\n",
       "    </tr>\n",
       "  </tbody>\n",
       "</table>\n",
       "<p>3 rows × 34 columns</p>\n",
       "</div>"
      ],
      "text/plain": [
       "       기준일ID 시간대구분      총생활인구수  남자0세부터9세생활인구수  남자10세부터14세생활인구수  \\\n",
       "0 2017-01-01     0  31535.2200      1945.4402         566.4588   \n",
       "1 2017-01-01     1  31188.9174      1930.4766         562.1018   \n",
       "2 2017-01-01     2  31240.4974      1921.1864         559.3965   \n",
       "\n",
       "   남자15세부터19세생활인구수  남자20세부터24세생활인구수  남자25세부터29세생활인구수  남자30세부터34세생활인구수  \\\n",
       "0         631.5581         991.9184        1297.1287        1223.1529   \n",
       "1         625.2151        1030.6281        1307.7381        1183.0956   \n",
       "2         658.7463        1058.7082        1311.9591        1186.2600   \n",
       "\n",
       "   남자35세부터39세생활인구수  ...  여자40세부터44세생활인구수  여자45세부터49세생활인구수  여자50세부터54세생활인구수  \\\n",
       "0        1552.9448  ...        1029.4360         998.0414         874.5643   \n",
       "1        1491.5827  ...        1027.2574        1038.7528         857.9100   \n",
       "2        1537.3732  ...        1027.8901        1020.0177         853.3890   \n",
       "\n",
       "   여자55세부터59세생활인구수  여자60세부터64세생활인구수  여자65세부터69세생활인구수  여자70세이상생활인구수  year  \\\n",
       "0        1162.1547        1053.0477         964.3940     2025.4819  2017   \n",
       "1        1149.7532        1042.7411         919.0115     2062.2422  2017   \n",
       "2        1193.4472        1011.2073         889.9325     1960.1236  2017   \n",
       "\n",
       "   month  day  \n",
       "0      1    1  \n",
       "1      1    1  \n",
       "2      1    1  \n",
       "\n",
       "[3 rows x 34 columns]"
      ]
     },
     "execution_count": 4,
     "metadata": {},
     "output_type": "execute_result"
    }
   ],
   "source": [
    "# 아래에 실습코드를 작성하고 결과를 확인합니다.\n",
    "df_total['year'], df_total['month'], df_total['day'] = df_total['기준일ID'].dt.year, df_total['기준일ID'].dt.month, df_total['기준일ID'].dt.day\n",
    "df_total.head(3)"
   ]
  },
  {
   "cell_type": "code",
   "execution_count": 5,
   "id": "85808d0d",
   "metadata": {},
   "outputs": [
    {
     "name": "stdout",
     "output_type": "stream",
     "text": [
      "<class 'pandas.core.frame.DataFrame'>\n",
      "RangeIndex: 4344 entries, 0 to 4343\n",
      "Data columns (total 34 columns):\n",
      " #   Column           Non-Null Count  Dtype         \n",
      "---  ------           --------------  -----         \n",
      " 0   기준일ID            4344 non-null   datetime64[ns]\n",
      " 1   시간대구분            4344 non-null   int64         \n",
      " 2   총생활인구수           4344 non-null   float64       \n",
      " 3   남자0세부터9세생활인구수    4344 non-null   float64       \n",
      " 4   남자10세부터14세생활인구수  4344 non-null   float64       \n",
      " 5   남자15세부터19세생활인구수  4344 non-null   float64       \n",
      " 6   남자20세부터24세생활인구수  4344 non-null   float64       \n",
      " 7   남자25세부터29세생활인구수  4344 non-null   float64       \n",
      " 8   남자30세부터34세생활인구수  4344 non-null   float64       \n",
      " 9   남자35세부터39세생활인구수  4344 non-null   float64       \n",
      " 10  남자40세부터44세생활인구수  4344 non-null   float64       \n",
      " 11  남자45세부터49세생활인구수  4344 non-null   float64       \n",
      " 12  남자50세부터54세생활인구수  4344 non-null   float64       \n",
      " 13  남자55세부터59세생활인구수  4344 non-null   float64       \n",
      " 14  남자60세부터64세생활인구수  4344 non-null   float64       \n",
      " 15  남자65세부터69세생활인구수  4344 non-null   float64       \n",
      " 16  남자70세이상생활인구수     4344 non-null   float64       \n",
      " 17  여자0세부터9세생활인구수    4344 non-null   float64       \n",
      " 18  여자10세부터14세생활인구수  4344 non-null   float64       \n",
      " 19  여자15세부터19세생활인구수  4344 non-null   float64       \n",
      " 20  여자20세부터24세생활인구수  4344 non-null   float64       \n",
      " 21  여자25세부터29세생활인구수  4344 non-null   float64       \n",
      " 22  여자30세부터34세생활인구수  4344 non-null   float64       \n",
      " 23  여자35세부터39세생활인구수  4344 non-null   float64       \n",
      " 24  여자40세부터44세생활인구수  4344 non-null   float64       \n",
      " 25  여자45세부터49세생활인구수  4344 non-null   float64       \n",
      " 26  여자50세부터54세생활인구수  4344 non-null   float64       \n",
      " 27  여자55세부터59세생활인구수  4344 non-null   float64       \n",
      " 28  여자60세부터64세생활인구수  4344 non-null   float64       \n",
      " 29  여자65세부터69세생활인구수  4344 non-null   float64       \n",
      " 30  여자70세이상생활인구수     4344 non-null   float64       \n",
      " 31  year             4344 non-null   int64         \n",
      " 32  month            4344 non-null   int64         \n",
      " 33  day              4344 non-null   int64         \n",
      "dtypes: datetime64[ns](1), float64(29), int64(4)\n",
      "memory usage: 1.1 MB\n"
     ]
    }
   ],
   "source": [
    "# 아래에 실습코드를 작성하고 결과를 확인합니다.\n",
    "df_test['year'], df_test['month'], df_test['day'] = df_test['기준일ID'].dt.year, df_test['기준일ID'].dt.month, df_test['기준일ID'].dt.day\n",
    "df_test.info()"
   ]
  },
  {
   "cell_type": "markdown",
   "id": "fefaf235",
   "metadata": {},
   "source": [
    "#### [실습문제2] 불필요한 열 제거 및 열 이름 변경\n",
    "* df_total과 df_test에서 '총생활인구수'외에 불필요한 열을 제거 하도록 하겠습니다.\n",
    "* 시간 데이터를 남기고, '시간대구분' column 을 'hour'로 rename 하도록 하겠습니다. "
   ]
  },
  {
   "cell_type": "code",
   "execution_count": 59,
   "id": "2f024b9b",
   "metadata": {},
   "outputs": [],
   "source": [
    "train = df_total.drop(list(df_total)[3:-3], axis=1)\n",
    "test = df_test.drop(list(df_test)[3:-3], axis=1)"
   ]
  },
  {
   "cell_type": "code",
   "execution_count": 60,
   "id": "0bd4ebf8",
   "metadata": {},
   "outputs": [],
   "source": [
    "train['hour'] = train['시간대구분']\n",
    "test['hour'] = test['시간대구분']"
   ]
  },
  {
   "cell_type": "code",
   "execution_count": 61,
   "id": "0d8c570b",
   "metadata": {},
   "outputs": [],
   "source": [
    "train.drop(['기준일ID', '시간대구분'], axis=1, inplace=True)\n",
    "test.drop(['기준일ID', '시간대구분'], axis=1, inplace=True)"
   ]
  },
  {
   "cell_type": "markdown",
   "id": "a3431933",
   "metadata": {},
   "source": [
    "#### [실습문제3] 시프트 & 롤링\n",
    "* shift()를 활용하여 이동할 행 수를 지정합니다.\n",
    "* rolling()을 활용하여 추가할 이동평균 수를 지정합니다."
   ]
  },
  {
   "cell_type": "markdown",
   "id": "e5e733fe",
   "metadata": {},
   "source": [
    "#### shift()로 일일 생활인구수 평균"
   ]
  },
  {
   "cell_type": "code",
   "execution_count": 63,
   "id": "010ec59a",
   "metadata": {},
   "outputs": [],
   "source": [
    "train.columns = ['TRP', 'year', 'month', 'day', 'hour']\n",
    "test.columns = ['TRP', 'year', 'month', 'day', 'hour']"
   ]
  },
  {
   "cell_type": "code",
   "execution_count": 64,
   "id": "e3eebd11",
   "metadata": {},
   "outputs": [
    {
     "data": {
      "text/html": [
       "<div>\n",
       "<style scoped>\n",
       "    .dataframe tbody tr th:only-of-type {\n",
       "        vertical-align: middle;\n",
       "    }\n",
       "\n",
       "    .dataframe tbody tr th {\n",
       "        vertical-align: top;\n",
       "    }\n",
       "\n",
       "    .dataframe thead th {\n",
       "        text-align: right;\n",
       "    }\n",
       "</style>\n",
       "<table border=\"1\" class=\"dataframe\">\n",
       "  <thead>\n",
       "    <tr style=\"text-align: right;\">\n",
       "      <th></th>\n",
       "      <th>TRP</th>\n",
       "      <th>year</th>\n",
       "      <th>month</th>\n",
       "      <th>day</th>\n",
       "      <th>hour</th>\n",
       "      <th>TRP_day</th>\n",
       "    </tr>\n",
       "  </thead>\n",
       "  <tbody>\n",
       "    <tr>\n",
       "      <th>0</th>\n",
       "      <td>31535.2200</td>\n",
       "      <td>2017</td>\n",
       "      <td>1</td>\n",
       "      <td>1</td>\n",
       "      <td>0</td>\n",
       "      <td>31535.2</td>\n",
       "    </tr>\n",
       "    <tr>\n",
       "      <th>1</th>\n",
       "      <td>31188.9174</td>\n",
       "      <td>2017</td>\n",
       "      <td>1</td>\n",
       "      <td>1</td>\n",
       "      <td>1</td>\n",
       "      <td>31362.1</td>\n",
       "    </tr>\n",
       "    <tr>\n",
       "      <th>2</th>\n",
       "      <td>31240.4974</td>\n",
       "      <td>2017</td>\n",
       "      <td>1</td>\n",
       "      <td>1</td>\n",
       "      <td>2</td>\n",
       "      <td>31321.5</td>\n",
       "    </tr>\n",
       "    <tr>\n",
       "      <th>3</th>\n",
       "      <td>31442.4314</td>\n",
       "      <td>2017</td>\n",
       "      <td>1</td>\n",
       "      <td>1</td>\n",
       "      <td>3</td>\n",
       "      <td>31351.8</td>\n",
       "    </tr>\n",
       "    <tr>\n",
       "      <th>4</th>\n",
       "      <td>31922.7751</td>\n",
       "      <td>2017</td>\n",
       "      <td>1</td>\n",
       "      <td>1</td>\n",
       "      <td>4</td>\n",
       "      <td>31466.0</td>\n",
       "    </tr>\n",
       "  </tbody>\n",
       "</table>\n",
       "</div>"
      ],
      "text/plain": [
       "          TRP  year  month  day hour  TRP_day\n",
       "0  31535.2200  2017      1    1    0  31535.2\n",
       "1  31188.9174  2017      1    1    1  31362.1\n",
       "2  31240.4974  2017      1    1    2  31321.5\n",
       "3  31442.4314  2017      1    1    3  31351.8\n",
       "4  31922.7751  2017      1    1    4  31466.0"
      ]
     },
     "execution_count": 64,
     "metadata": {},
     "output_type": "execute_result"
    }
   ],
   "source": [
    "train['TRP_day'] = round(train['TRP'].rolling(7, min_periods=1).mean(), 1)\n",
    "train.head()"
   ]
  },
  {
   "cell_type": "code",
   "execution_count": 65,
   "id": "476d48df",
   "metadata": {},
   "outputs": [
    {
     "data": {
      "text/html": [
       "<div>\n",
       "<style scoped>\n",
       "    .dataframe tbody tr th:only-of-type {\n",
       "        vertical-align: middle;\n",
       "    }\n",
       "\n",
       "    .dataframe tbody tr th {\n",
       "        vertical-align: top;\n",
       "    }\n",
       "\n",
       "    .dataframe thead th {\n",
       "        text-align: right;\n",
       "    }\n",
       "</style>\n",
       "<table border=\"1\" class=\"dataframe\">\n",
       "  <thead>\n",
       "    <tr style=\"text-align: right;\">\n",
       "      <th></th>\n",
       "      <th>TRP</th>\n",
       "      <th>year</th>\n",
       "      <th>month</th>\n",
       "      <th>day</th>\n",
       "      <th>hour</th>\n",
       "      <th>TRP_day</th>\n",
       "    </tr>\n",
       "  </thead>\n",
       "  <tbody>\n",
       "    <tr>\n",
       "      <th>0</th>\n",
       "      <td>30509.7386</td>\n",
       "      <td>2022</td>\n",
       "      <td>1</td>\n",
       "      <td>1</td>\n",
       "      <td>0</td>\n",
       "      <td>30509.7</td>\n",
       "    </tr>\n",
       "    <tr>\n",
       "      <th>1</th>\n",
       "      <td>30759.5067</td>\n",
       "      <td>2022</td>\n",
       "      <td>1</td>\n",
       "      <td>1</td>\n",
       "      <td>1</td>\n",
       "      <td>30634.6</td>\n",
       "    </tr>\n",
       "    <tr>\n",
       "      <th>2</th>\n",
       "      <td>31048.8787</td>\n",
       "      <td>2022</td>\n",
       "      <td>1</td>\n",
       "      <td>1</td>\n",
       "      <td>2</td>\n",
       "      <td>30772.7</td>\n",
       "    </tr>\n",
       "    <tr>\n",
       "      <th>3</th>\n",
       "      <td>31076.1092</td>\n",
       "      <td>2022</td>\n",
       "      <td>1</td>\n",
       "      <td>1</td>\n",
       "      <td>3</td>\n",
       "      <td>30848.6</td>\n",
       "    </tr>\n",
       "    <tr>\n",
       "      <th>4</th>\n",
       "      <td>31714.9309</td>\n",
       "      <td>2022</td>\n",
       "      <td>1</td>\n",
       "      <td>1</td>\n",
       "      <td>4</td>\n",
       "      <td>31021.8</td>\n",
       "    </tr>\n",
       "  </tbody>\n",
       "</table>\n",
       "</div>"
      ],
      "text/plain": [
       "          TRP  year  month  day  hour  TRP_day\n",
       "0  30509.7386  2022      1    1     0  30509.7\n",
       "1  30759.5067  2022      1    1     1  30634.6\n",
       "2  31048.8787  2022      1    1     2  30772.7\n",
       "3  31076.1092  2022      1    1     3  30848.6\n",
       "4  31714.9309  2022      1    1     4  31021.8"
      ]
     },
     "execution_count": 65,
     "metadata": {},
     "output_type": "execute_result"
    }
   ],
   "source": [
    "test['TRP_day'] = round(test['TRP'].rolling(7, min_periods=1).mean(), 1)\n",
    "test.head()"
   ]
  },
  {
   "cell_type": "markdown",
   "id": "1b476a9e",
   "metadata": {},
   "source": [
    "#### target 값 설정"
   ]
  },
  {
   "cell_type": "code",
   "execution_count": 66,
   "id": "60c1c633",
   "metadata": {},
   "outputs": [
    {
     "name": "stdout",
     "output_type": "stream",
     "text": [
      "<class 'pandas.core.frame.DataFrame'>\n",
      "Int64Index: 43680 entries, 0 to 167\n",
      "Data columns (total 7 columns):\n",
      " #   Column   Non-Null Count  Dtype  \n",
      "---  ------   --------------  -----  \n",
      " 0   TRP      43680 non-null  float64\n",
      " 1   year     43680 non-null  int64  \n",
      " 2   month    43680 non-null  int64  \n",
      " 3   day      43680 non-null  int64  \n",
      " 4   hour     43680 non-null  int64  \n",
      " 5   TRP_day  43680 non-null  float64\n",
      " 6   target   43512 non-null  float64\n",
      "dtypes: float64(3), int64(4)\n",
      "memory usage: 2.7 MB\n"
     ]
    }
   ],
   "source": [
    "# target : 일주일 뒤 총생활인구수\n",
    "train = pd.concat([train, test.iloc[:24*7]], axis=0)  # 행으로 합치기\n",
    "train['target'] = train['TRP'].shift(-24*7)\n",
    "train.info()"
   ]
  },
  {
   "cell_type": "code",
   "execution_count": 67,
   "id": "38213ed5",
   "metadata": {},
   "outputs": [
    {
     "data": {
      "text/html": [
       "<div>\n",
       "<style scoped>\n",
       "    .dataframe tbody tr th:only-of-type {\n",
       "        vertical-align: middle;\n",
       "    }\n",
       "\n",
       "    .dataframe tbody tr th {\n",
       "        vertical-align: top;\n",
       "    }\n",
       "\n",
       "    .dataframe thead th {\n",
       "        text-align: right;\n",
       "    }\n",
       "</style>\n",
       "<table border=\"1\" class=\"dataframe\">\n",
       "  <thead>\n",
       "    <tr style=\"text-align: right;\">\n",
       "      <th></th>\n",
       "      <th>TRP</th>\n",
       "      <th>year</th>\n",
       "      <th>month</th>\n",
       "      <th>day</th>\n",
       "      <th>hour</th>\n",
       "      <th>TRP_day</th>\n",
       "      <th>target</th>\n",
       "    </tr>\n",
       "  </thead>\n",
       "  <tbody>\n",
       "    <tr>\n",
       "      <th>0</th>\n",
       "      <td>31535.2200</td>\n",
       "      <td>2017</td>\n",
       "      <td>1</td>\n",
       "      <td>1</td>\n",
       "      <td>0</td>\n",
       "      <td>31535.2</td>\n",
       "      <td>30716.3268</td>\n",
       "    </tr>\n",
       "    <tr>\n",
       "      <th>1</th>\n",
       "      <td>31188.9174</td>\n",
       "      <td>2017</td>\n",
       "      <td>1</td>\n",
       "      <td>1</td>\n",
       "      <td>1</td>\n",
       "      <td>31362.1</td>\n",
       "      <td>30673.4813</td>\n",
       "    </tr>\n",
       "    <tr>\n",
       "      <th>2</th>\n",
       "      <td>31240.4974</td>\n",
       "      <td>2017</td>\n",
       "      <td>1</td>\n",
       "      <td>1</td>\n",
       "      <td>2</td>\n",
       "      <td>31321.5</td>\n",
       "      <td>30535.9573</td>\n",
       "    </tr>\n",
       "    <tr>\n",
       "      <th>3</th>\n",
       "      <td>31442.4314</td>\n",
       "      <td>2017</td>\n",
       "      <td>1</td>\n",
       "      <td>1</td>\n",
       "      <td>3</td>\n",
       "      <td>31351.8</td>\n",
       "      <td>30884.0372</td>\n",
       "    </tr>\n",
       "    <tr>\n",
       "      <th>4</th>\n",
       "      <td>31922.7751</td>\n",
       "      <td>2017</td>\n",
       "      <td>1</td>\n",
       "      <td>1</td>\n",
       "      <td>4</td>\n",
       "      <td>31466.0</td>\n",
       "      <td>31353.9409</td>\n",
       "    </tr>\n",
       "    <tr>\n",
       "      <th>...</th>\n",
       "      <td>...</td>\n",
       "      <td>...</td>\n",
       "      <td>...</td>\n",
       "      <td>...</td>\n",
       "      <td>...</td>\n",
       "      <td>...</td>\n",
       "      <td>...</td>\n",
       "    </tr>\n",
       "    <tr>\n",
       "      <th>43507</th>\n",
       "      <td>33060.4555</td>\n",
       "      <td>2021</td>\n",
       "      <td>12</td>\n",
       "      <td>31</td>\n",
       "      <td>19</td>\n",
       "      <td>36846.6</td>\n",
       "      <td>33313.8579</td>\n",
       "    </tr>\n",
       "    <tr>\n",
       "      <th>43508</th>\n",
       "      <td>32360.1898</td>\n",
       "      <td>2021</td>\n",
       "      <td>12</td>\n",
       "      <td>31</td>\n",
       "      <td>20</td>\n",
       "      <td>35833.3</td>\n",
       "      <td>33467.1922</td>\n",
       "    </tr>\n",
       "    <tr>\n",
       "      <th>43509</th>\n",
       "      <td>31417.3991</td>\n",
       "      <td>2021</td>\n",
       "      <td>12</td>\n",
       "      <td>31</td>\n",
       "      <td>21</td>\n",
       "      <td>34814.8</td>\n",
       "      <td>31867.1341</td>\n",
       "    </tr>\n",
       "    <tr>\n",
       "      <th>43510</th>\n",
       "      <td>30763.0563</td>\n",
       "      <td>2021</td>\n",
       "      <td>12</td>\n",
       "      <td>31</td>\n",
       "      <td>22</td>\n",
       "      <td>33921.2</td>\n",
       "      <td>31615.5016</td>\n",
       "    </tr>\n",
       "    <tr>\n",
       "      <th>43511</th>\n",
       "      <td>30404.2740</td>\n",
       "      <td>2021</td>\n",
       "      <td>12</td>\n",
       "      <td>31</td>\n",
       "      <td>23</td>\n",
       "      <td>33052.0</td>\n",
       "      <td>32019.4949</td>\n",
       "    </tr>\n",
       "  </tbody>\n",
       "</table>\n",
       "<p>43512 rows × 7 columns</p>\n",
       "</div>"
      ],
      "text/plain": [
       "              TRP  year  month  day  hour  TRP_day      target\n",
       "0      31535.2200  2017      1    1     0  31535.2  30716.3268\n",
       "1      31188.9174  2017      1    1     1  31362.1  30673.4813\n",
       "2      31240.4974  2017      1    1     2  31321.5  30535.9573\n",
       "3      31442.4314  2017      1    1     3  31351.8  30884.0372\n",
       "4      31922.7751  2017      1    1     4  31466.0  31353.9409\n",
       "...           ...   ...    ...  ...   ...      ...         ...\n",
       "43507  33060.4555  2021     12   31    19  36846.6  33313.8579\n",
       "43508  32360.1898  2021     12   31    20  35833.3  33467.1922\n",
       "43509  31417.3991  2021     12   31    21  34814.8  31867.1341\n",
       "43510  30763.0563  2021     12   31    22  33921.2  31615.5016\n",
       "43511  30404.2740  2021     12   31    23  33052.0  32019.4949\n",
       "\n",
       "[43512 rows x 7 columns]"
      ]
     },
     "execution_count": 67,
     "metadata": {},
     "output_type": "execute_result"
    }
   ],
   "source": [
    "train.dropna(inplace=True) # null 값을 포함하는 행 삭제\n",
    "train"
   ]
  },
  {
   "cell_type": "code",
   "execution_count": 68,
   "id": "d9991045",
   "metadata": {},
   "outputs": [
    {
     "data": {
      "text/html": [
       "<div>\n",
       "<style scoped>\n",
       "    .dataframe tbody tr th:only-of-type {\n",
       "        vertical-align: middle;\n",
       "    }\n",
       "\n",
       "    .dataframe tbody tr th {\n",
       "        vertical-align: top;\n",
       "    }\n",
       "\n",
       "    .dataframe thead th {\n",
       "        text-align: right;\n",
       "    }\n",
       "</style>\n",
       "<table border=\"1\" class=\"dataframe\">\n",
       "  <thead>\n",
       "    <tr style=\"text-align: right;\">\n",
       "      <th></th>\n",
       "      <th>TRP</th>\n",
       "      <th>year</th>\n",
       "      <th>month</th>\n",
       "      <th>day</th>\n",
       "      <th>hour</th>\n",
       "      <th>TRP_day</th>\n",
       "      <th>target</th>\n",
       "    </tr>\n",
       "  </thead>\n",
       "  <tbody>\n",
       "    <tr>\n",
       "      <th>0</th>\n",
       "      <td>30509.7386</td>\n",
       "      <td>2022</td>\n",
       "      <td>1</td>\n",
       "      <td>1</td>\n",
       "      <td>0</td>\n",
       "      <td>30509.7</td>\n",
       "      <td>32163.4956</td>\n",
       "    </tr>\n",
       "    <tr>\n",
       "      <th>1</th>\n",
       "      <td>30759.5067</td>\n",
       "      <td>2022</td>\n",
       "      <td>1</td>\n",
       "      <td>1</td>\n",
       "      <td>1</td>\n",
       "      <td>30634.6</td>\n",
       "      <td>32375.9407</td>\n",
       "    </tr>\n",
       "    <tr>\n",
       "      <th>2</th>\n",
       "      <td>31048.8787</td>\n",
       "      <td>2022</td>\n",
       "      <td>1</td>\n",
       "      <td>1</td>\n",
       "      <td>2</td>\n",
       "      <td>30772.7</td>\n",
       "      <td>32817.7526</td>\n",
       "    </tr>\n",
       "    <tr>\n",
       "      <th>3</th>\n",
       "      <td>31076.1092</td>\n",
       "      <td>2022</td>\n",
       "      <td>1</td>\n",
       "      <td>1</td>\n",
       "      <td>3</td>\n",
       "      <td>30848.6</td>\n",
       "      <td>33028.2197</td>\n",
       "    </tr>\n",
       "    <tr>\n",
       "      <th>4</th>\n",
       "      <td>31714.9309</td>\n",
       "      <td>2022</td>\n",
       "      <td>1</td>\n",
       "      <td>1</td>\n",
       "      <td>4</td>\n",
       "      <td>31021.8</td>\n",
       "      <td>33827.9747</td>\n",
       "    </tr>\n",
       "    <tr>\n",
       "      <th>...</th>\n",
       "      <td>...</td>\n",
       "      <td>...</td>\n",
       "      <td>...</td>\n",
       "      <td>...</td>\n",
       "      <td>...</td>\n",
       "      <td>...</td>\n",
       "      <td>...</td>\n",
       "    </tr>\n",
       "    <tr>\n",
       "      <th>4171</th>\n",
       "      <td>32368.9760</td>\n",
       "      <td>2022</td>\n",
       "      <td>6</td>\n",
       "      <td>23</td>\n",
       "      <td>19</td>\n",
       "      <td>37025.4</td>\n",
       "      <td>32969.6040</td>\n",
       "    </tr>\n",
       "    <tr>\n",
       "      <th>4172</th>\n",
       "      <td>30551.3557</td>\n",
       "      <td>2022</td>\n",
       "      <td>6</td>\n",
       "      <td>23</td>\n",
       "      <td>20</td>\n",
       "      <td>35609.2</td>\n",
       "      <td>31014.6597</td>\n",
       "    </tr>\n",
       "    <tr>\n",
       "      <th>4173</th>\n",
       "      <td>29836.6983</td>\n",
       "      <td>2022</td>\n",
       "      <td>6</td>\n",
       "      <td>23</td>\n",
       "      <td>21</td>\n",
       "      <td>34232.6</td>\n",
       "      <td>30923.2923</td>\n",
       "    </tr>\n",
       "    <tr>\n",
       "      <th>4174</th>\n",
       "      <td>30643.8556</td>\n",
       "      <td>2022</td>\n",
       "      <td>6</td>\n",
       "      <td>23</td>\n",
       "      <td>22</td>\n",
       "      <td>33057.3</td>\n",
       "      <td>30509.5463</td>\n",
       "    </tr>\n",
       "    <tr>\n",
       "      <th>4175</th>\n",
       "      <td>31539.6470</td>\n",
       "      <td>2022</td>\n",
       "      <td>6</td>\n",
       "      <td>23</td>\n",
       "      <td>23</td>\n",
       "      <td>32209.3</td>\n",
       "      <td>31184.8763</td>\n",
       "    </tr>\n",
       "  </tbody>\n",
       "</table>\n",
       "<p>4176 rows × 7 columns</p>\n",
       "</div>"
      ],
      "text/plain": [
       "             TRP  year  month  day  hour  TRP_day      target\n",
       "0     30509.7386  2022      1    1     0  30509.7  32163.4956\n",
       "1     30759.5067  2022      1    1     1  30634.6  32375.9407\n",
       "2     31048.8787  2022      1    1     2  30772.7  32817.7526\n",
       "3     31076.1092  2022      1    1     3  30848.6  33028.2197\n",
       "4     31714.9309  2022      1    1     4  31021.8  33827.9747\n",
       "...          ...   ...    ...  ...   ...      ...         ...\n",
       "4171  32368.9760  2022      6   23    19  37025.4  32969.6040\n",
       "4172  30551.3557  2022      6   23    20  35609.2  31014.6597\n",
       "4173  29836.6983  2022      6   23    21  34232.6  30923.2923\n",
       "4174  30643.8556  2022      6   23    22  33057.3  30509.5463\n",
       "4175  31539.6470  2022      6   23    23  32209.3  31184.8763\n",
       "\n",
       "[4176 rows x 7 columns]"
      ]
     },
     "execution_count": 68,
     "metadata": {},
     "output_type": "execute_result"
    }
   ],
   "source": [
    "test['target'] = test['TRP'].shift(-24*7)\n",
    "test.dropna(inplace=True) # null 값을 포함하는 행 삭제\n",
    "test"
   ]
  },
  {
   "cell_type": "markdown",
   "id": "combined-python",
   "metadata": {},
   "source": [
    "#### [실습문제4] 결측치 처리 및 불필요한 열 제거\n",
    "* 롤링 & 시프트 과정에서 발생한 결측치를 처리하도록 하겠습니다.\n",
    "* 불필요한 열을 추가로 제거 하겠습니다.(시간 관련 행들)"
   ]
  },
  {
   "cell_type": "code",
   "execution_count": 20,
   "id": "de88e130",
   "metadata": {},
   "outputs": [],
   "source": [
    "# 아래에 실습코드를 작성하고 결과를 확인합니다.\n",
    "\n"
   ]
  },
  {
   "cell_type": "code",
   "execution_count": 21,
   "id": "driven-optimization",
   "metadata": {},
   "outputs": [],
   "source": [
    "# 아래에 실습코드를 작성하고 결과를 확인합니다.\n",
    "\n",
    "\n"
   ]
  },
  {
   "cell_type": "markdown",
   "id": "dependent-motion",
   "metadata": {},
   "source": [
    "#### [실습문제5] train, test 데이터 나누기\n",
    "* df_total과 df_test를 각각 train_x, train_y, test_x, test_y 로 나누어 주세요.\n",
    "* 인덱스를 리셋 해주세요."
   ]
  },
  {
   "cell_type": "code",
   "execution_count": 73,
   "id": "fb1080c2",
   "metadata": {},
   "outputs": [
    {
     "name": "stdout",
     "output_type": "stream",
     "text": [
      "<class 'pandas.core.frame.DataFrame'>\n",
      "Int64Index: 43512 entries, 0 to 43511\n",
      "Data columns (total 7 columns):\n",
      " #   Column   Non-Null Count  Dtype  \n",
      "---  ------   --------------  -----  \n",
      " 0   TRP      43512 non-null  float64\n",
      " 1   year     43512 non-null  int64  \n",
      " 2   month    43512 non-null  int64  \n",
      " 3   day      43512 non-null  int64  \n",
      " 4   hour     43512 non-null  int64  \n",
      " 5   TRP_day  43512 non-null  float64\n",
      " 6   target   43512 non-null  float64\n",
      "dtypes: float64(3), int64(4)\n",
      "memory usage: 2.7 MB\n"
     ]
    }
   ],
   "source": [
    "train.info()"
   ]
  },
  {
   "cell_type": "code",
   "execution_count": 77,
   "id": "55268d16",
   "metadata": {},
   "outputs": [
    {
     "name": "stdout",
     "output_type": "stream",
     "text": [
      "<class 'pandas.core.frame.DataFrame'>\n",
      "Int64Index: 43512 entries, 0 to 43511\n",
      "Data columns (total 7 columns):\n",
      " #   Column   Non-Null Count  Dtype   \n",
      "---  ------   --------------  -----   \n",
      " 0   TRP      43512 non-null  float64 \n",
      " 1   year     43512 non-null  category\n",
      " 2   month    43512 non-null  category\n",
      " 3   day      43512 non-null  category\n",
      " 4   hour     43512 non-null  category\n",
      " 5   TRP_day  43512 non-null  float64 \n",
      " 6   target   43512 non-null  float64 \n",
      "dtypes: category(4), float64(3)\n",
      "memory usage: 1.5 MB\n"
     ]
    }
   ],
   "source": [
    "train['year'], train['month'], train['day'], train['hour'] = pd.Categorical(train['year']), pd.Categorical(train['month']), pd.Categorical(train['day']), pd.Categorical(train['hour'])\n",
    "train.info()"
   ]
  },
  {
   "cell_type": "code",
   "execution_count": 78,
   "id": "8aaeba6d",
   "metadata": {},
   "outputs": [
    {
     "name": "stdout",
     "output_type": "stream",
     "text": [
      "<class 'pandas.core.frame.DataFrame'>\n",
      "Int64Index: 4176 entries, 0 to 4175\n",
      "Data columns (total 7 columns):\n",
      " #   Column   Non-Null Count  Dtype   \n",
      "---  ------   --------------  -----   \n",
      " 0   TRP      4176 non-null   float64 \n",
      " 1   year     4176 non-null   category\n",
      " 2   month    4176 non-null   category\n",
      " 3   day      4176 non-null   category\n",
      " 4   hour     4176 non-null   category\n",
      " 5   TRP_day  4176 non-null   float64 \n",
      " 6   target   4176 non-null   float64 \n",
      "dtypes: category(4), float64(3)\n",
      "memory usage: 149.2 KB\n"
     ]
    }
   ],
   "source": [
    "test['year'], test['month'], test['day'], test['hour'] = pd.Categorical(test['year']), pd.Categorical(test['month']), pd.Categorical(test['day']), pd.Categorical(test['hour'])\n",
    "test.info()"
   ]
  },
  {
   "cell_type": "code",
   "execution_count": 79,
   "id": "92652b6b",
   "metadata": {},
   "outputs": [],
   "source": [
    "train_x = train.drop('target', axis=1)\n",
    "train_y = train['target']\n",
    "test_x = test.drop('target', axis=1)\n",
    "test_y = test['target']"
   ]
  },
  {
   "cell_type": "markdown",
   "id": "dramatic-meditation",
   "metadata": {},
   "source": [
    "---"
   ]
  },
  {
   "cell_type": "markdown",
   "id": "bridal-closer",
   "metadata": {},
   "source": [
    "## 다음 단계를 위해서 데이터를 저장하겠습니다."
   ]
  },
  {
   "cell_type": "code",
   "execution_count": 80,
   "id": "designed-cartridge",
   "metadata": {},
   "outputs": [],
   "source": [
    "# CSV로 저장\n",
    "train_x.to_csv('train_x.csv', index = False)\n",
    "train_y.to_csv('train_y.csv', index = False)\n",
    "test_x.to_csv('test_x.csv', index = False)\n",
    "test_y.to_csv('test_y.csv', index = False)"
   ]
  },
  {
   "cell_type": "markdown",
   "id": "b70ee587",
   "metadata": {},
   "source": [
    "---"
   ]
  }
 ],
 "metadata": {
  "kernelspec": {
   "display_name": "Python 3 (ipykernel)",
   "language": "python",
   "name": "python3"
  },
  "language_info": {
   "codemirror_mode": {
    "name": "ipython",
    "version": 3
   },
   "file_extension": ".py",
   "mimetype": "text/x-python",
   "name": "python",
   "nbconvert_exporter": "python",
   "pygments_lexer": "ipython3",
   "version": "3.11.3"
  },
  "vscode": {
   "interpreter": {
    "hash": "f08154012ddadd8e950e6e9e035c7a7b32c136e7647e9b7c77e02eb723a8bedb"
   }
  }
 },
 "nbformat": 4,
 "nbformat_minor": 5
}
