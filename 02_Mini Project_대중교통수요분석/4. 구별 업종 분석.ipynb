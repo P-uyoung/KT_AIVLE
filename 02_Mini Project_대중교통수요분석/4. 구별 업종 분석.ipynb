{
 "cells": [
  {
   "cell_type": "markdown",
   "id": "6e5ac192-b467-4b77-832f-282cd98c0977",
   "metadata": {},
   "source": [
    "## AIVLE School [AI 미니프로젝트] '서울시 생활정보 기반 대중교통 수요 분석'"
   ]
  },
  {
   "cell_type": "markdown",
   "id": "ef575059",
   "metadata": {},
   "source": [
    "---"
   ]
  },
  {
   "cell_type": "markdown",
   "id": "d4432995-cf83-4bf0-b2ea-e2691a735fd3",
   "metadata": {},
   "source": [
    "# 4. 구 별 업종 분석\n",
    "### 서울시 내 각 구 별로 등록업종을 분석합니다."
   ]
  },
  {
   "cell_type": "markdown",
   "id": "0f5d22b8-fc14-488c-aa36-62553981a5ad",
   "metadata": {},
   "source": [
    "## 데이터 안내\n",
    "\n",
    "[데이터 파일명]\n",
    "* 4. seoul_people.csv\n",
    "\n",
    "[데이터 정보]\n",
    "* 서울 시 구별 등록 업종 상위 10개 데이터\n",
    "    * 택시운송업\n",
    "    * 한식일반음식점업\n",
    "    * 용달 화물자동차 운송업\n",
    "    * 부동산 중개 및 대리업\n",
    "    * 두발미용업\n",
    "    * 커피전문점\n",
    "    * 남녀용 겉옷 및 셔츠 도매업\n",
    "    * 기타주점업\n",
    "    * 일반 교과 학원\n",
    "    * 한식 육류요리 전문점\n",
    "\n",
    "[데이터 컬럼 정보]\n",
    "* 다수 업종 상위 1~10"
   ]
  },
  {
   "cell_type": "code",
   "execution_count": null,
   "id": "4c6ced42",
   "metadata": {},
   "outputs": [],
   "source": [
    "# 필요 라이브러리를 설치합니다.\n",
    "%pip install pandas seaborn"
   ]
  },
  {
   "cell_type": "markdown",
   "id": "matched-broad",
   "metadata": {},
   "source": [
    "---"
   ]
  },
  {
   "cell_type": "markdown",
   "id": "ecd49e73-152e-4ce8-89cc-62484af2a059",
   "metadata": {},
   "source": [
    "# 4.1.데이터 불러오기"
   ]
  },
  {
   "cell_type": "markdown",
   "id": "2162496e-7b4e-460d-9241-cc2877830c3a",
   "metadata": {},
   "source": [
    "#### [4.1.1] 데이터 로딩\n",
    "* Pandas 라이브러리를 활용해서 '4. business_type.csv'파일을 'seoul_business' 변수에 저장하세요.\n",
    "    * 데이터 파일 로딩시 참고 사항 \n",
    "        * 구분자(sep)는 ',' 입니다\n",
    "        * 인코더를 사용해 주세요\n",
    "    * 데이터를 불러올 때 오류가 발생한다면, 오류에 대해 직접 검색하여 해결해보세요."
   ]
  },
  {
   "cell_type": "code",
   "execution_count": 2,
   "id": "saving-slope",
   "metadata": {
    "tags": []
   },
   "outputs": [
    {
     "data": {
      "text/html": [
       "<div>\n",
       "<style scoped>\n",
       "    .dataframe tbody tr th:only-of-type {\n",
       "        vertical-align: middle;\n",
       "    }\n",
       "\n",
       "    .dataframe tbody tr th {\n",
       "        vertical-align: top;\n",
       "    }\n",
       "\n",
       "    .dataframe thead th {\n",
       "        text-align: right;\n",
       "    }\n",
       "</style>\n",
       "<table border=\"1\" class=\"dataframe\">\n",
       "  <thead>\n",
       "    <tr style=\"text-align: right;\">\n",
       "      <th></th>\n",
       "      <th>도착 시군구 코드</th>\n",
       "      <th>자치구</th>\n",
       "      <th>버스정류장개수</th>\n",
       "      <th>노선개수</th>\n",
       "      <th>승차총승객수</th>\n",
       "      <th>하차총승객수</th>\n",
       "      <th>승차평균승객수</th>\n",
       "      <th>하차평균승객수</th>\n",
       "      <th>평균 이동 시간(분)</th>\n",
       "      <th>이동인구(평균)</th>\n",
       "      <th>...</th>\n",
       "      <th>한식 일반 음식점업</th>\n",
       "      <th>용달 화물자동차 운송업</th>\n",
       "      <th>부동산 중개 및 대리업</th>\n",
       "      <th>두발미용업</th>\n",
       "      <th>커피전문점</th>\n",
       "      <th>남녀용 겉옷 및 셔츠 도매업</th>\n",
       "      <th>기타주점업</th>\n",
       "      <th>일반 교과 학원</th>\n",
       "      <th>한식 육류요리 전문점</th>\n",
       "      <th>종사자총합</th>\n",
       "    </tr>\n",
       "  </thead>\n",
       "  <tbody>\n",
       "    <tr>\n",
       "      <th>0</th>\n",
       "      <td>11010</td>\n",
       "      <td>종로구</td>\n",
       "      <td>349</td>\n",
       "      <td>106</td>\n",
       "      <td>5468935</td>\n",
       "      <td>5205394</td>\n",
       "      <td>131.889620</td>\n",
       "      <td>125.534028</td>\n",
       "      <td>21.867754</td>\n",
       "      <td>46.046219</td>\n",
       "      <td>...</td>\n",
       "      <td>5912</td>\n",
       "      <td>646</td>\n",
       "      <td>889</td>\n",
       "      <td>480</td>\n",
       "      <td>3613</td>\n",
       "      <td>962</td>\n",
       "      <td>1413</td>\n",
       "      <td>382</td>\n",
       "      <td>1982</td>\n",
       "      <td>16494</td>\n",
       "    </tr>\n",
       "    <tr>\n",
       "      <th>1</th>\n",
       "      <td>11020</td>\n",
       "      <td>중구</td>\n",
       "      <td>178</td>\n",
       "      <td>103</td>\n",
       "      <td>3776675</td>\n",
       "      <td>3598932</td>\n",
       "      <td>121.020124</td>\n",
       "      <td>115.324511</td>\n",
       "      <td>21.524817</td>\n",
       "      <td>46.214336</td>\n",
       "      <td>...</td>\n",
       "      <td>6414</td>\n",
       "      <td>333</td>\n",
       "      <td>1152</td>\n",
       "      <td>816</td>\n",
       "      <td>3542</td>\n",
       "      <td>24248</td>\n",
       "      <td>982</td>\n",
       "      <td>175</td>\n",
       "      <td>2121</td>\n",
       "      <td>40018</td>\n",
       "    </tr>\n",
       "    <tr>\n",
       "      <th>2</th>\n",
       "      <td>11030</td>\n",
       "      <td>용산구</td>\n",
       "      <td>323</td>\n",
       "      <td>67</td>\n",
       "      <td>4189977</td>\n",
       "      <td>4086474</td>\n",
       "      <td>137.891694</td>\n",
       "      <td>134.485421</td>\n",
       "      <td>21.820458</td>\n",
       "      <td>38.412082</td>\n",
       "      <td>...</td>\n",
       "      <td>2987</td>\n",
       "      <td>466</td>\n",
       "      <td>1214</td>\n",
       "      <td>777</td>\n",
       "      <td>2076</td>\n",
       "      <td>317</td>\n",
       "      <td>1332</td>\n",
       "      <td>573</td>\n",
       "      <td>1184</td>\n",
       "      <td>11449</td>\n",
       "    </tr>\n",
       "    <tr>\n",
       "      <th>3</th>\n",
       "      <td>11040</td>\n",
       "      <td>성동구</td>\n",
       "      <td>435</td>\n",
       "      <td>58</td>\n",
       "      <td>2807280</td>\n",
       "      <td>2746738</td>\n",
       "      <td>96.377369</td>\n",
       "      <td>94.298888</td>\n",
       "      <td>22.150334</td>\n",
       "      <td>44.717847</td>\n",
       "      <td>...</td>\n",
       "      <td>2785</td>\n",
       "      <td>1161</td>\n",
       "      <td>1453</td>\n",
       "      <td>851</td>\n",
       "      <td>1859</td>\n",
       "      <td>1572</td>\n",
       "      <td>621</td>\n",
       "      <td>1494</td>\n",
       "      <td>1545</td>\n",
       "      <td>15868</td>\n",
       "    </tr>\n",
       "    <tr>\n",
       "      <th>4</th>\n",
       "      <td>11050</td>\n",
       "      <td>광진구</td>\n",
       "      <td>269</td>\n",
       "      <td>41</td>\n",
       "      <td>2749448</td>\n",
       "      <td>2753411</td>\n",
       "      <td>118.352546</td>\n",
       "      <td>118.523137</td>\n",
       "      <td>22.810568</td>\n",
       "      <td>50.043326</td>\n",
       "      <td>...</td>\n",
       "      <td>2861</td>\n",
       "      <td>985</td>\n",
       "      <td>1313</td>\n",
       "      <td>1337</td>\n",
       "      <td>1887</td>\n",
       "      <td>687</td>\n",
       "      <td>1577</td>\n",
       "      <td>1646</td>\n",
       "      <td>1678</td>\n",
       "      <td>15715</td>\n",
       "    </tr>\n",
       "  </tbody>\n",
       "</table>\n",
       "<p>5 rows × 26 columns</p>\n",
       "</div>"
      ],
      "text/plain": [
       "   도착 시군구 코드  자치구  버스정류장개수  노선개수   승차총승객수   하차총승객수     승차평균승객수     하차평균승객수  \\\n",
       "0      11010  종로구      349   106  5468935  5205394  131.889620  125.534028   \n",
       "1      11020   중구      178   103  3776675  3598932  121.020124  115.324511   \n",
       "2      11030  용산구      323    67  4189977  4086474  137.891694  134.485421   \n",
       "3      11040  성동구      435    58  2807280  2746738   96.377369   94.298888   \n",
       "4      11050  광진구      269    41  2749448  2753411  118.352546  118.523137   \n",
       "\n",
       "   평균 이동 시간(분)   이동인구(평균)  ...  한식 일반 음식점업  용달 화물자동차 운송업  부동산 중개 및 대리업  두발미용업  \\\n",
       "0    21.867754  46.046219  ...        5912           646           889    480   \n",
       "1    21.524817  46.214336  ...        6414           333          1152    816   \n",
       "2    21.820458  38.412082  ...        2987           466          1214    777   \n",
       "3    22.150334  44.717847  ...        2785          1161          1453    851   \n",
       "4    22.810568  50.043326  ...        2861           985          1313   1337   \n",
       "\n",
       "   커피전문점  남녀용 겉옷 및 셔츠 도매업  기타주점업  일반 교과 학원  한식 육류요리 전문점  종사자총합  \n",
       "0   3613              962   1413       382         1982  16494  \n",
       "1   3542            24248    982       175         2121  40018  \n",
       "2   2076              317   1332       573         1184  11449  \n",
       "3   1859             1572    621      1494         1545  15868  \n",
       "4   1887              687   1577      1646         1678  15715  \n",
       "\n",
       "[5 rows x 26 columns]"
      ]
     },
     "execution_count": 2,
     "metadata": {},
     "output_type": "execute_result"
    }
   ],
   "source": [
    "# 아래에 코드를 작성하고 결과를 확인합니다.\n",
    "import pandas as pd\n",
    "data = pd.read_csv('df_temp_ver1.csv')\n",
    "data.head()"
   ]
  },
  {
   "cell_type": "code",
   "execution_count": 4,
   "id": "d477e48c-777b-41b7-afe9-a80d142bd6f3",
   "metadata": {
    "tags": []
   },
   "outputs": [
    {
     "data": {
      "text/plain": [
       "Index(['도착 시군구 코드', '자치구', '버스정류장개수', '노선개수', '승차총승객수', '하차총승객수', '승차평균승객수',\n",
       "       '하차평균승객수', '평균 이동 시간(분)', '이동인구(평균)', '평균 이동 시간의 합(분)', '이동인구(합)', '세대',\n",
       "       '인구', '세대당인구', '택시운송업', '한식 일반 음식점업', '용달 화물자동차 운송업', '부동산 중개 및 대리업',\n",
       "       '두발미용업', '커피전문점', '남녀용 겉옷 및 셔츠 도매업', '기타주점업', '일반 교과 학원', '한식 육류요리 전문점',\n",
       "       '종사자총합'],\n",
       "      dtype='object')"
      ]
     },
     "execution_count": 4,
     "metadata": {},
     "output_type": "execute_result"
    }
   ],
   "source": [
    "data.columns"
   ]
  },
  {
   "cell_type": "markdown",
   "id": "73396b42",
   "metadata": {},
   "source": [
    "---"
   ]
  },
  {
   "cell_type": "markdown",
   "id": "annoying-trout",
   "metadata": {},
   "source": [
    "# 4.2.기본 정보 확인 및 클렌징\n",
    "\n",
    "+ 데이터 클렌징 : 결측치, 이상치 등을 제거하여 데이터 분석 결과가 왜곡 되는 문제를 방지하기 위한 정제 과정"
   ]
  },
  {
   "cell_type": "markdown",
   "id": "romantic-johnson",
   "metadata": {},
   "source": [
    "#### [4.2.1] 기본 정보 확인하기\n",
    "* 'seoul_business' 데이터의 정보를 확인해보세요.\n",
    "* 'describe', 'info', 'head', 'tail' 등 전부 활용해 보겠습니다."
   ]
  },
  {
   "cell_type": "code",
   "execution_count": null,
   "id": "demographic-battery",
   "metadata": {},
   "outputs": [],
   "source": [
    "# 아래에 코드를 작성하고 결과를 확인합니다.\n",
    "\n"
   ]
  },
  {
   "cell_type": "code",
   "execution_count": null,
   "id": "940a114a",
   "metadata": {},
   "outputs": [],
   "source": [
    "# 아래에 코드를 작성하고 결과를 확인합니다.\n",
    "\n"
   ]
  },
  {
   "cell_type": "code",
   "execution_count": null,
   "id": "7343fadf",
   "metadata": {},
   "outputs": [],
   "source": [
    "# 아래에 코드를 작성하고 결과를 확인합니다.\n"
   ]
  },
  {
   "cell_type": "code",
   "execution_count": null,
   "id": "7f77b32f",
   "metadata": {},
   "outputs": [],
   "source": [
    "# 아래에 코드를 작성하고 결과를 확인합니다.\n"
   ]
  },
  {
   "cell_type": "markdown",
   "id": "003322b3",
   "metadata": {},
   "source": [
    "#### [4.2.2] 원하는 데이터 형태로 저장하기\n",
    "\n",
    "* head, tail 등을 살펴본 결과를 토대로 header 값을 적절히 지정하여 데이터를 다시 불러오고 필요한 컬럼만 저장하세요"
   ]
  },
  {
   "cell_type": "code",
   "execution_count": null,
   "id": "aceaca60",
   "metadata": {},
   "outputs": [],
   "source": [
    "#read_csv 재실행. 단, header값을 적절히 지정\n",
    "\n"
   ]
  },
  {
   "cell_type": "code",
   "execution_count": null,
   "id": "1ea9fcd3",
   "metadata": {},
   "outputs": [],
   "source": [
    "# 다시 불러온 데이터프레임에서 여러분 각자가 사용하고자 하는 컬럼만 가져오세요.\n"
   ]
  },
  {
   "cell_type": "code",
   "execution_count": null,
   "id": "f4954a1f",
   "metadata": {},
   "outputs": [],
   "source": [
    "# 여러분 각자가 사용하고자 하는 형태로 데이터를 정리합니다. \n",
    "# 예를 들어, 동 컬럼의 값이 소계인 항목들만 골라내 보겠습니다. \n",
    "# 위와 같이 동 컬럼의 소계를 구하면 자치구 별 값이 되므로 이후에 동 컬럼은 삭제하겠습니다. 결과적으로 자치구 별 값을 얻게 됩니다.\n"
   ]
  },
  {
   "cell_type": "code",
   "execution_count": null,
   "id": "39eb59e7",
   "metadata": {},
   "outputs": [],
   "source": [
    "# 위에서 여러분 각자가 사용하고자 하는 형태로 정리한 해당 데이터프레임을 csv 파일('df_seoul_business.csv')로 저장하세요.\n",
    "\n"
   ]
  },
  {
   "cell_type": "markdown",
   "id": "602b8bae",
   "metadata": {},
   "source": [
    "---"
   ]
  },
  {
   "cell_type": "markdown",
   "id": "d6300dee-d09a-42f9-b5f0-8b4b4b43daa3",
   "metadata": {},
   "source": [
    "# 4.3.데이터 분석하기\n",
    "+ 데이터의 형태를 살펴보고 다양한 분석기법을 통해 모델링에 적합하도록 정제요소를 선별하세요.\n",
    "  * 데이터들의 패턴 탐색\n",
    "  * 변수들간의 관계 파악"
   ]
  },
  {
   "cell_type": "code",
   "execution_count": null,
   "id": "194ae01d",
   "metadata": {},
   "outputs": [],
   "source": [
    "# 시각화 한글폰트 설정\n",
    "import seaborn as sns\n",
    "import matplotlib.pyplot as plt\n",
    "\n",
    "plt.rc('font', family='Malgun Gothic')\n",
    "sns.set(font=\"Malgun Gothic\",#\"NanumGothicCoding\", \n",
    "        rc={\"axes.unicode_minus\":False}, # 마이너스 부호 깨짐 현상 해결\n",
    "        style='darkgrid')        "
   ]
  },
  {
   "cell_type": "markdown",
   "id": "material-complex",
   "metadata": {},
   "source": [
    "#### [4.3.1] 데이터 분포 알아보기_1\n",
    "* '자치구' 등 여러 변수를 기준으로 시각화 해보고 인사이트를 도출해보세요."
   ]
  },
  {
   "cell_type": "code",
   "execution_count": null,
   "id": "2a610ade",
   "metadata": {},
   "outputs": [],
   "source": [
    "# 아래에 코드를 작성하고 결과를 확인합니다.\n"
   ]
  },
  {
   "cell_type": "code",
   "execution_count": null,
   "id": "86892a60",
   "metadata": {},
   "outputs": [],
   "source": [
    "# 위 차트를 통해 알게된 사실을 정리해봅시다.\n",
    "# 1. \n",
    "# 2.\n",
    "# 3."
   ]
  },
  {
   "cell_type": "markdown",
   "id": "ca567b34",
   "metadata": {},
   "source": [
    "---"
   ]
  }
 ],
 "metadata": {
  "kernelspec": {
   "display_name": "Python 3 (ipykernel)",
   "language": "python",
   "name": "python3"
  },
  "language_info": {
   "codemirror_mode": {
    "name": "ipython",
    "version": 3
   },
   "file_extension": ".py",
   "mimetype": "text/x-python",
   "name": "python",
   "nbconvert_exporter": "python",
   "pygments_lexer": "ipython3",
   "version": "3.11.3"
  },
  "vscode": {
   "interpreter": {
    "hash": "f08154012ddadd8e950e6e9e035c7a7b32c136e7647e9b7c77e02eb723a8bedb"
   }
  }
 },
 "nbformat": 4,
 "nbformat_minor": 5
}
