{
 "cells": [
  {
   "cell_type": "markdown",
   "id": "2f46af77",
   "metadata": {},
   "source": [
    "### 네이버 연관 검색어 수집\n",
    "- 정적(static) 웹페이지 데이터 수집 \n",
    "- BeautifulSoup을 이용하여 HTML 문자열 데이터 parsing"
   ]
  },
  {
   "cell_type": "code",
   "execution_count": 6,
   "id": "c1581d54",
   "metadata": {
    "tags": []
   },
   "outputs": [],
   "source": [
    "import pandas as pd \n",
    "import requests\n",
    "from bs4 import BeautifulSoup"
   ]
  },
  {
   "cell_type": "markdown",
   "id": "16030538",
   "metadata": {},
   "source": [
    "#### 1. 웹페이지 분석 : URL"
   ]
  },
  {
   "cell_type": "code",
   "execution_count": 4,
   "id": "7d4b2b6e-7457-48dc-98a9-248bc5957408",
   "metadata": {
    "tags": []
   },
   "outputs": [
    {
     "data": {
      "text/plain": [
       "'https://search.naver.com/search.naver?query=삼성전자'"
      ]
     },
     "execution_count": 4,
     "metadata": {},
     "output_type": "execute_result"
    }
   ],
   "source": [
    "query = '삼성전자'\n",
    "url = f'https://search.naver.com/search.naver?query={query}'\n",
    "url"
   ]
  },
  {
   "cell_type": "markdown",
   "id": "56e6ea93",
   "metadata": {},
   "source": [
    "#### 2. request(URL) > response : str(html)"
   ]
  },
  {
   "cell_type": "code",
   "execution_count": 8,
   "id": "ceda1c7b",
   "metadata": {
    "tags": []
   },
   "outputs": [
    {
     "data": {
      "text/plain": [
       "<Response [200]>"
      ]
     },
     "execution_count": 8,
     "metadata": {},
     "output_type": "execute_result"
    }
   ],
   "source": [
    "response = requests.get(url)\n",
    "response"
   ]
  },
  {
   "cell_type": "code",
   "execution_count": 9,
   "id": "fc162e4c-c16d-4a4c-a319-321595985e15",
   "metadata": {
    "tags": []
   },
   "outputs": [
    {
     "data": {
      "text/plain": [
       "'<!doctype html> <html lang=\"ko\"><head> <meta charset=\"utf-8\"> <meta name=\"referrer\" content=\"always\">  <meta name=\"format-detection\" content=\"telephone=no,address=no,email=no\"> <meta name=\"viewport\" c'"
      ]
     },
     "execution_count": 9,
     "metadata": {},
     "output_type": "execute_result"
    }
   ],
   "source": [
    "response.text[:200]"
   ]
  },
  {
   "cell_type": "markdown",
   "id": "1e2acb8e",
   "metadata": {},
   "source": [
    "#### 3. str(html) > bs object"
   ]
  },
  {
   "cell_type": "code",
   "execution_count": 13,
   "id": "8736bc68",
   "metadata": {
    "tags": []
   },
   "outputs": [
    {
     "data": {
      "text/plain": [
       "bs4.BeautifulSoup"
      ]
     },
     "execution_count": 13,
     "metadata": {},
     "output_type": "execute_result"
    }
   ],
   "source": [
    "docm = BeautifulSoup(response.text, 'html.parser')\n",
    "type(docm)"
   ]
  },
  {
   "cell_type": "markdown",
   "id": "252cf193",
   "metadata": {},
   "source": [
    "#### 4. bs object > .select(css-selector), .select_one(css-selector) > str(text)"
   ]
  },
  {
   "cell_type": "code",
   "execution_count": 14,
   "id": "525c3274",
   "metadata": {
    "collapsed": true,
    "jupyter": {
     "outputs_hidden": true
    },
    "tags": []
   },
   "outputs": [
    {
     "data": {
      "text/plain": [
       "['ASCII_SPACES',\n",
       " 'DEFAULT_BUILDER_FEATURES',\n",
       " 'DEFAULT_INTERESTING_STRING_TYPES',\n",
       " 'EMPTY_ELEMENT_EVENT',\n",
       " 'END_ELEMENT_EVENT',\n",
       " 'NO_PARSER_SPECIFIED_WARNING',\n",
       " 'ROOT_TAG_NAME',\n",
       " 'START_ELEMENT_EVENT',\n",
       " 'STRING_ELEMENT_EVENT',\n",
       " '__bool__',\n",
       " '__call__',\n",
       " '__class__',\n",
       " '__contains__',\n",
       " '__copy__',\n",
       " '__deepcopy__',\n",
       " '__delattr__',\n",
       " '__delitem__',\n",
       " '__dict__',\n",
       " '__dir__',\n",
       " '__doc__',\n",
       " '__eq__',\n",
       " '__format__',\n",
       " '__ge__',\n",
       " '__getattr__',\n",
       " '__getattribute__',\n",
       " '__getitem__',\n",
       " '__getstate__',\n",
       " '__gt__',\n",
       " '__hash__',\n",
       " '__init__',\n",
       " '__init_subclass__',\n",
       " '__iter__',\n",
       " '__le__',\n",
       " '__len__',\n",
       " '__lt__',\n",
       " '__module__',\n",
       " '__ne__',\n",
       " '__new__',\n",
       " '__reduce__',\n",
       " '__reduce_ex__',\n",
       " '__repr__',\n",
       " '__setattr__',\n",
       " '__setitem__',\n",
       " '__setstate__',\n",
       " '__sizeof__',\n",
       " '__str__',\n",
       " '__subclasshook__',\n",
       " '__unicode__',\n",
       " '__weakref__',\n",
       " '_all_strings',\n",
       " '_clone',\n",
       " '_decode_markup',\n",
       " '_event_stream',\n",
       " '_feed',\n",
       " '_find_all',\n",
       " '_find_one',\n",
       " '_format_tag',\n",
       " '_indent_string',\n",
       " '_is_xml',\n",
       " '_lastRecursiveChild',\n",
       " '_last_descendant',\n",
       " '_linkage_fixer',\n",
       " '_markup_is_url',\n",
       " '_markup_resembles_filename',\n",
       " '_most_recent_element',\n",
       " '_namespaces',\n",
       " '_popToTag',\n",
       " '_should_pretty_print',\n",
       " 'append',\n",
       " 'attrs',\n",
       " 'builder',\n",
       " 'can_be_empty_element',\n",
       " 'cdata_list_attributes',\n",
       " 'childGenerator',\n",
       " 'children',\n",
       " 'clear',\n",
       " 'contains_replacement_characters',\n",
       " 'contents',\n",
       " 'css',\n",
       " 'currentTag',\n",
       " 'current_data',\n",
       " 'declared_html_encoding',\n",
       " 'decode',\n",
       " 'decode_contents',\n",
       " 'decompose',\n",
       " 'decomposed',\n",
       " 'default',\n",
       " 'descendants',\n",
       " 'element_classes',\n",
       " 'encode',\n",
       " 'encode_contents',\n",
       " 'endData',\n",
       " 'extend',\n",
       " 'extract',\n",
       " 'fetchNextSiblings',\n",
       " 'fetchParents',\n",
       " 'fetchPrevious',\n",
       " 'fetchPreviousSiblings',\n",
       " 'find',\n",
       " 'findAll',\n",
       " 'findAllNext',\n",
       " 'findAllPrevious',\n",
       " 'findChild',\n",
       " 'findChildren',\n",
       " 'findNext',\n",
       " 'findNextSibling',\n",
       " 'findNextSiblings',\n",
       " 'findParent',\n",
       " 'findParents',\n",
       " 'findPrevious',\n",
       " 'findPreviousSibling',\n",
       " 'findPreviousSiblings',\n",
       " 'find_all',\n",
       " 'find_all_next',\n",
       " 'find_all_previous',\n",
       " 'find_next',\n",
       " 'find_next_sibling',\n",
       " 'find_next_siblings',\n",
       " 'find_parent',\n",
       " 'find_parents',\n",
       " 'find_previous',\n",
       " 'find_previous_sibling',\n",
       " 'find_previous_siblings',\n",
       " 'format_string',\n",
       " 'formatter_for_name',\n",
       " 'get',\n",
       " 'getText',\n",
       " 'get_attribute_list',\n",
       " 'get_text',\n",
       " 'handle_data',\n",
       " 'handle_endtag',\n",
       " 'handle_starttag',\n",
       " 'has_attr',\n",
       " 'has_key',\n",
       " 'hidden',\n",
       " 'index',\n",
       " 'insert',\n",
       " 'insert_after',\n",
       " 'insert_before',\n",
       " 'interesting_string_types',\n",
       " 'isSelfClosing',\n",
       " 'is_empty_element',\n",
       " 'is_xml',\n",
       " 'known_xml',\n",
       " 'markup',\n",
       " 'name',\n",
       " 'namespace',\n",
       " 'new_string',\n",
       " 'new_tag',\n",
       " 'next',\n",
       " 'nextGenerator',\n",
       " 'nextSibling',\n",
       " 'nextSiblingGenerator',\n",
       " 'next_element',\n",
       " 'next_elements',\n",
       " 'next_sibling',\n",
       " 'next_siblings',\n",
       " 'object_was_parsed',\n",
       " 'open_tag_counter',\n",
       " 'original_encoding',\n",
       " 'parent',\n",
       " 'parentGenerator',\n",
       " 'parents',\n",
       " 'parse_only',\n",
       " 'parserClass',\n",
       " 'parser_class',\n",
       " 'popTag',\n",
       " 'prefix',\n",
       " 'preserve_whitespace_tag_stack',\n",
       " 'preserve_whitespace_tags',\n",
       " 'prettify',\n",
       " 'previous',\n",
       " 'previousGenerator',\n",
       " 'previousSibling',\n",
       " 'previousSiblingGenerator',\n",
       " 'previous_element',\n",
       " 'previous_elements',\n",
       " 'previous_sibling',\n",
       " 'previous_siblings',\n",
       " 'pushTag',\n",
       " 'recursiveChildGenerator',\n",
       " 'renderContents',\n",
       " 'replaceWith',\n",
       " 'replaceWithChildren',\n",
       " 'replace_with',\n",
       " 'replace_with_children',\n",
       " 'reset',\n",
       " 'select',\n",
       " 'select_one',\n",
       " 'self_and_descendants',\n",
       " 'setup',\n",
       " 'smooth',\n",
       " 'string',\n",
       " 'string_container',\n",
       " 'string_container_stack',\n",
       " 'strings',\n",
       " 'stripped_strings',\n",
       " 'tagStack',\n",
       " 'text',\n",
       " 'unwrap',\n",
       " 'wrap']"
      ]
     },
     "execution_count": 14,
     "metadata": {},
     "output_type": "execute_result"
    }
   ],
   "source": [
    "dir(docm)"
   ]
  },
  {
   "cell_type": "code",
   "execution_count": 15,
   "id": "fb878f0f-21b2-4083-a382-828a3b03faa3",
   "metadata": {
    "tags": []
   },
   "outputs": [
    {
     "name": "stdout",
     "output_type": "stream",
     "text": [
      "Help on method select in module bs4.element:\n",
      "\n",
      "select(selector, namespaces=None, limit=None, **kwargs) method of bs4.BeautifulSoup instance\n",
      "    Perform a CSS selection operation on the current element.\n",
      "    \n",
      "    This uses the SoupSieve library.\n",
      "    \n",
      "    :param selector: A string containing a CSS selector.\n",
      "    \n",
      "    :param namespaces: A dictionary mapping namespace prefixes\n",
      "       used in the CSS selector to namespace URIs. By default,\n",
      "       Beautiful Soup will use the prefixes it encountered while\n",
      "       parsing the document.\n",
      "    \n",
      "    :param limit: After finding this number of results, stop looking.\n",
      "    \n",
      "    :param kwargs: Keyword arguments to be passed into SoupSieve's\n",
      "       soupsieve.select() method.\n",
      "    \n",
      "    :return: A ResultSet of Tags.\n",
      "    :rtype: bs4.element.ResultSet\n",
      "\n"
     ]
    }
   ],
   "source": [
    "help(docm.select)"
   ]
  },
  {
   "cell_type": "code",
   "execution_count": 18,
   "id": "cfe2554f-334c-4535-902b-5decefd0d23a",
   "metadata": {
    "tags": []
   },
   "outputs": [
    {
     "data": {
      "text/plain": [
       "10"
      ]
     },
     "execution_count": 18,
     "metadata": {},
     "output_type": "execute_result"
    }
   ],
   "source": [
    "elements = docm.select('.lst_related_srch > .item')\n",
    "len(elements)"
   ]
  },
  {
   "cell_type": "markdown",
   "id": "1e9ebdd4",
   "metadata": {},
   "source": [
    "#### 5. str(text) > DataFrame"
   ]
  },
  {
   "cell_type": "code",
   "execution_count": 22,
   "id": "62e1ef05",
   "metadata": {
    "tags": []
   },
   "outputs": [
    {
     "data": {
      "text/plain": [
       "'삼성전자주가'"
      ]
     },
     "execution_count": 22,
     "metadata": {},
     "output_type": "execute_result"
    }
   ],
   "source": [
    "element = elements[0]\n",
    "keyword = element.select_one('.tit').text\n",
    "keyword"
   ]
  },
  {
   "cell_type": "code",
   "execution_count": 24,
   "id": "0827bd14-149f-4dae-9340-0f4538ec6ae5",
   "metadata": {
    "tags": []
   },
   "outputs": [
    {
     "data": {
      "text/plain": [
       "['삼성전자주가',\n",
       " '삼성전자 배당금',\n",
       " '삼성전자서비스',\n",
       " '삼성전자주식',\n",
       " '오늘 삼성전자 주가',\n",
       " '삼성전자 배당금 지급일',\n",
       " '삼성전자몰',\n",
       " '삼성 전자레인지',\n",
       " '삼성전자 채용',\n",
       " '삼성전자 고객센터']"
      ]
     },
     "execution_count": 24,
     "metadata": {},
     "output_type": "execute_result"
    }
   ],
   "source": [
    "keywords = [element.select_one('.tit').text for element in elements]\n",
    "keywords"
   ]
  },
  {
   "cell_type": "code",
   "execution_count": 28,
   "id": "e214ddb6-13ae-451a-aafb-c5317e845f97",
   "metadata": {
    "tags": []
   },
   "outputs": [
    {
     "data": {
      "text/html": [
       "<div>\n",
       "<style scoped>\n",
       "    .dataframe tbody tr th:only-of-type {\n",
       "        vertical-align: middle;\n",
       "    }\n",
       "\n",
       "    .dataframe tbody tr th {\n",
       "        vertical-align: top;\n",
       "    }\n",
       "\n",
       "    .dataframe thead th {\n",
       "        text-align: right;\n",
       "    }\n",
       "</style>\n",
       "<table border=\"1\" class=\"dataframe\">\n",
       "  <thead>\n",
       "    <tr style=\"text-align: right;\">\n",
       "      <th></th>\n",
       "      <th>keyword</th>\n",
       "      <th>query</th>\n",
       "    </tr>\n",
       "  </thead>\n",
       "  <tbody>\n",
       "    <tr>\n",
       "      <th>0</th>\n",
       "      <td>삼성전자주가</td>\n",
       "      <td>삼성전자</td>\n",
       "    </tr>\n",
       "    <tr>\n",
       "      <th>1</th>\n",
       "      <td>삼성전자 배당금</td>\n",
       "      <td>삼성전자</td>\n",
       "    </tr>\n",
       "    <tr>\n",
       "      <th>2</th>\n",
       "      <td>삼성전자서비스</td>\n",
       "      <td>삼성전자</td>\n",
       "    </tr>\n",
       "    <tr>\n",
       "      <th>3</th>\n",
       "      <td>삼성전자주식</td>\n",
       "      <td>삼성전자</td>\n",
       "    </tr>\n",
       "    <tr>\n",
       "      <th>4</th>\n",
       "      <td>오늘 삼성전자 주가</td>\n",
       "      <td>삼성전자</td>\n",
       "    </tr>\n",
       "    <tr>\n",
       "      <th>5</th>\n",
       "      <td>삼성전자 배당금 지급일</td>\n",
       "      <td>삼성전자</td>\n",
       "    </tr>\n",
       "    <tr>\n",
       "      <th>6</th>\n",
       "      <td>삼성전자몰</td>\n",
       "      <td>삼성전자</td>\n",
       "    </tr>\n",
       "    <tr>\n",
       "      <th>7</th>\n",
       "      <td>삼성 전자레인지</td>\n",
       "      <td>삼성전자</td>\n",
       "    </tr>\n",
       "    <tr>\n",
       "      <th>8</th>\n",
       "      <td>삼성전자 채용</td>\n",
       "      <td>삼성전자</td>\n",
       "    </tr>\n",
       "    <tr>\n",
       "      <th>9</th>\n",
       "      <td>삼성전자 고객센터</td>\n",
       "      <td>삼성전자</td>\n",
       "    </tr>\n",
       "  </tbody>\n",
       "</table>\n",
       "</div>"
      ],
      "text/plain": [
       "        keyword query\n",
       "0        삼성전자주가  삼성전자\n",
       "1      삼성전자 배당금  삼성전자\n",
       "2       삼성전자서비스  삼성전자\n",
       "3        삼성전자주식  삼성전자\n",
       "4    오늘 삼성전자 주가  삼성전자\n",
       "5  삼성전자 배당금 지급일  삼성전자\n",
       "6         삼성전자몰  삼성전자\n",
       "7      삼성 전자레인지  삼성전자\n",
       "8       삼성전자 채용  삼성전자\n",
       "9     삼성전자 고객센터  삼성전자"
      ]
     },
     "execution_count": 28,
     "metadata": {},
     "output_type": "execute_result"
    }
   ],
   "source": [
    "# 데이터 프레임 만들기\n",
    "df = pd.DataFrame({'keyword': keywords})\n",
    "df['query'] = query\n",
    "df"
   ]
  },
  {
   "cell_type": "code",
   "execution_count": 29,
   "id": "58303654-ce90-4a85-890d-af9436960e89",
   "metadata": {
    "tags": []
   },
   "outputs": [
    {
     "data": {
      "text/html": [
       "<div>\n",
       "<style scoped>\n",
       "    .dataframe tbody tr th:only-of-type {\n",
       "        vertical-align: middle;\n",
       "    }\n",
       "\n",
       "    .dataframe tbody tr th {\n",
       "        vertical-align: top;\n",
       "    }\n",
       "\n",
       "    .dataframe thead th {\n",
       "        text-align: right;\n",
       "    }\n",
       "</style>\n",
       "<table border=\"1\" class=\"dataframe\">\n",
       "  <thead>\n",
       "    <tr style=\"text-align: right;\">\n",
       "      <th></th>\n",
       "      <th>keyword</th>\n",
       "      <th>query</th>\n",
       "      <th>datetime</th>\n",
       "    </tr>\n",
       "  </thead>\n",
       "  <tbody>\n",
       "    <tr>\n",
       "      <th>0</th>\n",
       "      <td>삼성전자주가</td>\n",
       "      <td>삼성전자</td>\n",
       "      <td>2023-08-25 12:20</td>\n",
       "    </tr>\n",
       "    <tr>\n",
       "      <th>1</th>\n",
       "      <td>삼성전자 배당금</td>\n",
       "      <td>삼성전자</td>\n",
       "      <td>2023-08-25 12:20</td>\n",
       "    </tr>\n",
       "    <tr>\n",
       "      <th>2</th>\n",
       "      <td>삼성전자서비스</td>\n",
       "      <td>삼성전자</td>\n",
       "      <td>2023-08-25 12:20</td>\n",
       "    </tr>\n",
       "    <tr>\n",
       "      <th>3</th>\n",
       "      <td>삼성전자주식</td>\n",
       "      <td>삼성전자</td>\n",
       "      <td>2023-08-25 12:20</td>\n",
       "    </tr>\n",
       "    <tr>\n",
       "      <th>4</th>\n",
       "      <td>오늘 삼성전자 주가</td>\n",
       "      <td>삼성전자</td>\n",
       "      <td>2023-08-25 12:20</td>\n",
       "    </tr>\n",
       "    <tr>\n",
       "      <th>5</th>\n",
       "      <td>삼성전자 배당금 지급일</td>\n",
       "      <td>삼성전자</td>\n",
       "      <td>2023-08-25 12:20</td>\n",
       "    </tr>\n",
       "    <tr>\n",
       "      <th>6</th>\n",
       "      <td>삼성전자몰</td>\n",
       "      <td>삼성전자</td>\n",
       "      <td>2023-08-25 12:20</td>\n",
       "    </tr>\n",
       "    <tr>\n",
       "      <th>7</th>\n",
       "      <td>삼성 전자레인지</td>\n",
       "      <td>삼성전자</td>\n",
       "      <td>2023-08-25 12:20</td>\n",
       "    </tr>\n",
       "    <tr>\n",
       "      <th>8</th>\n",
       "      <td>삼성전자 채용</td>\n",
       "      <td>삼성전자</td>\n",
       "      <td>2023-08-25 12:20</td>\n",
       "    </tr>\n",
       "    <tr>\n",
       "      <th>9</th>\n",
       "      <td>삼성전자 고객센터</td>\n",
       "      <td>삼성전자</td>\n",
       "      <td>2023-08-25 12:20</td>\n",
       "    </tr>\n",
       "  </tbody>\n",
       "</table>\n",
       "</div>"
      ],
      "text/plain": [
       "        keyword query          datetime\n",
       "0        삼성전자주가  삼성전자  2023-08-25 12:20\n",
       "1      삼성전자 배당금  삼성전자  2023-08-25 12:20\n",
       "2       삼성전자서비스  삼성전자  2023-08-25 12:20\n",
       "3        삼성전자주식  삼성전자  2023-08-25 12:20\n",
       "4    오늘 삼성전자 주가  삼성전자  2023-08-25 12:20\n",
       "5  삼성전자 배당금 지급일  삼성전자  2023-08-25 12:20\n",
       "6         삼성전자몰  삼성전자  2023-08-25 12:20\n",
       "7      삼성 전자레인지  삼성전자  2023-08-25 12:20\n",
       "8       삼성전자 채용  삼성전자  2023-08-25 12:20\n",
       "9     삼성전자 고객센터  삼성전자  2023-08-25 12:20"
      ]
     },
     "execution_count": 29,
     "metadata": {},
     "output_type": "execute_result"
    }
   ],
   "source": [
    "from datetime import datetime\n",
    "\n",
    "now = datetime.now().strftime('%Y-%m-%d %H:%M')\n",
    "df['datetime'] = now\n",
    "df"
   ]
  },
  {
   "cell_type": "code",
   "execution_count": 30,
   "id": "759ee2ba-62c1-4000-965d-6b41cb0b9cb3",
   "metadata": {
    "tags": []
   },
   "outputs": [],
   "source": [
    "def naver_relate_keywords(query):\n",
    "    url = f'https://search.naver.com/search.naver?query={query}'\n",
    "    response = requests.get(url)\n",
    "    docm = BeautifulSoup(response.text, 'html.parser')\n",
    "    elements = docm.select('.lst_related_srch > .item')\n",
    "    keywords = [element.select_one('.tit').text for element in elements]\n",
    "    \n",
    "    df = pd.DataFrame({'keyword': keywords})\n",
    "    df['query'] = query\n",
    "    now = datetime.now().strftime('%Y-%m-%d %H:%M')\n",
    "    df['datetime'] = now\n",
    "    return df"
   ]
  },
  {
   "cell_type": "code",
   "execution_count": 31,
   "id": "7399b243-7f40-473a-9260-72e6dc34062b",
   "metadata": {
    "tags": []
   },
   "outputs": [
    {
     "data": {
      "text/html": [
       "<div>\n",
       "<style scoped>\n",
       "    .dataframe tbody tr th:only-of-type {\n",
       "        vertical-align: middle;\n",
       "    }\n",
       "\n",
       "    .dataframe tbody tr th {\n",
       "        vertical-align: top;\n",
       "    }\n",
       "\n",
       "    .dataframe thead th {\n",
       "        text-align: right;\n",
       "    }\n",
       "</style>\n",
       "<table border=\"1\" class=\"dataframe\">\n",
       "  <thead>\n",
       "    <tr style=\"text-align: right;\">\n",
       "      <th></th>\n",
       "      <th>keyword</th>\n",
       "      <th>query</th>\n",
       "      <th>datetime</th>\n",
       "    </tr>\n",
       "  </thead>\n",
       "  <tbody>\n",
       "    <tr>\n",
       "      <th>0</th>\n",
       "      <td>삼성전자주가</td>\n",
       "      <td>삼성전자</td>\n",
       "      <td>2023-08-25 12:23</td>\n",
       "    </tr>\n",
       "    <tr>\n",
       "      <th>1</th>\n",
       "      <td>삼성전자 배당금</td>\n",
       "      <td>삼성전자</td>\n",
       "      <td>2023-08-25 12:23</td>\n",
       "    </tr>\n",
       "    <tr>\n",
       "      <th>2</th>\n",
       "      <td>삼성전자서비스</td>\n",
       "      <td>삼성전자</td>\n",
       "      <td>2023-08-25 12:23</td>\n",
       "    </tr>\n",
       "    <tr>\n",
       "      <th>3</th>\n",
       "      <td>삼성전자주식</td>\n",
       "      <td>삼성전자</td>\n",
       "      <td>2023-08-25 12:23</td>\n",
       "    </tr>\n",
       "    <tr>\n",
       "      <th>4</th>\n",
       "      <td>오늘 삼성전자 주가</td>\n",
       "      <td>삼성전자</td>\n",
       "      <td>2023-08-25 12:23</td>\n",
       "    </tr>\n",
       "    <tr>\n",
       "      <th>5</th>\n",
       "      <td>삼성전자 배당금 지급일</td>\n",
       "      <td>삼성전자</td>\n",
       "      <td>2023-08-25 12:23</td>\n",
       "    </tr>\n",
       "    <tr>\n",
       "      <th>6</th>\n",
       "      <td>삼성전자몰</td>\n",
       "      <td>삼성전자</td>\n",
       "      <td>2023-08-25 12:23</td>\n",
       "    </tr>\n",
       "    <tr>\n",
       "      <th>7</th>\n",
       "      <td>삼성 전자레인지</td>\n",
       "      <td>삼성전자</td>\n",
       "      <td>2023-08-25 12:23</td>\n",
       "    </tr>\n",
       "    <tr>\n",
       "      <th>8</th>\n",
       "      <td>삼성전자 채용</td>\n",
       "      <td>삼성전자</td>\n",
       "      <td>2023-08-25 12:23</td>\n",
       "    </tr>\n",
       "    <tr>\n",
       "      <th>9</th>\n",
       "      <td>삼성전자 고객센터</td>\n",
       "      <td>삼성전자</td>\n",
       "      <td>2023-08-25 12:23</td>\n",
       "    </tr>\n",
       "  </tbody>\n",
       "</table>\n",
       "</div>"
      ],
      "text/plain": [
       "        keyword query          datetime\n",
       "0        삼성전자주가  삼성전자  2023-08-25 12:23\n",
       "1      삼성전자 배당금  삼성전자  2023-08-25 12:23\n",
       "2       삼성전자서비스  삼성전자  2023-08-25 12:23\n",
       "3        삼성전자주식  삼성전자  2023-08-25 12:23\n",
       "4    오늘 삼성전자 주가  삼성전자  2023-08-25 12:23\n",
       "5  삼성전자 배당금 지급일  삼성전자  2023-08-25 12:23\n",
       "6         삼성전자몰  삼성전자  2023-08-25 12:23\n",
       "7      삼성 전자레인지  삼성전자  2023-08-25 12:23\n",
       "8       삼성전자 채용  삼성전자  2023-08-25 12:23\n",
       "9     삼성전자 고객센터  삼성전자  2023-08-25 12:23"
      ]
     },
     "execution_count": 31,
     "metadata": {},
     "output_type": "execute_result"
    }
   ],
   "source": [
    "naver_relate_keywords('삼성전자')"
   ]
  },
  {
   "cell_type": "code",
   "execution_count": 32,
   "id": "7d9e3b40-ef7c-4eb1-94dd-f5ffd778f20c",
   "metadata": {
    "tags": []
   },
   "outputs": [
    {
     "data": {
      "text/html": [
       "<div>\n",
       "<style scoped>\n",
       "    .dataframe tbody tr th:only-of-type {\n",
       "        vertical-align: middle;\n",
       "    }\n",
       "\n",
       "    .dataframe tbody tr th {\n",
       "        vertical-align: top;\n",
       "    }\n",
       "\n",
       "    .dataframe thead th {\n",
       "        text-align: right;\n",
       "    }\n",
       "</style>\n",
       "<table border=\"1\" class=\"dataframe\">\n",
       "  <thead>\n",
       "    <tr style=\"text-align: right;\">\n",
       "      <th></th>\n",
       "      <th>keyword</th>\n",
       "      <th>query</th>\n",
       "      <th>datetime</th>\n",
       "    </tr>\n",
       "  </thead>\n",
       "  <tbody>\n",
       "    <tr>\n",
       "      <th>0</th>\n",
       "      <td>카카오뱅크</td>\n",
       "      <td>카카오</td>\n",
       "      <td>2023-08-25 12:23</td>\n",
       "    </tr>\n",
       "    <tr>\n",
       "      <th>1</th>\n",
       "      <td>카카오웹툰</td>\n",
       "      <td>카카오</td>\n",
       "      <td>2023-08-25 12:23</td>\n",
       "    </tr>\n",
       "    <tr>\n",
       "      <th>2</th>\n",
       "      <td>카카오게임즈</td>\n",
       "      <td>카카오</td>\n",
       "      <td>2023-08-25 12:23</td>\n",
       "    </tr>\n",
       "    <tr>\n",
       "      <th>3</th>\n",
       "      <td>카카오페이</td>\n",
       "      <td>카카오</td>\n",
       "      <td>2023-08-25 12:23</td>\n",
       "    </tr>\n",
       "    <tr>\n",
       "      <th>4</th>\n",
       "      <td>카카오맵</td>\n",
       "      <td>카카오</td>\n",
       "      <td>2023-08-25 12:23</td>\n",
       "    </tr>\n",
       "    <tr>\n",
       "      <th>5</th>\n",
       "      <td>카카오톡</td>\n",
       "      <td>카카오</td>\n",
       "      <td>2023-08-25 12:23</td>\n",
       "    </tr>\n",
       "    <tr>\n",
       "      <th>6</th>\n",
       "      <td>카카오톡 이모티콘샵</td>\n",
       "      <td>카카오</td>\n",
       "      <td>2023-08-25 12:23</td>\n",
       "    </tr>\n",
       "    <tr>\n",
       "      <th>7</th>\n",
       "      <td>카카오 이모티콘샵</td>\n",
       "      <td>카카오</td>\n",
       "      <td>2023-08-25 12:23</td>\n",
       "    </tr>\n",
       "    <tr>\n",
       "      <th>8</th>\n",
       "      <td>카카오프렌즈샵</td>\n",
       "      <td>카카오</td>\n",
       "      <td>2023-08-25 12:23</td>\n",
       "    </tr>\n",
       "    <tr>\n",
       "      <th>9</th>\n",
       "      <td>카카오뱅크 주가</td>\n",
       "      <td>카카오</td>\n",
       "      <td>2023-08-25 12:23</td>\n",
       "    </tr>\n",
       "  </tbody>\n",
       "</table>\n",
       "</div>"
      ],
      "text/plain": [
       "      keyword query          datetime\n",
       "0       카카오뱅크   카카오  2023-08-25 12:23\n",
       "1       카카오웹툰   카카오  2023-08-25 12:23\n",
       "2      카카오게임즈   카카오  2023-08-25 12:23\n",
       "3       카카오페이   카카오  2023-08-25 12:23\n",
       "4        카카오맵   카카오  2023-08-25 12:23\n",
       "5        카카오톡   카카오  2023-08-25 12:23\n",
       "6  카카오톡 이모티콘샵   카카오  2023-08-25 12:23\n",
       "7   카카오 이모티콘샵   카카오  2023-08-25 12:23\n",
       "8     카카오프렌즈샵   카카오  2023-08-25 12:23\n",
       "9    카카오뱅크 주가   카카오  2023-08-25 12:23"
      ]
     },
     "execution_count": 32,
     "metadata": {},
     "output_type": "execute_result"
    }
   ],
   "source": [
    "naver_relate_keywords('카카오')"
   ]
  },
  {
   "cell_type": "code",
   "execution_count": 35,
   "id": "d5002676-37dd-4bd2-a1b6-2cf990c7fffb",
   "metadata": {
    "tags": []
   },
   "outputs": [
    {
     "data": {
      "text/html": [
       "<div>\n",
       "<style scoped>\n",
       "    .dataframe tbody tr th:only-of-type {\n",
       "        vertical-align: middle;\n",
       "    }\n",
       "\n",
       "    .dataframe tbody tr th {\n",
       "        vertical-align: top;\n",
       "    }\n",
       "\n",
       "    .dataframe thead th {\n",
       "        text-align: right;\n",
       "    }\n",
       "</style>\n",
       "<table border=\"1\" class=\"dataframe\">\n",
       "  <thead>\n",
       "    <tr style=\"text-align: right;\">\n",
       "      <th></th>\n",
       "      <th>keyword</th>\n",
       "      <th>query</th>\n",
       "      <th>datetime</th>\n",
       "    </tr>\n",
       "  </thead>\n",
       "  <tbody>\n",
       "    <tr>\n",
       "      <th>0</th>\n",
       "      <td>스마트팩토리 관련주</td>\n",
       "      <td>스마트팩토리</td>\n",
       "      <td>2023-08-25 12:23</td>\n",
       "    </tr>\n",
       "    <tr>\n",
       "      <th>1</th>\n",
       "      <td>아산스마트팩토리마이스터고등학교</td>\n",
       "      <td>스마트팩토리</td>\n",
       "      <td>2023-08-25 12:23</td>\n",
       "    </tr>\n",
       "    <tr>\n",
       "      <th>2</th>\n",
       "      <td>sk온 스마트팩토리</td>\n",
       "      <td>스마트팩토리</td>\n",
       "      <td>2023-08-25 12:23</td>\n",
       "    </tr>\n",
       "    <tr>\n",
       "      <th>3</th>\n",
       "      <td>sk 스마트팩토리</td>\n",
       "      <td>스마트팩토리</td>\n",
       "      <td>2023-08-25 12:23</td>\n",
       "    </tr>\n",
       "    <tr>\n",
       "      <th>4</th>\n",
       "      <td>스마트팩토리 지원사업</td>\n",
       "      <td>스마트팩토리</td>\n",
       "      <td>2023-08-25 12:23</td>\n",
       "    </tr>\n",
       "    <tr>\n",
       "      <th>5</th>\n",
       "      <td>스마트팩토리 교육</td>\n",
       "      <td>스마트팩토리</td>\n",
       "      <td>2023-08-25 12:23</td>\n",
       "    </tr>\n",
       "  </tbody>\n",
       "</table>\n",
       "</div>"
      ],
      "text/plain": [
       "            keyword   query          datetime\n",
       "0        스마트팩토리 관련주  스마트팩토리  2023-08-25 12:23\n",
       "1  아산스마트팩토리마이스터고등학교  스마트팩토리  2023-08-25 12:23\n",
       "2        sk온 스마트팩토리  스마트팩토리  2023-08-25 12:23\n",
       "3         sk 스마트팩토리  스마트팩토리  2023-08-25 12:23\n",
       "4       스마트팩토리 지원사업  스마트팩토리  2023-08-25 12:23\n",
       "5         스마트팩토리 교육  스마트팩토리  2023-08-25 12:23"
      ]
     },
     "execution_count": 35,
     "metadata": {},
     "output_type": "execute_result"
    }
   ],
   "source": [
    "naver_relate_keywords('스마트팩토리')"
   ]
  },
  {
   "cell_type": "code",
   "execution_count": null,
   "id": "9dc3e766-dc73-4ca8-8053-e9e864d5e010",
   "metadata": {},
   "outputs": [],
   "source": []
  }
 ],
 "metadata": {
  "kernelspec": {
   "display_name": "Python 3 (ipykernel)",
   "language": "python",
   "name": "python3"
  },
  "language_info": {
   "codemirror_mode": {
    "name": "ipython",
    "version": 3
   },
   "file_extension": ".py",
   "mimetype": "text/x-python",
   "name": "python",
   "nbconvert_exporter": "python",
   "pygments_lexer": "ipython3",
   "version": "3.11.3"
  },
  "toc": {
   "base_numbering": 1,
   "nav_menu": {},
   "number_sections": false,
   "sideBar": true,
   "skip_h1_title": false,
   "title_cell": "Table of Contents",
   "title_sidebar": "Contents",
   "toc_cell": false,
   "toc_position": {},
   "toc_section_display": true,
   "toc_window_display": false
  }
 },
 "nbformat": 4,
 "nbformat_minor": 5
}
