{
 "cells": [
  {
   "cell_type": "markdown",
   "id": "ce44dd79",
   "metadata": {},
   "source": [
    "### Daum Exchange\n",
    "- `https://finance.daum.net`"
   ]
  },
  {
   "cell_type": "code",
   "execution_count": 1,
   "id": "bcf5c3fb",
   "metadata": {
    "tags": []
   },
   "outputs": [],
   "source": [
    "import warnings \n",
    "warnings.filterwarnings('ignore') \n",
    "import requests \n",
    "import pandas as pd"
   ]
  },
  {
   "cell_type": "code",
   "execution_count": 2,
   "id": "6522b98b-a801-4c66-9ee2-ec9aeb5f3017",
   "metadata": {
    "tags": []
   },
   "outputs": [],
   "source": [
    "url = 'https://finance.daum.net/api/exchanges/summaries'"
   ]
  },
  {
   "cell_type": "code",
   "execution_count": 4,
   "id": "69c5f3b7-86c9-4d3b-b2e2-90d00b025d6e",
   "metadata": {
    "tags": []
   },
   "outputs": [
    {
     "data": {
      "text/plain": [
       "<Response [403]>"
      ]
     },
     "execution_count": 4,
     "metadata": {},
     "output_type": "execute_result"
    }
   ],
   "source": [
    "response = requests.get(url)\n",
    "response"
   ]
  },
  {
   "cell_type": "code",
   "execution_count": 5,
   "id": "0f9ef468-d64b-4c5f-945b-459d3a1f518a",
   "metadata": {
    "tags": []
   },
   "outputs": [
    {
     "data": {
      "text/plain": [
       "'<html>\\r\\n<head><title>403 Forbidden</title></head>\\r\\n<body bgcolor=\"white\">\\r\\n<center><h1>403 Forbidden</h1></center>\\r\\n<hr><center>nginx</center>\\r\\n</body>\\r\\n</html>\\r\\n'"
      ]
     },
     "execution_count": 5,
     "metadata": {},
     "output_type": "execute_result"
    }
   ],
   "source": [
    "response.text"
   ]
  },
  {
   "cell_type": "markdown",
   "id": "5e9533d3-122b-4402-aab8-d884d7b62e7c",
   "metadata": {},
   "source": [
    "#### User-Agent"
   ]
  },
  {
   "cell_type": "markdown",
   "id": "a12aaa52-7462-4321-88a8-f3b319c0745a",
   "metadata": {},
   "source": [
    "user-agent가 python이면 안줘.\n",
    "\n",
    "- 1) 그러면, 데이터 요청할 때, 헤더값의 user-agent를 browser로 바꿔줘.\n",
    "\n",
    "- 2) Referer 바꿔줘.\n",
    "\n",
    "- 3) 쿠키 바꿔줘."
   ]
  },
  {
   "cell_type": "code",
   "execution_count": 11,
   "id": "626eb51c-4a27-4cd6-8a60-e3bbd73ed8f8",
   "metadata": {
    "tags": []
   },
   "outputs": [
    {
     "data": {
      "text/plain": [
       "<Response [200]>"
      ]
     },
     "execution_count": 11,
     "metadata": {},
     "output_type": "execute_result"
    }
   ],
   "source": [
    "headers = {\n",
    "    'User-Agent':'Mozilla/5.0 (Windows NT 10.0; Win64; x64) AppleWebKit/537.36 (KHTML, like Gecko) Chrome/116.0.0.0 Safari/537.36',\n",
    "    'Referer':'https://finance.daum.net/exchanges',\n",
    "}\n",
    "response = requests.get(url, headers=headers)\n",
    "response"
   ]
  },
  {
   "cell_type": "markdown",
   "id": "e6b10f66-ce1c-4d44-977a-a21a5ffac7eb",
   "metadata": {},
   "source": [
    "아! 다음 증권 사이트는 응답할 때, user-agent와 referer를 체크하는구나"
   ]
  },
  {
   "cell_type": "markdown",
   "id": "1e54a7e5-fba6-40f6-aae9-66a21af80af5",
   "metadata": {},
   "source": [
    "이래도 안되면, 웹브라우저 띄어서 직접 데이터 수집 (셀리니움)"
   ]
  },
  {
   "cell_type": "code",
   "execution_count": 12,
   "id": "38c3093d-17fc-4284-b7cf-2cb6d29ea42b",
   "metadata": {
    "tags": []
   },
   "outputs": [
    {
     "data": {
      "text/plain": [
       "'{\"data\":[{\"symbolCode\":\"FRX.KRWUSD\",\"date\":\"2023-08-24 14:42:06\",\"currencyCode\":\"USD\",\"currencyName\":\"달러\",\"currencyUnit\":1,\"country\":\"미국\",\"region\":{\"korName\":\"아메리카\",\"engName\":\"America\"},\"name\":\"미국 (USD/KRW)\",\"recurrenceCount\":484,\"basePrice\":1321.5,\"change\":\"FALL\",\"changePrice\":11.5,\"changeRate\":0.0086271568,\"cashBuyingPrice\":1344.62,\"cashSellingPrice\":1298.38,\"ttBuyingPrice\":1308.6,\"ttSellingPrice\":1334.4,\"tcBuyingPrice\":null,\"fcSellingPrice\":null,\"exchangeCommission\":7.165,\"usDollarRate\":1.0,\"'"
      ]
     },
     "execution_count": 12,
     "metadata": {},
     "output_type": "execute_result"
    }
   ],
   "source": [
    "response.text[:500]"
   ]
  },
  {
   "cell_type": "code",
   "execution_count": 15,
   "id": "16c071c2-2cb3-405d-9bd2-420b9e49be8b",
   "metadata": {
    "tags": []
   },
   "outputs": [
    {
     "data": {
      "text/html": [
       "<div>\n",
       "<style scoped>\n",
       "    .dataframe tbody tr th:only-of-type {\n",
       "        vertical-align: middle;\n",
       "    }\n",
       "\n",
       "    .dataframe tbody tr th {\n",
       "        vertical-align: top;\n",
       "    }\n",
       "\n",
       "    .dataframe thead th {\n",
       "        text-align: right;\n",
       "    }\n",
       "</style>\n",
       "<table border=\"1\" class=\"dataframe\">\n",
       "  <thead>\n",
       "    <tr style=\"text-align: right;\">\n",
       "      <th></th>\n",
       "      <th>symbolCode</th>\n",
       "      <th>country</th>\n",
       "      <th>currencyName</th>\n",
       "      <th>basePrice</th>\n",
       "    </tr>\n",
       "  </thead>\n",
       "  <tbody>\n",
       "    <tr>\n",
       "      <th>40</th>\n",
       "      <td>FRX.KRWQAR</td>\n",
       "      <td>카타르</td>\n",
       "      <td>리얄</td>\n",
       "      <td>362.59</td>\n",
       "    </tr>\n",
       "    <tr>\n",
       "      <th>41</th>\n",
       "      <td>FRX.KRWTRY</td>\n",
       "      <td>터키</td>\n",
       "      <td>리라</td>\n",
       "      <td>48.55</td>\n",
       "    </tr>\n",
       "  </tbody>\n",
       "</table>\n",
       "</div>"
      ],
      "text/plain": [
       "    symbolCode country currencyName  basePrice\n",
       "40  FRX.KRWQAR     카타르           리얄     362.59\n",
       "41  FRX.KRWTRY      터키           리라      48.55"
      ]
     },
     "execution_count": 15,
     "metadata": {},
     "output_type": "execute_result"
    }
   ],
   "source": [
    "data = response.json()['data']\n",
    "df = pd.DataFrame(data)[['symbolCode', 'country', 'currencyName', 'basePrice']]\n",
    "df.tail(2)"
   ]
  },
  {
   "cell_type": "markdown",
   "id": "7a08ce83-2ea3-4771-b442-1dbb231e89e7",
   "metadata": {},
   "source": [
    "Referer : 현재 페이지의 이전 페이지 url\n",
    "\n",
    "> Server side에서 어떤 경로를 타고 유입이 되었는지 알 수 있는 정보"
   ]
  }
 ],
 "metadata": {
  "kernelspec": {
   "display_name": "Python 3 (ipykernel)",
   "language": "python",
   "name": "python3"
  },
  "language_info": {
   "codemirror_mode": {
    "name": "ipython",
    "version": 3
   },
   "file_extension": ".py",
   "mimetype": "text/x-python",
   "name": "python",
   "nbconvert_exporter": "python",
   "pygments_lexer": "ipython3",
   "version": "3.11.3"
  }
 },
 "nbformat": 4,
 "nbformat_minor": 5
}
