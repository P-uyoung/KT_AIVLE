{
 "cells": [
  {
   "cell_type": "code",
   "execution_count": 1,
   "id": "733a32be-69d3-44ce-8f37-5b5ee359d881",
   "metadata": {
    "tags": []
   },
   "outputs": [],
   "source": [
    "import zigbang as zb"
   ]
  },
  {
   "cell_type": "code",
   "execution_count": 2,
   "id": "15f31677-32db-41a4-90d2-c00b462c228a",
   "metadata": {
    "tags": []
   },
   "outputs": [
    {
     "data": {
      "text/html": [
       "<div>\n",
       "<style scoped>\n",
       "    .dataframe tbody tr th:only-of-type {\n",
       "        vertical-align: middle;\n",
       "    }\n",
       "\n",
       "    .dataframe tbody tr th {\n",
       "        vertical-align: top;\n",
       "    }\n",
       "\n",
       "    .dataframe thead th {\n",
       "        text-align: right;\n",
       "    }\n",
       "</style>\n",
       "<table border=\"1\" class=\"dataframe\">\n",
       "  <thead>\n",
       "    <tr style=\"text-align: right;\">\n",
       "      <th></th>\n",
       "      <th>item_id</th>\n",
       "      <th>title</th>\n",
       "      <th>deposit</th>\n",
       "      <th>rent</th>\n",
       "      <th>address1</th>\n",
       "      <th>size_m2</th>\n",
       "      <th>manage_cost</th>\n",
       "    </tr>\n",
       "  </thead>\n",
       "  <tbody>\n",
       "    <tr>\n",
       "      <th>57</th>\n",
       "      <td>37804362</td>\n",
       "      <td>신축급즉시입주깔끔원룸 주차가능</td>\n",
       "      <td>300</td>\n",
       "      <td>72</td>\n",
       "      <td>서울시 마포구 망원동</td>\n",
       "      <td>19.83</td>\n",
       "      <td>7</td>\n",
       "    </tr>\n",
       "    <tr>\n",
       "      <th>58</th>\n",
       "      <td>37811722</td>\n",
       "      <td>리모델링후 첫입주 쓰리룸월세 풀옵션</td>\n",
       "      <td>2000</td>\n",
       "      <td>110</td>\n",
       "      <td>서울시 마포구 망원동</td>\n",
       "      <td>48.00</td>\n",
       "      <td>1</td>\n",
       "    </tr>\n",
       "  </tbody>\n",
       "</table>\n",
       "</div>"
      ],
      "text/plain": [
       "     item_id                title  deposit  rent     address1  size_m2  \\\n",
       "57  37804362     신축급즉시입주깔끔원룸 주차가능      300    72  서울시 마포구 망원동    19.83   \n",
       "58  37811722  리모델링후 첫입주 쓰리룸월세 풀옵션     2000   110  서울시 마포구 망원동    48.00   \n",
       "\n",
       "   manage_cost  \n",
       "57           7  \n",
       "58           1  "
      ]
     },
     "execution_count": 2,
     "metadata": {},
     "output_type": "execute_result"
    }
   ],
   "source": [
    "df = zb.oneroom('망원동')\n",
    "df.tail(2)"
   ]
  },
  {
   "cell_type": "code",
   "execution_count": null,
   "id": "4749f30a-ecf1-4d71-9af3-56f8f8bea199",
   "metadata": {},
   "outputs": [],
   "source": []
  }
 ],
 "metadata": {
  "kernelspec": {
   "display_name": "Python 3 (ipykernel)",
   "language": "python",
   "name": "python3"
  },
  "language_info": {
   "codemirror_mode": {
    "name": "ipython",
    "version": 3
   },
   "file_extension": ".py",
   "mimetype": "text/x-python",
   "name": "python",
   "nbconvert_exporter": "python",
   "pygments_lexer": "ipython3",
   "version": "3.11.3"
  }
 },
 "nbformat": 4,
 "nbformat_minor": 5
}
