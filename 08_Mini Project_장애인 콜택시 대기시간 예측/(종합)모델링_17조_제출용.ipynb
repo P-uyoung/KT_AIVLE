{
 "cells": [
  {
   "cell_type": "markdown",
   "metadata": {
    "id": "qsIsGzftJuH9"
   },
   "source": [
    "# 장애인콜택시 대기시간 예측\n",
    "## 단계3. 모델링"
   ]
  },
  {
   "cell_type": "markdown",
   "metadata": {
    "id": "Dh02CX03JuES"
   },
   "source": [
    "## 0.미션\n",
    "\n",
    "* 1.시계열 데이터에 맞는 전처리\n",
    "    * 데이터가 2015 ~ 2022년까지 데이터 입니다.\n",
    "    * 이 중 2022년 10월 ~ 2022년 12월까지(3개월)의 데이터는 성능 검증용으로 사용합니다.\n",
    "    * 나머지 데이터를 이용하여 학습 및 튜닝을 수행합니다.\n",
    "    * 이를 위한 데이터 전처리를 수행하시오.\n",
    "* 2.모델 최적화\n",
    "    * 머신러닝 \n",
    "        * 알고리즘 중 3가지 이상을 선정하여 모델링을 수행합니다.\n",
    "        * 각각 알고리즘에 맞는 튜닝 방법으로 최적의 모델을 만듭니다.\n",
    "    * 딥러닝\n",
    "        * 모델 구조를 2가지 이상을 생성하고 모델링을 수행합니다.\n",
    "        * epochs, learning_rate 등을 조절하며 성능을 튜닝합니다.\n",
    "    * 성능 평가\n",
    "        * 시계열 그래프로 모델의 실제값과 예측값을 시각화하여 비교합니다.\n",
    "        * 성능 지표 (MAE, MAPE) 를 사용해 가장 성능이 높은 모델을 선정합니다.\n",
    "        * 성능 가이드\n",
    "            * MAE : 4 ~ 6\n",
    "            * MAPE : 0.09~0.14"
   ]
  },
  {
   "cell_type": "markdown",
   "metadata": {
    "id": "dWToio0hXNVS"
   },
   "source": [
    "## 1.환경설정"
   ]
  },
  {
   "cell_type": "markdown",
   "metadata": {
    "id": "bo9nL08wIinn"
   },
   "source": [
    "* 세부 요구사항\n",
    "    - 경로 설정 : 다음의 두가지 방법 중 하나를 선택하여 폴더를 준비하고 데이터를 로딩하시오.\n",
    "        * 1) 로컬 수행(Ananconda)\n",
    "            * 제공된 압축파일을 다운받아 압축을 풀고\n",
    "            * anaconda의 root directory(보통 C:/Users/< ID > 에 project 폴더를 만들고, 복사해 넣습니다.\n",
    "        * 2) 구글콜랩\n",
    "            * 구글 드라이브 바로 밑에 project 폴더를 만들고, \n",
    "            * 데이터 파일을 복사해 넣습니다.\n",
    "    - 라이브러리 설치 및 로딩\n",
    "        * requirements.txt 파일로 부터 라이브러리 설치\n",
    "    - 기본적으로 필요한 라이브러리를 import 하도록 코드가 작성되어 있습니다. \n",
    "        * 필요하다고 판단되는 라이브러리를 추가하세요."
   ]
  },
  {
   "cell_type": "markdown",
   "metadata": {
    "id": "Hw88CnLdImJE"
   },
   "source": [
    "### (1) 경로 설정"
   ]
  },
  {
   "cell_type": "markdown",
   "metadata": {
    "id": "HYi9O2rNdBU_"
   },
   "source": [
    "#### 1) 로컬 수행(Anaconda)\n",
    "* project 폴더에 필요한 파일들을 넣고, 본 파일을 열었다면, 별도 경로 지정이 필요하지 않습니다."
   ]
  },
  {
   "cell_type": "code",
   "execution_count": null,
   "metadata": {
    "id": "876cuCbEd4j_"
   },
   "outputs": [],
   "source": [
    "path = ''"
   ]
  },
  {
   "cell_type": "markdown",
   "metadata": {
    "id": "S0yzHcH6fdzJ"
   },
   "source": [
    "#### 2) 구글 콜랩 수행"
   ]
  },
  {
   "cell_type": "markdown",
   "metadata": {
    "id": "Uc_kIeeJeDgi"
   },
   "source": [
    "* 구글 드라이브 연결"
   ]
  },
  {
   "cell_type": "code",
   "execution_count": null,
   "metadata": {
    "id": "dd0SPbYdfhS9"
   },
   "outputs": [],
   "source": [
    "from google.colab import drive\n",
    "drive.mount('/content/drive')"
   ]
  },
  {
   "cell_type": "code",
   "execution_count": null,
   "metadata": {
    "id": "y5OIDazoeIN4"
   },
   "outputs": [],
   "source": [
    "path = '/content/drive/MyDrive/project/'"
   ]
  },
  {
   "cell_type": "markdown",
   "metadata": {
    "id": "KnzVh2LmkLDU"
   },
   "source": [
    "### (2) 라이브러리 설치 및 불러오기"
   ]
  },
  {
   "cell_type": "markdown",
   "metadata": {
    "id": "pU-RB96NJBi6"
   },
   "source": [
    "#### 1) 설치"
   ]
  },
  {
   "cell_type": "markdown",
   "metadata": {
    "id": "7v_Avd8QJEUz"
   },
   "source": [
    "* requirements.txt 파일을 아래 위치에 두고 다음 코드를 실행하시오.\n",
    "    * 로컬 : 다음 코드셀 실행\n",
    "    * 구글콜랩 : requirements.txt 파일을 왼쪽 [파일]탭에 복사해 넣고 다음 코드셀 실행"
   ]
  },
  {
   "cell_type": "code",
   "execution_count": null,
   "metadata": {
    "id": "Xa1PcdmMJGBi"
   },
   "outputs": [],
   "source": [
    "!pip install -r requirements.txt"
   ]
  },
  {
   "cell_type": "markdown",
   "metadata": {
    "id": "kq88g7zGJIJf"
   },
   "source": [
    "#### 2) 라이브러리 로딩"
   ]
  },
  {
   "cell_type": "markdown",
   "metadata": {
    "id": "I_rCs78QJZmI"
   },
   "source": [
    "* **세부 요구사항**\n",
    "    - 기본적으로 필요한 라이브러리를 import 하도록 코드가 작성되어 있습니다.\n",
    "    - 필요하다고 판단되는 라이브러리를 추가하세요."
   ]
  },
  {
   "cell_type": "code",
   "execution_count": 2,
   "metadata": {
    "id": "3rsQerEaELwI"
   },
   "outputs": [],
   "source": [
    "import pandas as pd\n",
    "import numpy as np\n",
    "import matplotlib.pyplot as plt\n",
    "import seaborn as sns\n",
    "from sklearn.model_selection import train_test_split\n",
    "import joblib\n",
    "\n",
    "from sklearn.preprocessing import MinMaxScaler\n",
    "from sklearn.neighbors import KNeighborsRegressor\n",
    "from sklearn.metrics import mean_absolute_error, r2_score, mean_absolute_percentage_error\n",
    "from sklearn.linear_model import LinearRegression\n",
    "from sklearn.metrics import accuracy_score, mean_squared_error\n",
    "from sklearn.linear_model import LinearRegression\n",
    "from sklearn.ensemble import RandomForestRegressor  # 회귀 모델을 사용할 경우\n",
    "from sklearn.model_selection import train_test_split \n",
    "from sklearn.tree import DecisionTreeRegressor\n",
    "\n",
    "from sklearn.model_selection import RandomizedSearchCV\n",
    "\n",
    "import lightgbm as lgb\n",
    "\n",
    "import warnings\n",
    "\n",
    "warnings.filterwarnings(action='ignore')\n"
   ]
  },
  {
   "cell_type": "markdown",
   "metadata": {
    "id": "wsLDv9tZc_i1"
   },
   "source": [
    "### (3) 데이터 불러오기\n",
    "* 주어진 데이터셋\n",
    "    * [2.탐색적 데이터분석] 단계에서 저장한 파일 : data2.pkl"
   ]
  },
  {
   "cell_type": "code",
   "execution_count": 32,
   "metadata": {
    "id": "FT_JFnclfcQ4"
   },
   "outputs": [],
   "source": [
    "file1 = 'data2.pkl'"
   ]
  },
  {
   "cell_type": "code",
   "execution_count": 33,
   "metadata": {
    "id": "ZpMoNMpcQoQ5"
   },
   "outputs": [],
   "source": [
    "data = joblib.load(file1)"
   ]
  },
  {
   "cell_type": "markdown",
   "metadata": {
    "id": "OQsk3V6hXSjE",
    "tags": []
   },
   "source": [
    "## 2.데이터 준비\n",
    "* **세부요구사항**\n",
    "    * NaN에 대한 조치를 수행하시오.\n",
    "        * rolling 혹은 shift로 발생된 초기 행의 NaN은 삭제해도 무방합니다.\n",
    "    * 가변수화 : 범주형에 대해서 가변수화를 수행합니다.\n",
    "    * 데이터분할\n",
    "        * 시계열 데이터 특성에 맞게 분할합니다.\n",
    "        * 마지막 91일(3개월) 데이터를 검증셋으로 사용합니다."
   ]
  },
  {
   "cell_type": "markdown",
   "metadata": {
    "id": "mp_5volyuaA1"
   },
   "source": [
    "### (1) NA 조치"
   ]
  },
  {
   "cell_type": "code",
   "execution_count": 34,
   "metadata": {
    "tags": []
   },
   "outputs": [
    {
     "data": {
      "text/plain": [
       "Index(['Date_x', 'car_cnt', 'request_cnt', 'ride_cnt', 'waiting_time', 'fare',\n",
       "       'distance', 'weekday', 'month', 'week', 'year', 'target', 'Date_y',\n",
       "       'temp_max', 'temp_min', 'rain(mm)', 'humidity_max(%)',\n",
       "       'humidity_min(%)', 'sunshine(MJ/m2)', 'weekday_name', 'season',\n",
       "       'holiday', 'moving_average_7', 'ride_raio'],\n",
       "      dtype='object')"
      ]
     },
     "execution_count": 34,
     "metadata": {},
     "output_type": "execute_result"
    }
   ],
   "source": [
    "data.columns"
   ]
  },
  {
   "cell_type": "code",
   "execution_count": 35,
   "metadata": {
    "id": "k3FHGbBVtDkb",
    "tags": []
   },
   "outputs": [
    {
     "data": {
      "text/plain": [
       "Date_x              0\n",
       "car_cnt             0\n",
       "request_cnt         0\n",
       "ride_cnt            0\n",
       "waiting_time        0\n",
       "fare                0\n",
       "distance            0\n",
       "weekday             0\n",
       "month               0\n",
       "week                0\n",
       "year                0\n",
       "target              0\n",
       "Date_y              0\n",
       "temp_max            0\n",
       "temp_min            0\n",
       "rain(mm)            0\n",
       "humidity_max(%)     0\n",
       "humidity_min(%)     0\n",
       "sunshine(MJ/m2)     0\n",
       "weekday_name        0\n",
       "season              0\n",
       "holiday             0\n",
       "moving_average_7    0\n",
       "ride_raio           0\n",
       "dtype: int64"
      ]
     },
     "execution_count": 35,
     "metadata": {},
     "output_type": "execute_result"
    }
   ],
   "source": [
    "data.isna().sum()"
   ]
  },
  {
   "cell_type": "markdown",
   "metadata": {
    "id": "nOF9fSLQugGf"
   },
   "source": [
    "### (2) 가변수화"
   ]
  },
  {
   "cell_type": "code",
   "execution_count": 36,
   "metadata": {
    "id": "mKdqMtGjtFSq"
   },
   "outputs": [],
   "source": [
    "drop_col = ['car_cnt', 'ride_cnt', 'fare' ,'distance', 'weekday', 'Date_y', 'Date_x', 'month', 'week', 'year', 'weekday_name', 'season']\n",
    "data.drop(columns=drop_col, axis=1, inplace=True)"
   ]
  },
  {
   "cell_type": "code",
   "execution_count": 37,
   "metadata": {
    "tags": []
   },
   "outputs": [],
   "source": [
    "# dumm_cols = ['month', 'week', 'year', 'weekday_name', 'season', 'holiday']\n",
    "dumm_cols = ['holiday']\n",
    "# # 가변수화\n",
    "data = pd.get_dummies(data, columns=dumm_cols, drop_first=True)"
   ]
  },
  {
   "cell_type": "code",
   "execution_count": 38,
   "metadata": {
    "tags": []
   },
   "outputs": [],
   "source": [
    "# drop_col = ['month', 'week', 'year', 'weekday_name', 'season', 'holiday']\n",
    "# data.drop(columns=drop_col, axis=1, inplace=True)\n"
   ]
  },
  {
   "cell_type": "markdown",
   "metadata": {
    "id": "WpJEGpUuuVWm"
   },
   "source": [
    "### (3) 데이터분할\n",
    "* **세부요구사항**\n",
    "    * 마지막 91일 간의 데이터를 검증 셋으로 만듭니다. (2022-10-01 ~ )\n",
    "    * 이 기간의 날짜 리스트를 별도로 저장하여, 모델 검증시 시각화할 때 활용합니다."
   ]
  },
  {
   "cell_type": "code",
   "execution_count": 39,
   "metadata": {
    "id": "MkhKUJj_vOQD"
   },
   "outputs": [],
   "source": [
    "target = 'target'"
   ]
  },
  {
   "cell_type": "markdown",
   "metadata": {
    "id": "yRR53accpDHL"
   },
   "source": [
    "#### 1) x, y 나누기"
   ]
  },
  {
   "cell_type": "code",
   "execution_count": 40,
   "metadata": {
    "id": "N-4Msv8VsQ3R"
   },
   "outputs": [],
   "source": [
    "x = data.drop(target, axis=1)\n",
    "y = data.loc[:, target]\n",
    "\n",
    "# x_nk = data_nk.drop(target, axis=1)\n",
    "# y_nk = data_nk.loc[:, target]"
   ]
  },
  {
   "cell_type": "markdown",
   "metadata": {
    "id": "VBwpOKgkf5Am"
   },
   "source": [
    "#### 2) train : validation 나누기\n",
    "* 힌트 : train_test_split(  ,   ,  test_size = 91, shuffle = False) "
   ]
  },
  {
   "cell_type": "code",
   "execution_count": 41,
   "metadata": {
    "id": "1iHmTnHCgBw5"
   },
   "outputs": [],
   "source": [
    "x_train, x_test, y_train, y_test = train_test_split(x, y, test_size=0.03, shuffle=False, random_state=1)"
   ]
  },
  {
   "cell_type": "code",
   "execution_count": 42,
   "metadata": {
    "tags": []
   },
   "outputs": [
    {
     "data": {
      "text/plain": [
       "Index(['request_cnt', 'waiting_time', 'temp_max', 'temp_min', 'rain(mm)',\n",
       "       'humidity_max(%)', 'humidity_min(%)', 'sunshine(MJ/m2)',\n",
       "       'moving_average_7', 'ride_raio', 'holiday_1'],\n",
       "      dtype='object')"
      ]
     },
     "execution_count": 42,
     "metadata": {},
     "output_type": "execute_result"
    }
   ],
   "source": [
    "x_train.columns"
   ]
  },
  {
   "cell_type": "markdown",
   "metadata": {
    "id": "59bBv0a8heYh"
   },
   "source": [
    "### (4) Scaling\n",
    "* KNN, SVM 알고리즘 및 DL을 적용하기 위해서는 스케일링을 해야 합니다."
   ]
  },
  {
   "cell_type": "code",
   "execution_count": 43,
   "metadata": {
    "id": "RuDcjwhwSo5y"
   },
   "outputs": [],
   "source": [
    "scaler = MinMaxScaler()\n",
    "\n",
    "x_train = scaler.fit_transform(x_train)\n",
    "x_test = scaler.transform(x_test)"
   ]
  },
  {
   "cell_type": "markdown",
   "metadata": {
    "id": "30TsHQqzMSbJ"
   },
   "source": [
    "## 3.모델링\n",
    "* **세부요구사항**\n",
    "    * 머신러닝 알고리즘 중 3가지 이상을 사용하여 모델을 만들고 튜닝을 수행합니다.\n",
    "    * 딥러닝 모델 구조 2가지 이상을 설계하고 모델을 생성합니다.\n",
    "    * 성능 측정은 MAE, MAPE로 수행합니다.\n",
    "    * 모델링 후 실제값과 예측값을 시각화(라인차트)하여 분석합니다."
   ]
  },
  {
   "cell_type": "markdown",
   "metadata": {
    "id": "ztJOSw2_MaHs"
   },
   "source": [
    "### (1) 머신러닝"
   ]
  },
  {
   "cell_type": "markdown",
   "metadata": {
    "id": "Xb0VvIreaRZF"
   },
   "source": [
    "#### 1) 모델1"
   ]
  },
  {
   "cell_type": "code",
   "execution_count": 44,
   "metadata": {
    "id": "dIuWc-NuMZ91"
   },
   "outputs": [],
   "source": [
    "# 2단계: 선언하기\n",
    "model = KNeighborsRegressor(n_neighbors=5)"
   ]
  },
  {
   "cell_type": "code",
   "execution_count": 45,
   "metadata": {
    "id": "dZWz4v3DMZ7S"
   },
   "outputs": [
    {
     "data": {
      "text/html": [
       "<style>#sk-container-id-1 {color: black;background-color: white;}#sk-container-id-1 pre{padding: 0;}#sk-container-id-1 div.sk-toggleable {background-color: white;}#sk-container-id-1 label.sk-toggleable__label {cursor: pointer;display: block;width: 100%;margin-bottom: 0;padding: 0.3em;box-sizing: border-box;text-align: center;}#sk-container-id-1 label.sk-toggleable__label-arrow:before {content: \"▸\";float: left;margin-right: 0.25em;color: #696969;}#sk-container-id-1 label.sk-toggleable__label-arrow:hover:before {color: black;}#sk-container-id-1 div.sk-estimator:hover label.sk-toggleable__label-arrow:before {color: black;}#sk-container-id-1 div.sk-toggleable__content {max-height: 0;max-width: 0;overflow: hidden;text-align: left;background-color: #f0f8ff;}#sk-container-id-1 div.sk-toggleable__content pre {margin: 0.2em;color: black;border-radius: 0.25em;background-color: #f0f8ff;}#sk-container-id-1 input.sk-toggleable__control:checked~div.sk-toggleable__content {max-height: 200px;max-width: 100%;overflow: auto;}#sk-container-id-1 input.sk-toggleable__control:checked~label.sk-toggleable__label-arrow:before {content: \"▾\";}#sk-container-id-1 div.sk-estimator input.sk-toggleable__control:checked~label.sk-toggleable__label {background-color: #d4ebff;}#sk-container-id-1 div.sk-label input.sk-toggleable__control:checked~label.sk-toggleable__label {background-color: #d4ebff;}#sk-container-id-1 input.sk-hidden--visually {border: 0;clip: rect(1px 1px 1px 1px);clip: rect(1px, 1px, 1px, 1px);height: 1px;margin: -1px;overflow: hidden;padding: 0;position: absolute;width: 1px;}#sk-container-id-1 div.sk-estimator {font-family: monospace;background-color: #f0f8ff;border: 1px dotted black;border-radius: 0.25em;box-sizing: border-box;margin-bottom: 0.5em;}#sk-container-id-1 div.sk-estimator:hover {background-color: #d4ebff;}#sk-container-id-1 div.sk-parallel-item::after {content: \"\";width: 100%;border-bottom: 1px solid gray;flex-grow: 1;}#sk-container-id-1 div.sk-label:hover label.sk-toggleable__label {background-color: #d4ebff;}#sk-container-id-1 div.sk-serial::before {content: \"\";position: absolute;border-left: 1px solid gray;box-sizing: border-box;top: 0;bottom: 0;left: 50%;z-index: 0;}#sk-container-id-1 div.sk-serial {display: flex;flex-direction: column;align-items: center;background-color: white;padding-right: 0.2em;padding-left: 0.2em;position: relative;}#sk-container-id-1 div.sk-item {position: relative;z-index: 1;}#sk-container-id-1 div.sk-parallel {display: flex;align-items: stretch;justify-content: center;background-color: white;position: relative;}#sk-container-id-1 div.sk-item::before, #sk-container-id-1 div.sk-parallel-item::before {content: \"\";position: absolute;border-left: 1px solid gray;box-sizing: border-box;top: 0;bottom: 0;left: 50%;z-index: -1;}#sk-container-id-1 div.sk-parallel-item {display: flex;flex-direction: column;z-index: 1;position: relative;background-color: white;}#sk-container-id-1 div.sk-parallel-item:first-child::after {align-self: flex-end;width: 50%;}#sk-container-id-1 div.sk-parallel-item:last-child::after {align-self: flex-start;width: 50%;}#sk-container-id-1 div.sk-parallel-item:only-child::after {width: 0;}#sk-container-id-1 div.sk-dashed-wrapped {border: 1px dashed gray;margin: 0 0.4em 0.5em 0.4em;box-sizing: border-box;padding-bottom: 0.4em;background-color: white;}#sk-container-id-1 div.sk-label label {font-family: monospace;font-weight: bold;display: inline-block;line-height: 1.2em;}#sk-container-id-1 div.sk-label-container {text-align: center;}#sk-container-id-1 div.sk-container {/* jupyter's `normalize.less` sets `[hidden] { display: none; }` but bootstrap.min.css set `[hidden] { display: none !important; }` so we also need the `!important` here to be able to override the default hidden behavior on the sphinx rendered scikit-learn.org. See: https://github.com/scikit-learn/scikit-learn/issues/21755 */display: inline-block !important;position: relative;}#sk-container-id-1 div.sk-text-repr-fallback {display: none;}</style><div id=\"sk-container-id-1\" class=\"sk-top-container\"><div class=\"sk-text-repr-fallback\"><pre>KNeighborsRegressor()</pre><b>In a Jupyter environment, please rerun this cell to show the HTML representation or trust the notebook. <br />On GitHub, the HTML representation is unable to render, please try loading this page with nbviewer.org.</b></div><div class=\"sk-container\" hidden><div class=\"sk-item\"><div class=\"sk-estimator sk-toggleable\"><input class=\"sk-toggleable__control sk-hidden--visually\" id=\"sk-estimator-id-1\" type=\"checkbox\" checked><label for=\"sk-estimator-id-1\" class=\"sk-toggleable__label sk-toggleable__label-arrow\">KNeighborsRegressor</label><div class=\"sk-toggleable__content\"><pre>KNeighborsRegressor()</pre></div></div></div></div></div>"
      ],
      "text/plain": [
       "KNeighborsRegressor()"
      ]
     },
     "execution_count": 45,
     "metadata": {},
     "output_type": "execute_result"
    }
   ],
   "source": [
    "# 3단계: 학습하기\n",
    "model.fit(x_train, y_train)"
   ]
  },
  {
   "cell_type": "code",
   "execution_count": 46,
   "metadata": {
    "tags": []
   },
   "outputs": [],
   "source": [
    "# 4단계 예측하기\n",
    "y_pred = model.predict(x_test)"
   ]
  },
  {
   "cell_type": "code",
   "execution_count": 47,
   "metadata": {
    "tags": []
   },
   "outputs": [
    {
     "name": "stdout",
     "output_type": "stream",
     "text": [
      "MAE: 4.776818181818182\n",
      "MAPE:  0.11390399079167182\n"
     ]
    }
   ],
   "source": [
    "# 5단계: 평가하기\n",
    "print('MAE:', mean_absolute_error(y_test, y_pred))\n",
    "print('MAPE: ', mean_absolute_percentage_error(y_test, y_pred))"
   ]
  },
  {
   "cell_type": "markdown",
   "metadata": {
    "id": "hthJE54INBFD"
   },
   "source": [
    "#### 2) 모델2"
   ]
  },
  {
   "cell_type": "code",
   "execution_count": 48,
   "metadata": {
    "id": "SWIYJuN2tNul"
   },
   "outputs": [],
   "source": [
    "# 2단계: 선언하기\n",
    "model_2 = LinearRegression()"
   ]
  },
  {
   "cell_type": "code",
   "execution_count": 49,
   "metadata": {
    "id": "QY0t_8tctNul"
   },
   "outputs": [
    {
     "data": {
      "text/html": [
       "<style>#sk-container-id-2 {color: black;background-color: white;}#sk-container-id-2 pre{padding: 0;}#sk-container-id-2 div.sk-toggleable {background-color: white;}#sk-container-id-2 label.sk-toggleable__label {cursor: pointer;display: block;width: 100%;margin-bottom: 0;padding: 0.3em;box-sizing: border-box;text-align: center;}#sk-container-id-2 label.sk-toggleable__label-arrow:before {content: \"▸\";float: left;margin-right: 0.25em;color: #696969;}#sk-container-id-2 label.sk-toggleable__label-arrow:hover:before {color: black;}#sk-container-id-2 div.sk-estimator:hover label.sk-toggleable__label-arrow:before {color: black;}#sk-container-id-2 div.sk-toggleable__content {max-height: 0;max-width: 0;overflow: hidden;text-align: left;background-color: #f0f8ff;}#sk-container-id-2 div.sk-toggleable__content pre {margin: 0.2em;color: black;border-radius: 0.25em;background-color: #f0f8ff;}#sk-container-id-2 input.sk-toggleable__control:checked~div.sk-toggleable__content {max-height: 200px;max-width: 100%;overflow: auto;}#sk-container-id-2 input.sk-toggleable__control:checked~label.sk-toggleable__label-arrow:before {content: \"▾\";}#sk-container-id-2 div.sk-estimator input.sk-toggleable__control:checked~label.sk-toggleable__label {background-color: #d4ebff;}#sk-container-id-2 div.sk-label input.sk-toggleable__control:checked~label.sk-toggleable__label {background-color: #d4ebff;}#sk-container-id-2 input.sk-hidden--visually {border: 0;clip: rect(1px 1px 1px 1px);clip: rect(1px, 1px, 1px, 1px);height: 1px;margin: -1px;overflow: hidden;padding: 0;position: absolute;width: 1px;}#sk-container-id-2 div.sk-estimator {font-family: monospace;background-color: #f0f8ff;border: 1px dotted black;border-radius: 0.25em;box-sizing: border-box;margin-bottom: 0.5em;}#sk-container-id-2 div.sk-estimator:hover {background-color: #d4ebff;}#sk-container-id-2 div.sk-parallel-item::after {content: \"\";width: 100%;border-bottom: 1px solid gray;flex-grow: 1;}#sk-container-id-2 div.sk-label:hover label.sk-toggleable__label {background-color: #d4ebff;}#sk-container-id-2 div.sk-serial::before {content: \"\";position: absolute;border-left: 1px solid gray;box-sizing: border-box;top: 0;bottom: 0;left: 50%;z-index: 0;}#sk-container-id-2 div.sk-serial {display: flex;flex-direction: column;align-items: center;background-color: white;padding-right: 0.2em;padding-left: 0.2em;position: relative;}#sk-container-id-2 div.sk-item {position: relative;z-index: 1;}#sk-container-id-2 div.sk-parallel {display: flex;align-items: stretch;justify-content: center;background-color: white;position: relative;}#sk-container-id-2 div.sk-item::before, #sk-container-id-2 div.sk-parallel-item::before {content: \"\";position: absolute;border-left: 1px solid gray;box-sizing: border-box;top: 0;bottom: 0;left: 50%;z-index: -1;}#sk-container-id-2 div.sk-parallel-item {display: flex;flex-direction: column;z-index: 1;position: relative;background-color: white;}#sk-container-id-2 div.sk-parallel-item:first-child::after {align-self: flex-end;width: 50%;}#sk-container-id-2 div.sk-parallel-item:last-child::after {align-self: flex-start;width: 50%;}#sk-container-id-2 div.sk-parallel-item:only-child::after {width: 0;}#sk-container-id-2 div.sk-dashed-wrapped {border: 1px dashed gray;margin: 0 0.4em 0.5em 0.4em;box-sizing: border-box;padding-bottom: 0.4em;background-color: white;}#sk-container-id-2 div.sk-label label {font-family: monospace;font-weight: bold;display: inline-block;line-height: 1.2em;}#sk-container-id-2 div.sk-label-container {text-align: center;}#sk-container-id-2 div.sk-container {/* jupyter's `normalize.less` sets `[hidden] { display: none; }` but bootstrap.min.css set `[hidden] { display: none !important; }` so we also need the `!important` here to be able to override the default hidden behavior on the sphinx rendered scikit-learn.org. See: https://github.com/scikit-learn/scikit-learn/issues/21755 */display: inline-block !important;position: relative;}#sk-container-id-2 div.sk-text-repr-fallback {display: none;}</style><div id=\"sk-container-id-2\" class=\"sk-top-container\"><div class=\"sk-text-repr-fallback\"><pre>LinearRegression()</pre><b>In a Jupyter environment, please rerun this cell to show the HTML representation or trust the notebook. <br />On GitHub, the HTML representation is unable to render, please try loading this page with nbviewer.org.</b></div><div class=\"sk-container\" hidden><div class=\"sk-item\"><div class=\"sk-estimator sk-toggleable\"><input class=\"sk-toggleable__control sk-hidden--visually\" id=\"sk-estimator-id-2\" type=\"checkbox\" checked><label for=\"sk-estimator-id-2\" class=\"sk-toggleable__label sk-toggleable__label-arrow\">LinearRegression</label><div class=\"sk-toggleable__content\"><pre>LinearRegression()</pre></div></div></div></div></div>"
      ],
      "text/plain": [
       "LinearRegression()"
      ]
     },
     "execution_count": 49,
     "metadata": {},
     "output_type": "execute_result"
    }
   ],
   "source": [
    "# 3단계: 학습하기\n",
    "model_2.fit(x_train, y_train)"
   ]
  },
  {
   "cell_type": "code",
   "execution_count": 50,
   "metadata": {
    "tags": []
   },
   "outputs": [],
   "source": [
    "# 4단계: 예측하기\n",
    "y_pred = model_2.predict(x_test)"
   ]
  },
  {
   "cell_type": "code",
   "execution_count": 51,
   "metadata": {
    "tags": []
   },
   "outputs": [
    {
     "data": {
      "text/plain": [
       "88"
      ]
     },
     "execution_count": 51,
     "metadata": {},
     "output_type": "execute_result"
    }
   ],
   "source": [
    "y_pred.shape[0]"
   ]
  },
  {
   "cell_type": "code",
   "execution_count": 52,
   "metadata": {
    "tags": []
   },
   "outputs": [
    {
     "name": "stdout",
     "output_type": "stream",
     "text": [
      "MAE: 4.416630783271665\n",
      "MAPE:  0.10815565491996994\n"
     ]
    }
   ],
   "source": [
    "# 5단계: 평가하기\n",
    "print('MAE:', mean_absolute_error(y_test, y_pred))\n",
    "print('MAPE: ', mean_absolute_percentage_error(y_test, y_pred))\n"
   ]
  },
  {
   "cell_type": "markdown",
   "metadata": {
    "id": "Xc5u-D-yNCJc"
   },
   "source": [
    "#### 3) 모델3"
   ]
  },
  {
   "cell_type": "code",
   "execution_count": 867,
   "metadata": {
    "tags": []
   },
   "outputs": [],
   "source": [
    "param = {\n",
    "    'n_estimators': range(1, 100, 5), \n",
    "    'max_depth': range(0, 30,10), \n",
    "    'min_samples_split': range(2, 10, 2), \n",
    "    'min_samples_leaf': range(1, 5), \n",
    "    'max_features': ['auto', 'sqrt']\n",
    "}"
   ]
  },
  {
   "cell_type": "code",
   "execution_count": 782,
   "metadata": {
    "id": "6wz81_3otO-r",
    "tags": []
   },
   "outputs": [
    {
     "data": {
      "text/html": [
       "<style>#sk-container-id-67 {color: black;background-color: white;}#sk-container-id-67 pre{padding: 0;}#sk-container-id-67 div.sk-toggleable {background-color: white;}#sk-container-id-67 label.sk-toggleable__label {cursor: pointer;display: block;width: 100%;margin-bottom: 0;padding: 0.3em;box-sizing: border-box;text-align: center;}#sk-container-id-67 label.sk-toggleable__label-arrow:before {content: \"▸\";float: left;margin-right: 0.25em;color: #696969;}#sk-container-id-67 label.sk-toggleable__label-arrow:hover:before {color: black;}#sk-container-id-67 div.sk-estimator:hover label.sk-toggleable__label-arrow:before {color: black;}#sk-container-id-67 div.sk-toggleable__content {max-height: 0;max-width: 0;overflow: hidden;text-align: left;background-color: #f0f8ff;}#sk-container-id-67 div.sk-toggleable__content pre {margin: 0.2em;color: black;border-radius: 0.25em;background-color: #f0f8ff;}#sk-container-id-67 input.sk-toggleable__control:checked~div.sk-toggleable__content {max-height: 200px;max-width: 100%;overflow: auto;}#sk-container-id-67 input.sk-toggleable__control:checked~label.sk-toggleable__label-arrow:before {content: \"▾\";}#sk-container-id-67 div.sk-estimator input.sk-toggleable__control:checked~label.sk-toggleable__label {background-color: #d4ebff;}#sk-container-id-67 div.sk-label input.sk-toggleable__control:checked~label.sk-toggleable__label {background-color: #d4ebff;}#sk-container-id-67 input.sk-hidden--visually {border: 0;clip: rect(1px 1px 1px 1px);clip: rect(1px, 1px, 1px, 1px);height: 1px;margin: -1px;overflow: hidden;padding: 0;position: absolute;width: 1px;}#sk-container-id-67 div.sk-estimator {font-family: monospace;background-color: #f0f8ff;border: 1px dotted black;border-radius: 0.25em;box-sizing: border-box;margin-bottom: 0.5em;}#sk-container-id-67 div.sk-estimator:hover {background-color: #d4ebff;}#sk-container-id-67 div.sk-parallel-item::after {content: \"\";width: 100%;border-bottom: 1px solid gray;flex-grow: 1;}#sk-container-id-67 div.sk-label:hover label.sk-toggleable__label {background-color: #d4ebff;}#sk-container-id-67 div.sk-serial::before {content: \"\";position: absolute;border-left: 1px solid gray;box-sizing: border-box;top: 0;bottom: 0;left: 50%;z-index: 0;}#sk-container-id-67 div.sk-serial {display: flex;flex-direction: column;align-items: center;background-color: white;padding-right: 0.2em;padding-left: 0.2em;position: relative;}#sk-container-id-67 div.sk-item {position: relative;z-index: 1;}#sk-container-id-67 div.sk-parallel {display: flex;align-items: stretch;justify-content: center;background-color: white;position: relative;}#sk-container-id-67 div.sk-item::before, #sk-container-id-67 div.sk-parallel-item::before {content: \"\";position: absolute;border-left: 1px solid gray;box-sizing: border-box;top: 0;bottom: 0;left: 50%;z-index: -1;}#sk-container-id-67 div.sk-parallel-item {display: flex;flex-direction: column;z-index: 1;position: relative;background-color: white;}#sk-container-id-67 div.sk-parallel-item:first-child::after {align-self: flex-end;width: 50%;}#sk-container-id-67 div.sk-parallel-item:last-child::after {align-self: flex-start;width: 50%;}#sk-container-id-67 div.sk-parallel-item:only-child::after {width: 0;}#sk-container-id-67 div.sk-dashed-wrapped {border: 1px dashed gray;margin: 0 0.4em 0.5em 0.4em;box-sizing: border-box;padding-bottom: 0.4em;background-color: white;}#sk-container-id-67 div.sk-label label {font-family: monospace;font-weight: bold;display: inline-block;line-height: 1.2em;}#sk-container-id-67 div.sk-label-container {text-align: center;}#sk-container-id-67 div.sk-container {/* jupyter's `normalize.less` sets `[hidden] { display: none; }` but bootstrap.min.css set `[hidden] { display: none !important; }` so we also need the `!important` here to be able to override the default hidden behavior on the sphinx rendered scikit-learn.org. See: https://github.com/scikit-learn/scikit-learn/issues/21755 */display: inline-block !important;position: relative;}#sk-container-id-67 div.sk-text-repr-fallback {display: none;}</style><div id=\"sk-container-id-67\" class=\"sk-top-container\"><div class=\"sk-text-repr-fallback\"><pre>RandomizedSearchCV(cv=3, estimator=RandomForestRegressor(), n_iter=20,\n",
       "                   param_distributions={&#x27;max_depth&#x27;: range(0, 30, 10),\n",
       "                                        &#x27;max_features&#x27;: [&#x27;auto&#x27;, &#x27;sqrt&#x27;],\n",
       "                                        &#x27;min_samples_leaf&#x27;: range(1, 5),\n",
       "                                        &#x27;min_samples_split&#x27;: range(2, 10, 2),\n",
       "                                        &#x27;n_estimators&#x27;: range(1, 100, 5)})</pre><b>In a Jupyter environment, please rerun this cell to show the HTML representation or trust the notebook. <br />On GitHub, the HTML representation is unable to render, please try loading this page with nbviewer.org.</b></div><div class=\"sk-container\" hidden><div class=\"sk-item sk-dashed-wrapped\"><div class=\"sk-label-container\"><div class=\"sk-label sk-toggleable\"><input class=\"sk-toggleable__control sk-hidden--visually\" id=\"sk-estimator-id-77\" type=\"checkbox\" ><label for=\"sk-estimator-id-77\" class=\"sk-toggleable__label sk-toggleable__label-arrow\">RandomizedSearchCV</label><div class=\"sk-toggleable__content\"><pre>RandomizedSearchCV(cv=3, estimator=RandomForestRegressor(), n_iter=20,\n",
       "                   param_distributions={&#x27;max_depth&#x27;: range(0, 30, 10),\n",
       "                                        &#x27;max_features&#x27;: [&#x27;auto&#x27;, &#x27;sqrt&#x27;],\n",
       "                                        &#x27;min_samples_leaf&#x27;: range(1, 5),\n",
       "                                        &#x27;min_samples_split&#x27;: range(2, 10, 2),\n",
       "                                        &#x27;n_estimators&#x27;: range(1, 100, 5)})</pre></div></div></div><div class=\"sk-parallel\"><div class=\"sk-parallel-item\"><div class=\"sk-item\"><div class=\"sk-label-container\"><div class=\"sk-label sk-toggleable\"><input class=\"sk-toggleable__control sk-hidden--visually\" id=\"sk-estimator-id-78\" type=\"checkbox\" ><label for=\"sk-estimator-id-78\" class=\"sk-toggleable__label sk-toggleable__label-arrow\">estimator: RandomForestRegressor</label><div class=\"sk-toggleable__content\"><pre>RandomForestRegressor()</pre></div></div></div><div class=\"sk-serial\"><div class=\"sk-item\"><div class=\"sk-estimator sk-toggleable\"><input class=\"sk-toggleable__control sk-hidden--visually\" id=\"sk-estimator-id-79\" type=\"checkbox\" ><label for=\"sk-estimator-id-79\" class=\"sk-toggleable__label sk-toggleable__label-arrow\">RandomForestRegressor</label><div class=\"sk-toggleable__content\"><pre>RandomForestRegressor()</pre></div></div></div></div></div></div></div></div></div></div>"
      ],
      "text/plain": [
       "RandomizedSearchCV(cv=3, estimator=RandomForestRegressor(), n_iter=20,\n",
       "                   param_distributions={'max_depth': range(0, 30, 10),\n",
       "                                        'max_features': ['auto', 'sqrt'],\n",
       "                                        'min_samples_leaf': range(1, 5),\n",
       "                                        'min_samples_split': range(2, 10, 2),\n",
       "                                        'n_estimators': range(1, 100, 5)})"
      ]
     },
     "execution_count": 782,
     "metadata": {},
     "output_type": "execute_result"
    }
   ],
   "source": [
    "# 아래에 필요한 코드를 작성하고 결과를 확인합니다.\n",
    "\n",
    "#기본모델 선언\n",
    "rs_model = RandomForestRegressor()\n",
    "\n",
    "\n",
    "# Random Search 선언\n",
    "model =RandomizedSearchCV(rs_model,\n",
    "                          param,\n",
    "                         cv=3,\n",
    "                         n_iter=20)\n",
    "\n",
    "model.fit(x_train, y_train)"
   ]
  },
  {
   "cell_type": "code",
   "execution_count": 783,
   "metadata": {
    "collapsed": true,
    "jupyter": {
     "outputs_hidden": true
    },
    "tags": []
   },
   "outputs": [
    {
     "name": "stdout",
     "output_type": "stream",
     "text": [
      "{'mean_fit_time': array([3.33547592e-04, 5.56525230e-01, 2.02746193e+00, 7.96635389e-01,\n",
      "       5.98123312e-01, 6.27888680e-01, 2.67159343e+00, 1.27095302e-01,\n",
      "       1.55357099e+00, 4.21168804e-02, 3.40143840e-04, 9.13080215e-01,\n",
      "       1.02074941e-03, 6.46804810e-01, 2.17153231e-02, 7.53720601e-03,\n",
      "       5.15699387e-04, 1.04141235e-03, 1.08712117e-01, 8.78252983e-02]), 'std_fit_time': array([4.71707529e-04, 7.23333723e-02, 1.08318291e-01, 1.78605440e-02,\n",
      "       2.80517197e-02, 8.72153114e-02, 1.45840073e-02, 1.56314006e-02,\n",
      "       5.20506512e-02, 4.69465011e-04, 4.81036031e-04, 5.87127487e-02,\n",
      "       4.91845195e-05, 1.80590451e-02, 3.77999322e-04, 4.81489939e-04,\n",
      "       4.22337814e-04, 7.07860974e-05, 9.18247558e-03, 1.17993566e-02]), 'mean_score_time': array([0.        , 0.01753227, 0.01977722, 0.01229978, 0.01570805,\n",
      "       0.02420982, 0.02421355, 0.00350952, 0.01704733, 0.00295973,\n",
      "       0.        , 0.01341033, 0.        , 0.00832423, 0.00117294,\n",
      "       0.00164994, 0.        , 0.        , 0.0050331 , 0.00396713]), 'std_score_time': array([0.00000000e+00, 4.21328377e-03, 1.22054357e-03, 3.73834337e-03,\n",
      "       4.79020063e-04, 2.59565398e-03, 4.78435962e-03, 1.07857436e-03,\n",
      "       2.16308406e-03, 2.94431662e-05, 0.00000000e+00, 3.63254059e-03,\n",
      "       0.00000000e+00, 9.89140086e-04, 2.38544616e-04, 4.49320053e-04,\n",
      "       0.00000000e+00, 0.00000000e+00, 5.27891769e-04, 1.43371649e-03]), 'param_n_estimators': masked_array(data=[11, 91, 81, 41, 71, 81, 96, 6, 66, 6, 41, 46, 76, 31,\n",
      "                   1, 1, 81, 1, 16, 11],\n",
      "             mask=[False, False, False, False, False, False, False, False,\n",
      "                   False, False, False, False, False, False, False, False,\n",
      "                   False, False, False, False],\n",
      "       fill_value='?',\n",
      "            dtype=object), 'param_min_samples_split': masked_array(data=[2, 4, 4, 8, 8, 4, 6, 8, 2, 4, 8, 8, 2, 6, 6, 2, 2, 8,\n",
      "                   6, 8],\n",
      "             mask=[False, False, False, False, False, False, False, False,\n",
      "                   False, False, False, False, False, False, False, False,\n",
      "                   False, False, False, False],\n",
      "       fill_value='?',\n",
      "            dtype=object), 'param_min_samples_leaf': masked_array(data=[3, 4, 2, 4, 2, 3, 1, 2, 3, 3, 4, 3, 2, 2, 2, 3, 3, 2,\n",
      "                   4, 4],\n",
      "             mask=[False, False, False, False, False, False, False, False,\n",
      "                   False, False, False, False, False, False, False, False,\n",
      "                   False, False, False, False],\n",
      "       fill_value='?',\n",
      "            dtype=object), 'param_max_features': masked_array(data=['auto', 'sqrt', 'auto', 'auto', 'sqrt', 'sqrt', 'auto',\n",
      "                   'auto', 'auto', 'sqrt', 'auto', 'auto', 'auto', 'auto',\n",
      "                   'auto', 'sqrt', 'sqrt', 'sqrt', 'sqrt', 'sqrt'],\n",
      "             mask=[False, False, False, False, False, False, False, False,\n",
      "                   False, False, False, False, False, False, False, False,\n",
      "                   False, False, False, False],\n",
      "       fill_value='?',\n",
      "            dtype=object), 'param_max_depth': masked_array(data=[0, 20, 20, 10, 20, 10, 20, 10, 20, 20, 0, 10, 0, 10,\n",
      "                   20, 10, 0, 0, 10, 20],\n",
      "             mask=[False, False, False, False, False, False, False, False,\n",
      "                   False, False, False, False, False, False, False, False,\n",
      "                   False, False, False, False],\n",
      "       fill_value='?',\n",
      "            dtype=object), 'params': [{'n_estimators': 11, 'min_samples_split': 2, 'min_samples_leaf': 3, 'max_features': 'auto', 'max_depth': 0}, {'n_estimators': 91, 'min_samples_split': 4, 'min_samples_leaf': 4, 'max_features': 'sqrt', 'max_depth': 20}, {'n_estimators': 81, 'min_samples_split': 4, 'min_samples_leaf': 2, 'max_features': 'auto', 'max_depth': 20}, {'n_estimators': 41, 'min_samples_split': 8, 'min_samples_leaf': 4, 'max_features': 'auto', 'max_depth': 10}, {'n_estimators': 71, 'min_samples_split': 8, 'min_samples_leaf': 2, 'max_features': 'sqrt', 'max_depth': 20}, {'n_estimators': 81, 'min_samples_split': 4, 'min_samples_leaf': 3, 'max_features': 'sqrt', 'max_depth': 10}, {'n_estimators': 96, 'min_samples_split': 6, 'min_samples_leaf': 1, 'max_features': 'auto', 'max_depth': 20}, {'n_estimators': 6, 'min_samples_split': 8, 'min_samples_leaf': 2, 'max_features': 'auto', 'max_depth': 10}, {'n_estimators': 66, 'min_samples_split': 2, 'min_samples_leaf': 3, 'max_features': 'auto', 'max_depth': 20}, {'n_estimators': 6, 'min_samples_split': 4, 'min_samples_leaf': 3, 'max_features': 'sqrt', 'max_depth': 20}, {'n_estimators': 41, 'min_samples_split': 8, 'min_samples_leaf': 4, 'max_features': 'auto', 'max_depth': 0}, {'n_estimators': 46, 'min_samples_split': 8, 'min_samples_leaf': 3, 'max_features': 'auto', 'max_depth': 10}, {'n_estimators': 76, 'min_samples_split': 2, 'min_samples_leaf': 2, 'max_features': 'auto', 'max_depth': 0}, {'n_estimators': 31, 'min_samples_split': 6, 'min_samples_leaf': 2, 'max_features': 'auto', 'max_depth': 10}, {'n_estimators': 1, 'min_samples_split': 6, 'min_samples_leaf': 2, 'max_features': 'auto', 'max_depth': 20}, {'n_estimators': 1, 'min_samples_split': 2, 'min_samples_leaf': 3, 'max_features': 'sqrt', 'max_depth': 10}, {'n_estimators': 81, 'min_samples_split': 2, 'min_samples_leaf': 3, 'max_features': 'sqrt', 'max_depth': 0}, {'n_estimators': 1, 'min_samples_split': 8, 'min_samples_leaf': 2, 'max_features': 'sqrt', 'max_depth': 0}, {'n_estimators': 16, 'min_samples_split': 6, 'min_samples_leaf': 4, 'max_features': 'sqrt', 'max_depth': 10}, {'n_estimators': 11, 'min_samples_split': 8, 'min_samples_leaf': 4, 'max_features': 'sqrt', 'max_depth': 20}], 'split0_test_score': array([        nan,  0.23730522,  0.24638891,  0.25396304,  0.25719363,\n",
      "        0.25572897,  0.24982068,  0.17202796,  0.25249859,  0.21154079,\n",
      "               nan,  0.25283941,         nan,  0.24301272, -0.3869317 ,\n",
      "       -0.14499995,         nan,         nan,  0.24494167,  0.21159788]), 'split1_test_score': array([        nan, -0.66923667, -0.73492827, -0.66800082, -0.64272903,\n",
      "       -0.61806913, -0.73991731, -0.60554131, -0.70362644, -0.6868315 ,\n",
      "               nan, -0.66311   ,         nan, -0.78611689, -0.87027434,\n",
      "       -1.38947751,         nan,         nan, -0.72003505, -0.76110568]), 'split2_test_score': array([       nan, 0.5011164 , 0.55118922, 0.56116373, 0.49974859,\n",
      "       0.50445035, 0.53318854, 0.47513808, 0.55274904, 0.48136039,\n",
      "              nan, 0.56832486,        nan, 0.56529634, 0.06668817,\n",
      "       0.30443083,        nan,        nan, 0.49966863, 0.51314796]), 'mean_test_score': array([        nan,  0.02306165,  0.02088328,  0.04904198,  0.03807106,\n",
      "        0.04737006,  0.01436397,  0.01387491,  0.03387373,  0.00202322,\n",
      "               nan,  0.05268476,         nan,  0.00739739, -0.39683929,\n",
      "       -0.41001554,         nan,         nan,  0.00819175, -0.01211995]), 'std_test_score': array([       nan, 0.50123634, 0.54873439, 0.52230633, 0.49147723,\n",
      "       0.48136789, 0.54575912, 0.45513827, 0.53570356, 0.49939382,\n",
      "              nan, 0.52227347,        nan, 0.57631899, 0.38257749,\n",
      "       0.71647578,        nan,        nan, 0.52532984, 0.54373268]), 'rank_test_score': array([16,  6,  7,  2,  4,  3,  8,  9,  5, 12, 16,  1, 16, 11, 14, 15, 16,\n",
      "       16, 10, 13])}\n",
      "{'n_estimators': 46, 'min_samples_split': 8, 'min_samples_leaf': 3, 'max_features': 'auto', 'max_depth': 10}\n",
      "0.05268475853461555\n"
     ]
    }
   ],
   "source": [
    "print(model.cv_results_)\n",
    "print(model.best_params_)\n",
    "print(model.best_score_)"
   ]
  },
  {
   "cell_type": "code",
   "execution_count": 837,
   "metadata": {
    "tags": []
   },
   "outputs": [
    {
     "data": {
      "text/html": [
       "<style>#sk-container-id-71 {color: black;background-color: white;}#sk-container-id-71 pre{padding: 0;}#sk-container-id-71 div.sk-toggleable {background-color: white;}#sk-container-id-71 label.sk-toggleable__label {cursor: pointer;display: block;width: 100%;margin-bottom: 0;padding: 0.3em;box-sizing: border-box;text-align: center;}#sk-container-id-71 label.sk-toggleable__label-arrow:before {content: \"▸\";float: left;margin-right: 0.25em;color: #696969;}#sk-container-id-71 label.sk-toggleable__label-arrow:hover:before {color: black;}#sk-container-id-71 div.sk-estimator:hover label.sk-toggleable__label-arrow:before {color: black;}#sk-container-id-71 div.sk-toggleable__content {max-height: 0;max-width: 0;overflow: hidden;text-align: left;background-color: #f0f8ff;}#sk-container-id-71 div.sk-toggleable__content pre {margin: 0.2em;color: black;border-radius: 0.25em;background-color: #f0f8ff;}#sk-container-id-71 input.sk-toggleable__control:checked~div.sk-toggleable__content {max-height: 200px;max-width: 100%;overflow: auto;}#sk-container-id-71 input.sk-toggleable__control:checked~label.sk-toggleable__label-arrow:before {content: \"▾\";}#sk-container-id-71 div.sk-estimator input.sk-toggleable__control:checked~label.sk-toggleable__label {background-color: #d4ebff;}#sk-container-id-71 div.sk-label input.sk-toggleable__control:checked~label.sk-toggleable__label {background-color: #d4ebff;}#sk-container-id-71 input.sk-hidden--visually {border: 0;clip: rect(1px 1px 1px 1px);clip: rect(1px, 1px, 1px, 1px);height: 1px;margin: -1px;overflow: hidden;padding: 0;position: absolute;width: 1px;}#sk-container-id-71 div.sk-estimator {font-family: monospace;background-color: #f0f8ff;border: 1px dotted black;border-radius: 0.25em;box-sizing: border-box;margin-bottom: 0.5em;}#sk-container-id-71 div.sk-estimator:hover {background-color: #d4ebff;}#sk-container-id-71 div.sk-parallel-item::after {content: \"\";width: 100%;border-bottom: 1px solid gray;flex-grow: 1;}#sk-container-id-71 div.sk-label:hover label.sk-toggleable__label {background-color: #d4ebff;}#sk-container-id-71 div.sk-serial::before {content: \"\";position: absolute;border-left: 1px solid gray;box-sizing: border-box;top: 0;bottom: 0;left: 50%;z-index: 0;}#sk-container-id-71 div.sk-serial {display: flex;flex-direction: column;align-items: center;background-color: white;padding-right: 0.2em;padding-left: 0.2em;position: relative;}#sk-container-id-71 div.sk-item {position: relative;z-index: 1;}#sk-container-id-71 div.sk-parallel {display: flex;align-items: stretch;justify-content: center;background-color: white;position: relative;}#sk-container-id-71 div.sk-item::before, #sk-container-id-71 div.sk-parallel-item::before {content: \"\";position: absolute;border-left: 1px solid gray;box-sizing: border-box;top: 0;bottom: 0;left: 50%;z-index: -1;}#sk-container-id-71 div.sk-parallel-item {display: flex;flex-direction: column;z-index: 1;position: relative;background-color: white;}#sk-container-id-71 div.sk-parallel-item:first-child::after {align-self: flex-end;width: 50%;}#sk-container-id-71 div.sk-parallel-item:last-child::after {align-self: flex-start;width: 50%;}#sk-container-id-71 div.sk-parallel-item:only-child::after {width: 0;}#sk-container-id-71 div.sk-dashed-wrapped {border: 1px dashed gray;margin: 0 0.4em 0.5em 0.4em;box-sizing: border-box;padding-bottom: 0.4em;background-color: white;}#sk-container-id-71 div.sk-label label {font-family: monospace;font-weight: bold;display: inline-block;line-height: 1.2em;}#sk-container-id-71 div.sk-label-container {text-align: center;}#sk-container-id-71 div.sk-container {/* jupyter's `normalize.less` sets `[hidden] { display: none; }` but bootstrap.min.css set `[hidden] { display: none !important; }` so we also need the `!important` here to be able to override the default hidden behavior on the sphinx rendered scikit-learn.org. See: https://github.com/scikit-learn/scikit-learn/issues/21755 */display: inline-block !important;position: relative;}#sk-container-id-71 div.sk-text-repr-fallback {display: none;}</style><div id=\"sk-container-id-71\" class=\"sk-top-container\"><div class=\"sk-text-repr-fallback\"><pre>RandomForestRegressor(max_depth=5, max_features=&#x27;auto&#x27;, n_estimators=300,\n",
       "                      random_state=42)</pre><b>In a Jupyter environment, please rerun this cell to show the HTML representation or trust the notebook. <br />On GitHub, the HTML representation is unable to render, please try loading this page with nbviewer.org.</b></div><div class=\"sk-container\" hidden><div class=\"sk-item\"><div class=\"sk-estimator sk-toggleable\"><input class=\"sk-toggleable__control sk-hidden--visually\" id=\"sk-estimator-id-83\" type=\"checkbox\" checked><label for=\"sk-estimator-id-83\" class=\"sk-toggleable__label sk-toggleable__label-arrow\">RandomForestRegressor</label><div class=\"sk-toggleable__content\"><pre>RandomForestRegressor(max_depth=5, max_features=&#x27;auto&#x27;, n_estimators=300,\n",
       "                      random_state=42)</pre></div></div></div></div></div>"
      ],
      "text/plain": [
       "RandomForestRegressor(max_depth=5, max_features='auto', n_estimators=300,\n",
       "                      random_state=42)"
      ]
     },
     "execution_count": 837,
     "metadata": {},
     "output_type": "execute_result"
    }
   ],
   "source": [
    "# 최적\n",
    "model = RandomForestRegressor(n_estimators=300, random_state=42, max_depth = 5, max_features='auto')\n",
    "model.fit(x_train, y_train)"
   ]
  },
  {
   "cell_type": "code",
   "execution_count": 838,
   "metadata": {
    "id": "O-pTRBJAtO-r"
   },
   "outputs": [
    {
     "name": "stdout",
     "output_type": "stream",
     "text": [
      "MAE: 33.06089724541442\n",
      "MAPE:  0.10662170493989546\n"
     ]
    }
   ],
   "source": [
    "y_pred = model.predict(x_test)\n",
    "print('MAE:', mean_squared_error(y_test, y_pred))\n",
    "print('MAPE: ', mean_absolute_percentage_error(y_test, y_pred))"
   ]
  },
  {
   "cell_type": "markdown",
   "metadata": {
    "id": "9uVK1tgEJqKe"
   },
   "source": [
    "#### 4) 모델4"
   ]
  },
  {
   "cell_type": "code",
   "execution_count": 839,
   "metadata": {
    "id": "dWERuYXZJsnR"
   },
   "outputs": [],
   "source": [
    "# 아래에 필요한 코드를 작성하고 결과를 확인합니다.\n",
    "from sklearn.ensemble import GradientBoostingClassifier  # 분류 모델을 사용할 경우\n",
    "# 또는\n",
    "from sklearn.ensemble import GradientBoostingRegressor  # 회귀 모델을 사용할 경우\n",
    "from sklearn.model_selection import train_test_split \n",
    "\n",
    "model = GradientBoostingRegressor(n_estimators=100, random_state=42)\n",
    "model.fit(x_train, y_train)\n",
    "\n",
    "y_pred = model.predict(x_test)\n",
    "\n"
   ]
  },
  {
   "cell_type": "code",
   "execution_count": 840,
   "metadata": {
    "id": "JmDH4a0kJseJ"
   },
   "outputs": [
    {
     "name": "stdout",
     "output_type": "stream",
     "text": [
      "MAE: 32.75837029543748\n",
      "MAPE:  0.10766196036573895\n"
     ]
    }
   ],
   "source": [
    "# Test 데이터로 성능을 평가해보세요.\n",
    "print('MAE:', mean_squared_error(y_test, y_pred))\n",
    "print('MAPE: ', mean_absolute_percentage_error(y_test, y_pred))"
   ]
  },
  {
   "cell_type": "markdown",
   "metadata": {
    "tags": []
   },
   "source": [
    "#### 5) 모델5"
   ]
  },
  {
   "cell_type": "code",
   "execution_count": 841,
   "metadata": {
    "tags": []
   },
   "outputs": [
    {
     "name": "stdout",
     "output_type": "stream",
     "text": [
      "MAE:  5.310568828009892\n",
      "MAPE:  0.12638644253705938\n"
     ]
    }
   ],
   "source": [
    "model = DecisionTreeRegressor(max_depth=5)\n",
    "\n",
    "\n",
    "model.fit(x_train , y_train)\n",
    "\n",
    "\n",
    "y_pred= model.predict(x_test)\n",
    "\n",
    "\n",
    "print('MAE: ', mean_absolute_error(y_test , y_pred))\n",
    "print('MAPE: ', mean_absolute_percentage_error(y_test, y_pred))"
   ]
  },
  {
   "cell_type": "markdown",
   "metadata": {
    "tags": []
   },
   "source": [
    "#### 6) 모델6"
   ]
  },
  {
   "cell_type": "code",
   "execution_count": 789,
   "metadata": {
    "tags": []
   },
   "outputs": [
    {
     "name": "stdout",
     "output_type": "stream",
     "text": [
      "MAE: 47.408908089165074\n",
      "MAPE:  0.19775516604639362\n"
     ]
    }
   ],
   "source": [
    "data = joblib.load(file1)\n",
    "\n",
    "drop_col = ['car_cnt', 'ride_cnt', 'fare' ,'distance', 'weekday', 'Date_y', 'month', 'week', 'year', 'weekday_name', 'season']\n",
    "data.drop(columns=drop_col, axis=1, inplace=True)\n",
    "\n",
    "dumm_cols = ['holiday']\n",
    "# # 가변수화\n",
    "data = pd.get_dummies(data, columns=dumm_cols, drop_first=True)\n",
    "\n",
    "x = data.drop(target, axis=1)\n",
    "y = data.loc[:, target]\n",
    "\n",
    "x_train, x_test, y_train, y_test = train_test_split(x, y, test_size=0.3, shuffle=False)\n",
    "\n",
    "\n",
    "# 아래에 필요한 코드를 작성하고 결과를 확인합니다.\n",
    "import pandas as pd\n",
    "import statsmodels.api as sm\n",
    "\n",
    "\n",
    "# Exponential Smoothing 모델 생성 및 적용\n",
    "\n",
    "x_train['Date_x'] = x_train.index\n",
    "\n",
    "model = sm.tsa.ExponentialSmoothing(x_train['Date_x'] , trend='add', seasonal='add', seasonal_periods=12)\n",
    "results = model.fit()\n",
    "\n",
    "# 예측값을 데이터프레임에 추가\n",
    "x_train['predicted'] = results.fittedvalues\n",
    "\n",
    "\n",
    "\n",
    "x_test['Date_x'] = x_test.index\n",
    "\n",
    "model = sm.tsa.ExponentialSmoothing(x_test['Date_x'], trend='add', seasonal='add', seasonal_periods=3)\n",
    "results = model.fit()\n",
    "\n",
    "x_test['predicted'] = results.fittedvalues\n",
    "\n",
    "\n",
    "\n",
    "drop_col = ['Date_x']\n",
    "x_train.drop(columns=drop_col, axis=1, inplace=True)\n",
    "x_test.drop(columns=drop_col, axis=1, inplace=True)\n",
    "\n",
    "\n",
    "\n",
    "\n",
    "from sklearn.linear_model import LinearRegression\n",
    "from sklearn.metrics import mean_absolute_error\n",
    "from sklearn.metrics import r2_score\n",
    "\n",
    "model = LinearRegression()\n",
    "\n",
    "model.fit(x_train, y_train)\n",
    "\n",
    "\n",
    "y_pred = model.predict(x_test)\n",
    "\n",
    "\n",
    "print('MAE:', mean_squared_error(y_test, y_pred))\n",
    "print('MAPE: ', mean_absolute_percentage_error(y_test, y_pred))"
   ]
  },
  {
   "cell_type": "markdown",
   "metadata": {
    "tags": []
   },
   "source": [
    "### 7) 모델 7"
   ]
  },
  {
   "cell_type": "code",
   "execution_count": 790,
   "metadata": {
    "tags": []
   },
   "outputs": [
    {
     "name": "stdout",
     "output_type": "stream",
     "text": [
      "[LightGBM] [Warning] Auto-choosing col-wise multi-threading, the overhead of testing was 0.000469 seconds.\n",
      "You can set `force_col_wise=true` to remove the overhead.\n",
      "[LightGBM] [Info] Total Bins 2273\n",
      "[LightGBM] [Info] Number of data points in the train set: 2044, number of used features: 12\n",
      "[LightGBM] [Info] Start training from score 43.513160\n",
      "MAE: 32.63093910345483\n",
      "MAPE:  0.14285305000851237\n"
     ]
    }
   ],
   "source": [
    "# LightGBM 모델 생성\n",
    "model = lgb.LGBMRegressor(\n",
    "    boosting_type='gbdt',  # 부스팅 유형 설정 (기본값: 'gbdt')\n",
    "    num_leaves=31,  # 트리의 최대 리프 노드 수 (기본값: 31)\n",
    "    learning_rate=0.05,  # 학습률 (기본값: 0.05)\n",
    "    n_estimators=100,  # 트리의 개수 (기본값: 100)\n",
    "    objective='regression',  # 회귀 목적 함수 설정\n",
    "    # metric='mse'  # 성능 측정 지표 설정 (평균 제곱 오차, 기본값: 'mse')\n",
    ")\n",
    "\n",
    "# 모델 훈련\n",
    "model.fit(x_train, y_train)\n",
    "\n",
    "# 예측\n",
    "y_pred = model.predict(x_test)\n",
    "\n",
    "print('MAE:', mean_squared_error(y_test, y_pred))\n",
    "print('MAPE: ', mean_absolute_percentage_error(y_test, y_pred))"
   ]
  },
  {
   "cell_type": "markdown",
   "metadata": {
    "tags": []
   },
   "source": [
    "## 성능 시각화 - 모델 2"
   ]
  },
  {
   "cell_type": "code",
   "execution_count": 53,
   "metadata": {
    "tags": []
   },
   "outputs": [
    {
     "data": {
      "image/png": "[encoded data removed]",
      "text/plain": [
       "<Figure size 640x480 with 1 Axes>"
      ]
     },
     "metadata": {},
     "output_type": "display_data"
    },
    {
     "name": "stdout",
     "output_type": "stream",
     "text": [
      "MAE : 4.417\n"
     ]
    }
   ],
   "source": [
    "# 모델 2번 시각화 - LinearRegression\n",
    "final_model = model_2\n",
    "\n",
    "y_pred = final_model.predict(x_test)\n",
    "plt.plot(y_test.values, label='Actual')\n",
    "plt.plot(y_pred, label='Predicted')\n",
    "plt.legend()\n",
    "plt.title('Waiting Time')\n",
    "plt.show()\n",
    "\n",
    "mae = mean_absolute_error(y_test, y_pred)\n",
    "print(f'MAE : {round(mae,3)}')"
   ]
  },
  {
   "cell_type": "markdown",
   "metadata": {
    "id": "JBXKlQu5P2yM"
   },
   "source": [
    "### (2) 딥러닝"
   ]
  },
  {
   "cell_type": "code",
   "execution_count": 8,
   "metadata": {
    "id": "ZpMoNMpcQoQ5",
    "tags": []
   },
   "outputs": [],
   "source": [
    "df = joblib.load('data2_u.pkl')"
   ]
  },
  {
   "cell_type": "markdown",
   "metadata": {
    "id": "mp_5volyuaA1"
   },
   "source": [
    "### (1) NA 조치"
   ]
  },
  {
   "cell_type": "code",
   "execution_count": 9,
   "metadata": {
    "id": "k3FHGbBVtDkb",
    "tags": []
   },
   "outputs": [
    {
     "name": "stdout",
     "output_type": "stream",
     "text": [
      "<class 'pandas.core.frame.DataFrame'>\n",
      "Int64Index: 2921 entries, 0 to 2920\n",
      "Data columns (total 21 columns):\n",
      " #   Column            Non-Null Count  Dtype         \n",
      "---  ------            --------------  -----         \n",
      " 0   Date              2921 non-null   datetime64[ns]\n",
      " 1   car_cnt           2921 non-null   int64         \n",
      " 2   request_cnt       2921 non-null   int64         \n",
      " 3   ride_cnt          2921 non-null   int64         \n",
      " 4   waiting_time      2921 non-null   float64       \n",
      " 5   fare              2921 non-null   int64         \n",
      " 6   distance          2921 non-null   int64         \n",
      " 7   weekday           2921 non-null   category      \n",
      " 8   month             2921 non-null   category      \n",
      " 9   week              2921 non-null   category      \n",
      " 10  year              2921 non-null   category      \n",
      " 11  target            2921 non-null   float64       \n",
      " 12  temp_max          2921 non-null   float64       \n",
      " 13  temp_min          2921 non-null   float64       \n",
      " 14  rain(mm)          2921 non-null   float64       \n",
      " 15  humidity_max(%)   2921 non-null   float64       \n",
      " 16  humidity_min(%)   2921 non-null   float64       \n",
      " 17  sunshine(MJ/m2)   2921 non-null   float64       \n",
      " 18  is_holiday        2921 non-null   category      \n",
      " 19  ave_waiting_time  2921 non-null   float64       \n",
      " 20  ride_rate         2921 non-null   float64       \n",
      "dtypes: category(5), datetime64[ns](1), float64(10), int64(5)\n",
      "memory usage: 402.9 KB\n"
     ]
    }
   ],
   "source": [
    "df.info()"
   ]
  },
  {
   "cell_type": "markdown",
   "metadata": {
    "id": "nOF9fSLQugGf"
   },
   "source": [
    "### (2) 가변수화"
   ]
  },
  {
   "cell_type": "code",
   "execution_count": 10,
   "metadata": {
    "id": "CZgBC2QSoKc8",
    "tags": []
   },
   "outputs": [],
   "source": [
    "dumm_cols = ['weekday', 'month', 'year']\n",
    "df = pd.get_dummies(df, columns=dumm_cols, drop_first=True)"
   ]
  },
  {
   "cell_type": "markdown",
   "metadata": {
    "id": "yRR53accpDHL"
   },
   "source": [
    "#### 1) x, y 나누기"
   ]
  },
  {
   "cell_type": "code",
   "execution_count": 11,
   "metadata": {
    "tags": []
   },
   "outputs": [
    {
     "data": {
      "text/plain": [
       "Int64Index([2830], dtype='int64')"
      ]
     },
     "execution_count": 11,
     "metadata": {},
     "output_type": "execute_result"
    }
   ],
   "source": [
    "df.loc[df['Date'] == '2022-10',:].index"
   ]
  },
  {
   "cell_type": "code",
   "execution_count": 12,
   "metadata": {
    "tags": []
   },
   "outputs": [],
   "source": [
    "test_start = 2830"
   ]
  },
  {
   "cell_type": "code",
   "execution_count": 13,
   "metadata": {
    "id": "N-4Msv8VsQ3R",
    "tags": []
   },
   "outputs": [],
   "source": [
    "removed_cols = ['Date', 'week', 'is_holiday']\n",
    "# removed_cols = ['Date', 'week', 'season', 'holiday_yn']\n",
    "x = df.drop(removed_cols, axis=1)\n",
    "y = df.loc[:, 'target']"
   ]
  },
  {
   "cell_type": "markdown",
   "metadata": {
    "id": "VBwpOKgkf5Am"
   },
   "source": [
    "#### 2) train : validation 나누기\n",
    "* 힌트 : train_test_split(  ,   ,  test_size = 91, shuffle = False) "
   ]
  },
  {
   "cell_type": "code",
   "execution_count": 14,
   "metadata": {
    "id": "1iHmTnHCgBw5",
    "tags": []
   },
   "outputs": [
    {
     "data": {
      "text/plain": [
       "((2830, 40), (91, 40), (2830,), (91,))"
      ]
     },
     "execution_count": 14,
     "metadata": {},
     "output_type": "execute_result"
    }
   ],
   "source": [
    "from sklearn.model_selection import train_test_split\n",
    "x_train = x.iloc[:test_start,:]\n",
    "x_test = x.iloc[test_start:,:]\n",
    "y_train = y[:test_start]\n",
    "y_test = y[test_start:]\n",
    "x_train.shape, x_test.shape, y_train.shape, y_test.shape"
   ]
  },
  {
   "cell_type": "code",
   "execution_count": 15,
   "metadata": {
    "tags": []
   },
   "outputs": [],
   "source": [
    "# from sklearn.model_selection import train_test_split\n",
    "# x_train, x_valid, y_train, y_valid = train_test_split(x_train, y_train, test_size=0.3, random_state=1)\n",
    "# x_train.shape, x_valid.shape, y_train.shape, y_valid.shape"
   ]
  },
  {
   "cell_type": "code",
   "execution_count": 16,
   "metadata": {
    "tags": []
   },
   "outputs": [
    {
     "name": "stdout",
     "output_type": "stream",
     "text": [
      "<class 'pandas.core.frame.DataFrame'>\n",
      "Int64Index: 2830 entries, 0 to 2829\n",
      "Data columns (total 40 columns):\n",
      " #   Column            Non-Null Count  Dtype  \n",
      "---  ------            --------------  -----  \n",
      " 0   car_cnt           2830 non-null   int64  \n",
      " 1   request_cnt       2830 non-null   int64  \n",
      " 2   ride_cnt          2830 non-null   int64  \n",
      " 3   waiting_time      2830 non-null   float64\n",
      " 4   fare              2830 non-null   int64  \n",
      " 5   distance          2830 non-null   int64  \n",
      " 6   target            2830 non-null   float64\n",
      " 7   temp_max          2830 non-null   float64\n",
      " 8   temp_min          2830 non-null   float64\n",
      " 9   rain(mm)          2830 non-null   float64\n",
      " 10  humidity_max(%)   2830 non-null   float64\n",
      " 11  humidity_min(%)   2830 non-null   float64\n",
      " 12  sunshine(MJ/m2)   2830 non-null   float64\n",
      " 13  ave_waiting_time  2830 non-null   float64\n",
      " 14  ride_rate         2830 non-null   float64\n",
      " 15  weekday_1         2830 non-null   uint8  \n",
      " 16  weekday_2         2830 non-null   uint8  \n",
      " 17  weekday_3         2830 non-null   uint8  \n",
      " 18  weekday_4         2830 non-null   uint8  \n",
      " 19  weekday_5         2830 non-null   uint8  \n",
      " 20  weekday_6         2830 non-null   uint8  \n",
      " 21  month_1           2830 non-null   uint8  \n",
      " 22  month_2           2830 non-null   uint8  \n",
      " 23  month_3           2830 non-null   uint8  \n",
      " 24  month_4           2830 non-null   uint8  \n",
      " 25  month_5           2830 non-null   uint8  \n",
      " 26  month_6           2830 non-null   uint8  \n",
      " 27  month_7           2830 non-null   uint8  \n",
      " 28  month_8           2830 non-null   uint8  \n",
      " 29  month_9           2830 non-null   uint8  \n",
      " 30  month_10          2830 non-null   uint8  \n",
      " 31  month_11          2830 non-null   uint8  \n",
      " 32  month_12          2830 non-null   uint8  \n",
      " 33  year_2016         2830 non-null   uint8  \n",
      " 34  year_2017         2830 non-null   uint8  \n",
      " 35  year_2018         2830 non-null   uint8  \n",
      " 36  year_2019         2830 non-null   uint8  \n",
      " 37  year_2020         2830 non-null   uint8  \n",
      " 38  year_2021         2830 non-null   uint8  \n",
      " 39  year_2022         2830 non-null   uint8  \n",
      "dtypes: float64(10), int64(5), uint8(25)\n",
      "memory usage: 422.8 KB\n"
     ]
    }
   ],
   "source": [
    "x_train.info()"
   ]
  },
  {
   "cell_type": "markdown",
   "metadata": {
    "id": "59bBv0a8heYh"
   },
   "source": [
    "### (4) Scaling\n",
    "* KNN, SVM 알고리즘 및 DL을 적용하기 위해서는 스케일링을 해야 합니다."
   ]
  },
  {
   "cell_type": "code",
   "execution_count": 17,
   "metadata": {
    "id": "RuDcjwhwSo5y",
    "tags": []
   },
   "outputs": [],
   "source": [
    "from sklearn.preprocessing import MinMaxScaler\n",
    "\n",
    "scaler = MinMaxScaler()\n",
    "scaler.fit(x_train)\n",
    "x_train_s = scaler.transform(x_train)\n",
    "x_test_s = scaler.transform(x_test)"
   ]
  },
  {
   "cell_type": "code",
   "execution_count": 18,
   "metadata": {
    "collapsed": true,
    "jupyter": {
     "outputs_hidden": true
    },
    "tags": []
   },
   "outputs": [
    {
     "name": "stdout",
     "output_type": "stream",
     "text": [
      "Requirement already satisfied: tensorflow in c:\\users\\user\\anaconda3\\lib\\site-packages (2.13.0)\n",
      "Requirement already satisfied: tensorflow-intel==2.13.0 in c:\\users\\user\\anaconda3\\lib\\site-packages (from tensorflow) (2.13.0)\n",
      "Requirement already satisfied: absl-py>=1.0.0 in c:\\users\\user\\anaconda3\\lib\\site-packages (from tensorflow-intel==2.13.0->tensorflow) (1.4.0)\n",
      "Requirement already satisfied: astunparse>=1.6.0 in c:\\users\\user\\anaconda3\\lib\\site-packages (from tensorflow-intel==2.13.0->tensorflow) (1.6.3)\n",
      "Requirement already satisfied: flatbuffers>=23.1.21 in c:\\users\\user\\anaconda3\\lib\\site-packages (from tensorflow-intel==2.13.0->tensorflow) (23.5.26)\n",
      "Requirement already satisfied: gast<=0.4.0,>=0.2.1 in c:\\users\\user\\anaconda3\\lib\\site-packages (from tensorflow-intel==2.13.0->tensorflow) (0.4.0)\n",
      "Requirement already satisfied: google-pasta>=0.1.1 in c:\\users\\user\\anaconda3\\lib\\site-packages (from tensorflow-intel==2.13.0->tensorflow) (0.2.0)\n",
      "Requirement already satisfied: h5py>=2.9.0 in c:\\users\\user\\anaconda3\\lib\\site-packages (from tensorflow-intel==2.13.0->tensorflow) (3.7.0)\n",
      "Requirement already satisfied: libclang>=13.0.0 in c:\\users\\user\\anaconda3\\lib\\site-packages (from tensorflow-intel==2.13.0->tensorflow) (16.0.6)\n",
      "Requirement already satisfied: numpy<=1.24.3,>=1.22 in c:\\users\\user\\anaconda3\\lib\\site-packages (from tensorflow-intel==2.13.0->tensorflow) (1.24.3)\n",
      "Requirement already satisfied: opt-einsum>=2.3.2 in c:\\users\\user\\anaconda3\\lib\\site-packages (from tensorflow-intel==2.13.0->tensorflow) (3.3.0)\n",
      "Requirement already satisfied: packaging in c:\\users\\user\\anaconda3\\lib\\site-packages (from tensorflow-intel==2.13.0->tensorflow) (23.0)\n",
      "Requirement already satisfied: protobuf!=4.21.0,!=4.21.1,!=4.21.2,!=4.21.3,!=4.21.4,!=4.21.5,<5.0.0dev,>=3.20.3 in c:\\users\\user\\anaconda3\\lib\\site-packages (from tensorflow-intel==2.13.0->tensorflow) (4.24.2)\n",
      "Requirement already satisfied: setuptools in c:\\users\\user\\anaconda3\\lib\\site-packages (from tensorflow-intel==2.13.0->tensorflow) (67.8.0)\n",
      "Requirement already satisfied: six>=1.12.0 in c:\\users\\user\\anaconda3\\lib\\site-packages (from tensorflow-intel==2.13.0->tensorflow) (1.16.0)\n",
      "Requirement already satisfied: termcolor>=1.1.0 in c:\\users\\user\\anaconda3\\lib\\site-packages (from tensorflow-intel==2.13.0->tensorflow) (2.3.0)\n",
      "Requirement already satisfied: typing-extensions<4.6.0,>=3.6.6 in c:\\users\\user\\anaconda3\\lib\\site-packages (from tensorflow-intel==2.13.0->tensorflow) (4.5.0)\n",
      "Requirement already satisfied: wrapt>=1.11.0 in c:\\users\\user\\anaconda3\\lib\\site-packages (from tensorflow-intel==2.13.0->tensorflow) (1.14.1)\n",
      "Requirement already satisfied: grpcio<2.0,>=1.24.3 in c:\\users\\user\\anaconda3\\lib\\site-packages (from tensorflow-intel==2.13.0->tensorflow) (1.57.0)\n",
      "Requirement already satisfied: tensorboard<2.14,>=2.13 in c:\\users\\user\\anaconda3\\lib\\site-packages (from tensorflow-intel==2.13.0->tensorflow) (2.13.0)\n",
      "Requirement already satisfied: tensorflow-estimator<2.14,>=2.13.0 in c:\\users\\user\\anaconda3\\lib\\site-packages (from tensorflow-intel==2.13.0->tensorflow) (2.13.0)\n",
      "Requirement already satisfied: keras<2.14,>=2.13.1 in c:\\users\\user\\anaconda3\\lib\\site-packages (from tensorflow-intel==2.13.0->tensorflow) (2.13.1)\n",
      "Requirement already satisfied: tensorflow-io-gcs-filesystem>=0.23.1 in c:\\users\\user\\anaconda3\\lib\\site-packages (from tensorflow-intel==2.13.0->tensorflow) (0.31.0)\n",
      "Requirement already satisfied: wheel<1.0,>=0.23.0 in c:\\users\\user\\anaconda3\\lib\\site-packages (from astunparse>=1.6.0->tensorflow-intel==2.13.0->tensorflow) (0.38.4)\n",
      "Requirement already satisfied: google-auth<3,>=1.6.3 in c:\\users\\user\\anaconda3\\lib\\site-packages (from tensorboard<2.14,>=2.13->tensorflow-intel==2.13.0->tensorflow) (2.22.0)\n",
      "Requirement already satisfied: google-auth-oauthlib<1.1,>=0.5 in c:\\users\\user\\anaconda3\\lib\\site-packages (from tensorboard<2.14,>=2.13->tensorflow-intel==2.13.0->tensorflow) (1.0.0)\n",
      "Requirement already satisfied: markdown>=2.6.8 in c:\\users\\user\\anaconda3\\lib\\site-packages (from tensorboard<2.14,>=2.13->tensorflow-intel==2.13.0->tensorflow) (3.4.1)\n",
      "Requirement already satisfied: requests<3,>=2.21.0 in c:\\users\\user\\anaconda3\\lib\\site-packages (from tensorboard<2.14,>=2.13->tensorflow-intel==2.13.0->tensorflow) (2.29.0)\n",
      "Requirement already satisfied: tensorboard-data-server<0.8.0,>=0.7.0 in c:\\users\\user\\anaconda3\\lib\\site-packages (from tensorboard<2.14,>=2.13->tensorflow-intel==2.13.0->tensorflow) (0.7.1)\n",
      "Requirement already satisfied: werkzeug>=1.0.1 in c:\\users\\user\\anaconda3\\lib\\site-packages (from tensorboard<2.14,>=2.13->tensorflow-intel==2.13.0->tensorflow) (2.2.3)\n",
      "Requirement already satisfied: cachetools<6.0,>=2.0.0 in c:\\users\\user\\anaconda3\\lib\\site-packages (from google-auth<3,>=1.6.3->tensorboard<2.14,>=2.13->tensorflow-intel==2.13.0->tensorflow) (5.3.1)\n",
      "Requirement already satisfied: pyasn1-modules>=0.2.1 in c:\\users\\user\\anaconda3\\lib\\site-packages (from google-auth<3,>=1.6.3->tensorboard<2.14,>=2.13->tensorflow-intel==2.13.0->tensorflow) (0.2.8)\n",
      "Requirement already satisfied: rsa<5,>=3.1.4 in c:\\users\\user\\anaconda3\\lib\\site-packages (from google-auth<3,>=1.6.3->tensorboard<2.14,>=2.13->tensorflow-intel==2.13.0->tensorflow) (4.9)\n",
      "Requirement already satisfied: urllib3<2.0 in c:\\users\\user\\anaconda3\\lib\\site-packages (from google-auth<3,>=1.6.3->tensorboard<2.14,>=2.13->tensorflow-intel==2.13.0->tensorflow) (1.26.16)\n",
      "Requirement already satisfied: requests-oauthlib>=0.7.0 in c:\\users\\user\\anaconda3\\lib\\site-packages (from google-auth-oauthlib<1.1,>=0.5->tensorboard<2.14,>=2.13->tensorflow-intel==2.13.0->tensorflow) (1.3.1)\n",
      "Requirement already satisfied: charset-normalizer<4,>=2 in c:\\users\\user\\anaconda3\\lib\\site-packages (from requests<3,>=2.21.0->tensorboard<2.14,>=2.13->tensorflow-intel==2.13.0->tensorflow) (2.0.4)\n",
      "Requirement already satisfied: idna<4,>=2.5 in c:\\users\\user\\anaconda3\\lib\\site-packages (from requests<3,>=2.21.0->tensorboard<2.14,>=2.13->tensorflow-intel==2.13.0->tensorflow) (3.4)\n",
      "Requirement already satisfied: certifi>=2017.4.17 in c:\\users\\user\\anaconda3\\lib\\site-packages (from requests<3,>=2.21.0->tensorboard<2.14,>=2.13->tensorflow-intel==2.13.0->tensorflow) (2023.5.7)\n",
      "Requirement already satisfied: MarkupSafe>=2.1.1 in c:\\users\\user\\anaconda3\\lib\\site-packages (from werkzeug>=1.0.1->tensorboard<2.14,>=2.13->tensorflow-intel==2.13.0->tensorflow) (2.1.1)\n",
      "Requirement already satisfied: pyasn1<0.5.0,>=0.4.6 in c:\\users\\user\\anaconda3\\lib\\site-packages (from pyasn1-modules>=0.2.1->google-auth<3,>=1.6.3->tensorboard<2.14,>=2.13->tensorflow-intel==2.13.0->tensorflow) (0.4.8)\n",
      "Requirement already satisfied: oauthlib>=3.0.0 in c:\\users\\user\\anaconda3\\lib\\site-packages (from requests-oauthlib>=0.7.0->google-auth-oauthlib<1.1,>=0.5->tensorboard<2.14,>=2.13->tensorflow-intel==2.13.0->tensorflow) (3.2.2)\n"
     ]
    }
   ],
   "source": [
    "!pip install tensorflow"
   ]
  },
  {
   "cell_type": "code",
   "execution_count": 19,
   "metadata": {
    "tags": []
   },
   "outputs": [],
   "source": [
    "import tensorflow as tf"
   ]
  },
  {
   "cell_type": "markdown",
   "metadata": {
    "id": "kd1fRLnDaaFY"
   },
   "source": [
    "#### 1) 모델1"
   ]
  },
  {
   "cell_type": "code",
   "execution_count": 20,
   "metadata": {
    "tags": []
   },
   "outputs": [
    {
     "data": {
      "text/plain": [
       "(2830, 40)"
      ]
     },
     "execution_count": 20,
     "metadata": {},
     "output_type": "execute_result"
    }
   ],
   "source": [
    "x_train.shape"
   ]
  },
  {
   "cell_type": "code",
   "execution_count": 21,
   "metadata": {
    "id": "L7R6_Oo-tQ7D",
    "tags": []
   },
   "outputs": [],
   "source": [
    "import numpy as np\n",
    "import tensorflow as tf\n",
    "\n",
    "np.random.seed(0)\n",
    "tf.random.set_seed(0)\n",
    "\n",
    "X = tf.keras.Input(shape=[x_train.shape[1]])\n",
    "\n",
    "H = tf.keras.layers.Dense(64)(X)\n",
    "H = tf.keras.layers.BatchNormalization()(H)\n",
    "H = tf.keras.layers.Activation('swish')(H)\n",
    "\n",
    "H = tf.keras.layers.Dropout(0.6)(H)\n",
    "H = tf.keras.layers.Dense(64)(H)\n",
    "H = tf.keras.layers.BatchNormalization()(H)\n",
    "H = tf.keras.layers.Activation('swish')(H)\n",
    "\n",
    "H = tf.keras.layers.Dropout(0.5)(H)\n",
    "H = tf.keras.layers.Dense(16)(H)\n",
    "H = tf.keras.layers.BatchNormalization()(H)\n",
    "H = tf.keras.layers.Activation('swish')(H)\n",
    "\n",
    "H = tf.keras.layers.Dropout(0.5)(H)\n",
    "H = tf.keras.layers.Dense(8)(H)\n",
    "H = tf.keras.layers.BatchNormalization()(H)\n",
    "H = tf.keras.layers.Activation('swish')(H)\n",
    "\n",
    "H = tf.keras.layers.Dropout(0.3)(H)\n",
    "Y = tf.keras.layers.Dense(1)(H)\n",
    "\n",
    "model1 = tf.keras.Model(X, Y)\n",
    "model1.compile(loss='mae')\n",
    "# model1.summary()"
   ]
  },
  {
   "cell_type": "code",
   "execution_count": 22,
   "metadata": {
    "id": "9E6wET5xtQ7E",
    "tags": []
   },
   "outputs": [
    {
     "name": "stdout",
     "output_type": "stream",
     "text": [
      "Epoch 1/10\n",
      "18/18 [==============================] - 0s 19ms/step - loss: 7.2885 - val_loss: 2.2507\n",
      "Epoch 2/10\n",
      "18/18 [==============================] - 0s 14ms/step - loss: 7.6864 - val_loss: 7.1705\n",
      "Epoch 3/10\n",
      "18/18 [==============================] - 0s 13ms/step - loss: 7.3701 - val_loss: 3.7411\n",
      "Epoch 4/10\n",
      "18/18 [==============================] - 0s 13ms/step - loss: 7.3835 - val_loss: 0.7032\n",
      "Epoch 5/10\n",
      "18/18 [==============================] - 0s 14ms/step - loss: 7.5207 - val_loss: 1.1811\n",
      "Epoch 6/10\n",
      "18/18 [==============================] - 0s 12ms/step - loss: 7.6104 - val_loss: 5.0131\n",
      "Epoch 7/10\n",
      "18/18 [==============================] - 0s 13ms/step - loss: 7.3397 - val_loss: 7.2716\n",
      "Epoch 8/10\n",
      "18/18 [==============================] - 0s 13ms/step - loss: 7.3961 - val_loss: 2.4651\n",
      "Epoch 9/10\n",
      "18/18 [==============================] - 0s 14ms/step - loss: 7.5217 - val_loss: 1.0275\n",
      "Epoch 10/10\n",
      "18/18 [==============================] - 0s 14ms/step - loss: 7.4084 - val_loss: 3.7741\n"
     ]
    },
    {
     "data": {
      "text/plain": [
       "<keras.src.callbacks.History at 0x2a9e85687d0>"
      ]
     },
     "execution_count": 22,
     "metadata": {},
     "output_type": "execute_result"
    }
   ],
   "source": [
    "model1.fit(x_train, y_train, epochs=500, batch_size=128, \n",
    "          validation_split=0.2, verbose=0)\n",
    "model1.fit(x_train, y_train, epochs=10,  batch_size=128, validation_split=0.2)"
   ]
  },
  {
   "cell_type": "code",
   "execution_count": 23,
   "metadata": {
    "id": "HMOjVWKvtTLb",
    "tags": []
   },
   "outputs": [
    {
     "name": "stdout",
     "output_type": "stream",
     "text": [
      "3/3 [==============================] - 0s 5ms/step - loss: 3.5290\n"
     ]
    },
    {
     "data": {
      "text/plain": [
       "3.5290462970733643"
      ]
     },
     "execution_count": 23,
     "metadata": {},
     "output_type": "execute_result"
    }
   ],
   "source": [
    "model1.evaluate(x_test, y_test)"
   ]
  },
  {
   "cell_type": "markdown",
   "metadata": {
    "id": "pGilyDYJbssI",
    "tags": []
   },
   "source": [
    "#### 2) 모델2"
   ]
  },
  {
   "cell_type": "code",
   "execution_count": 24,
   "metadata": {
    "id": "7sgaOwvntV5Z",
    "tags": []
   },
   "outputs": [],
   "source": [
    "X = tf.keras.Input(shape=x_train.shape[1])\n",
    "H = tf.keras.layers.Flatten()(X)\n",
    "\n",
    "H = tf.keras.layers.Dense(64)(H)\n",
    "H = tf.keras.layers.BatchNormalization()(H)\n",
    "H = tf.keras.layers.Activation('swish')(H)\n",
    "\n",
    "for i in range(16):\n",
    "    H1 = tf.keras.layers.Dense(64)(H)\n",
    "    H1 = tf.keras.layers.BatchNormalization()(H1)\n",
    "    H1 = tf.keras.layers.Activation('swish')(H1)\n",
    "    H = tf.keras.layers.Add()([H, H1])\n",
    "\n",
    "Y = tf.keras.layers.Dense(1)(H)\n",
    "model2 = tf.keras.Model(X, Y)\n",
    "model2.compile(optimizer=tf.keras.optimizers.Adam(learning_rate=0.001),\n",
    "             loss='mae')\n",
    "# model.summary()"
   ]
  },
  {
   "cell_type": "code",
   "execution_count": 25,
   "metadata": {
    "collapsed": true,
    "id": "QlSsmCT5tV5Z",
    "jupyter": {
     "outputs_hidden": true
    },
    "tags": []
   },
   "outputs": [
    {
     "name": "stdout",
     "output_type": "stream",
     "text": [
      "Epoch 1/10000000\n",
      "18/18 [==============================] - 21s 120ms/step - loss: 33.9155 - val_loss: 6055.3682\n",
      "Epoch 2/10000000\n",
      "18/18 [==============================] - 1s 34ms/step - loss: 24.2749 - val_loss: 3232.2378\n",
      "Epoch 3/10000000\n",
      "18/18 [==============================] - 1s 34ms/step - loss: 17.0627 - val_loss: 1191.2825\n",
      "Epoch 4/10000000\n",
      "18/18 [==============================] - 1s 34ms/step - loss: 11.0711 - val_loss: 181.5794\n",
      "Epoch 5/10000000\n",
      "18/18 [==============================] - 1s 34ms/step - loss: 7.3121 - val_loss: 69.2435\n",
      "Epoch 6/10000000\n",
      "18/18 [==============================] - 1s 34ms/step - loss: 5.5339 - val_loss: 27.9069\n",
      "Epoch 7/10000000\n",
      "18/18 [==============================] - 1s 33ms/step - loss: 4.6842 - val_loss: 19.7924\n",
      "Epoch 8/10000000\n",
      "18/18 [==============================] - 1s 32ms/step - loss: 4.3627 - val_loss: 14.4703\n",
      "Epoch 9/10000000\n",
      "18/18 [==============================] - 1s 31ms/step - loss: 3.3559 - val_loss: 7.5046\n",
      "Epoch 10/10000000\n",
      "18/18 [==============================] - 1s 29ms/step - loss: 2.8840 - val_loss: 29.7495\n",
      "Epoch 11/10000000\n",
      "18/18 [==============================] - 1s 32ms/step - loss: 2.8841 - val_loss: 17.5590\n",
      "Epoch 12/10000000\n",
      "18/18 [==============================] - 1s 31ms/step - loss: 2.7906 - val_loss: 21.5521\n",
      "Epoch 13/10000000\n",
      "18/18 [==============================] - 1s 32ms/step - loss: 2.5250 - val_loss: 22.9317\n",
      "Epoch 14/10000000\n",
      "18/18 [==============================] - 1s 31ms/step - loss: 2.6990 - val_loss: 19.5419\n",
      "Epoch 15/10000000\n",
      "18/18 [==============================] - 1s 31ms/step - loss: 2.5384 - val_loss: 14.9350\n",
      "Epoch 16/10000000\n",
      "18/18 [==============================] - 1s 31ms/step - loss: 2.7985 - val_loss: 16.2130\n",
      "Epoch 17/10000000\n",
      "18/18 [==============================] - 1s 31ms/step - loss: 2.1897 - val_loss: 14.5749\n",
      "Epoch 18/10000000\n",
      "18/18 [==============================] - 1s 30ms/step - loss: 2.5568 - val_loss: 20.3950\n",
      "Epoch 19/10000000\n",
      "18/18 [==============================] - 1s 32ms/step - loss: 2.2835 - val_loss: 9.3612\n"
     ]
    }
   ],
   "source": [
    "early = tf.keras.callbacks.EarlyStopping(patience=10, restore_best_weights=True)\n",
    "result = model2.fit(x_train, y_train, epochs=10000000, batch_size=128,\n",
    "                   validation_split=0.2, # validation_data=(x_val, y_val)\n",
    "                   callbacks=[early]\n",
    ")"
   ]
  },
  {
   "cell_type": "code",
   "execution_count": 26,
   "metadata": {
    "id": "sp6Fps2ItV5Z",
    "tags": []
   },
   "outputs": [
    {
     "name": "stdout",
     "output_type": "stream",
     "text": [
      "3/3 [==============================] - 0s 8ms/step - loss: 4.8868\n"
     ]
    },
    {
     "data": {
      "text/plain": [
       "4.886806011199951"
      ]
     },
     "execution_count": 26,
     "metadata": {},
     "output_type": "execute_result"
    }
   ],
   "source": [
    "model2.evaluate(x_test, y_test)"
   ]
  },
  {
   "cell_type": "markdown",
   "metadata": {
    "id": "Ik2DNmAC0Zzd"
   },
   "source": [
    "## 4.모델 비교\n",
    "* **세부요구사항**\n",
    "    * 모델링 단계에서 생성한 모든 모델의 성능을 하나로 모아서 비교합니다.\n",
    "    * 가장 성능이 높은 모델을 선정합니다."
   ]
  },
  {
   "cell_type": "code",
   "execution_count": 29,
   "metadata": {
    "tags": []
   },
   "outputs": [
    {
     "name": "stdout",
     "output_type": "stream",
     "text": [
      "3/3 [==============================] - 0s 3ms/step\n"
     ]
    },
    {
     "data": {
      "image/png": "[encoded data removed]",
      "text/plain": [
       "<Figure size 640x480 with 1 Axes>"
      ]
     },
     "metadata": {},
     "output_type": "display_data"
    },
    {
     "name": "stdout",
     "output_type": "stream",
     "text": [
      "MAE : 3.529\n"
     ]
    }
   ],
   "source": [
    "# 모델 1번 시각화\n",
    "final_model = model1\n",
    "\n",
    "y_pred = final_model.predict(x_test)\n",
    "plt.plot(y_test.values, label='Actual')\n",
    "plt.plot(y_pred, label='Predicted')\n",
    "plt.legend()\n",
    "plt.title('Waiting Time')\n",
    "plt.show()\n",
    "\n",
    "mae = mean_absolute_error(y_test, y_pred)\n",
    "print(f'MAE : {round(mae,3)}')"
   ]
  },
  {
   "cell_type": "markdown",
   "metadata": {
    "tags": []
   },
   "source": [
    "## 성능 좋은 모델"
   ]
  },
  {
   "cell_type": "code",
   "execution_count": null,
   "metadata": {},
   "outputs": [],
   "source": []
  }
 ],
 "metadata": {
  "colab": {
   "provenance": [
    {
     "file_id": "1rAhFiA-Ujmt8relY5oG0amSLXnIVJ7Fu",
     "timestamp": 1676287923203
    }
   ],
   "toc_visible": true
  },
  "kernelspec": {
   "display_name": "Python 3 (ipykernel)",
   "language": "python",
   "name": "python3"
  },
  "language_info": {
   "codemirror_mode": {
    "name": "ipython",
    "version": 3
   },
   "file_extension": ".py",
   "mimetype": "text/x-python",
   "name": "python",
   "nbconvert_exporter": "python",
   "pygments_lexer": "ipython3",
   "version": "3.11.3"
  }
 },
 "nbformat": 4,
 "nbformat_minor": 4
}
