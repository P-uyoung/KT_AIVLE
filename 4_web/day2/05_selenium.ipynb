{
 "cells": [
  {
   "cell_type": "markdown",
   "id": "03fff3b4",
   "metadata": {},
   "source": [
    "### selenium\n",
    "- `https://www.selenium.dev`\n",
    "- 자동화를 목적으로 만들어진 다양한 브라우져와 언어를 지원하는 라이브러리\n",
    "- 크롬 브라우져 설치\n",
    "    - 크롬 브라우져 드라이버 다운로드 (크롬 브라우져와 같은 버전)\n",
    "    - 다운로드한 드라이버 압축 해제\n",
    "    - chromedriver, chromedriver.exe 생성\n",
    "    - windows : 주피터 노트북 파일과 동일한 디렉토리에 chromedriver.exe 파일 업로드\n",
    "    - mac : sudo cp ~/Download/chromedirver /usr/local/bin"
   ]
  },
  {
   "cell_type": "markdown",
   "id": "cde0fe51-15b0-4b26-88cf-140fff3efa67",
   "metadata": {},
   "source": [
    "4가지중에 모두 가능하다면, 2.api > 1.Json > 3.html > 4.selenium\n",
    "\n",
    "1. 사이트분석 URL JSON\n",
    "\n",
    "2. API\n",
    "\n",
    "3. 사이트분석 URL HTML\n",
    "\n",
    "4. Selenium"
   ]
  },
  {
   "cell_type": "code",
   "execution_count": 1,
   "id": "a6e6bc99",
   "metadata": {
    "collapsed": true,
    "jupyter": {
     "outputs_hidden": true
    },
    "tags": []
   },
   "outputs": [
    {
     "name": "stdout",
     "output_type": "stream",
     "text": [
      "Collecting selenium\n",
      "  Downloading selenium-4.11.2-py3-none-any.whl (7.2 MB)\n",
      "                                              0.0/7.2 MB ? eta -:--:--\n",
      "     -                                        0.4/7.2 MB 7.4 MB/s eta 0:00:01\n",
      "     ---                                      0.7/7.2 MB 7.2 MB/s eta 0:00:01\n",
      "     ------                                   1.1/7.2 MB 7.7 MB/s eta 0:00:01\n",
      "     --------                                 1.5/7.2 MB 8.0 MB/s eta 0:00:01\n",
      "     ----------                               1.9/7.2 MB 7.9 MB/s eta 0:00:01\n",
      "     -----------                              2.0/7.2 MB 7.2 MB/s eta 0:00:01\n",
      "     -------------                            2.5/7.2 MB 7.6 MB/s eta 0:00:01\n",
      "     ----------------                         3.0/7.2 MB 7.9 MB/s eta 0:00:01\n",
      "     ------------------                       3.4/7.2 MB 8.1 MB/s eta 0:00:01\n",
      "     --------------------                     3.8/7.2 MB 8.3 MB/s eta 0:00:01\n",
      "     -----------------------                  4.2/7.2 MB 8.1 MB/s eta 0:00:01\n",
      "     ------------------------                 4.5/7.2 MB 7.9 MB/s eta 0:00:01\n",
      "     --------------------------               4.8/7.2 MB 7.8 MB/s eta 0:00:01\n",
      "     ----------------------------             5.1/7.2 MB 7.8 MB/s eta 0:00:01\n",
      "     ------------------------------           5.4/7.2 MB 7.7 MB/s eta 0:00:01\n",
      "     -------------------------------          5.7/7.2 MB 7.6 MB/s eta 0:00:01\n",
      "     --------------------------------         5.8/7.2 MB 7.2 MB/s eta 0:00:01\n",
      "     ----------------------------------       6.2/7.2 MB 7.3 MB/s eta 0:00:01\n",
      "     -----------------------------------      6.4/7.2 MB 7.2 MB/s eta 0:00:01\n",
      "     -------------------------------------    6.8/7.2 MB 7.2 MB/s eta 0:00:01\n",
      "     ---------------------------------------  7.1/7.2 MB 7.2 MB/s eta 0:00:01\n",
      "     ---------------------------------------- 7.2/7.2 MB 7.1 MB/s eta 0:00:00\n",
      "Requirement already satisfied: urllib3[socks]<3,>=1.26 in c:\\users\\user\\anaconda3\\lib\\site-packages (from selenium) (1.26.16)\n",
      "Collecting trio~=0.17 (from selenium)\n",
      "  Downloading trio-0.22.2-py3-none-any.whl (400 kB)\n",
      "                                              0.0/400.2 kB ? eta -:--:--\n",
      "     --------------------------             276.5/400.2 kB 5.7 MB/s eta 0:00:01\n",
      "     -------------------------------------- 400.2/400.2 kB 6.3 MB/s eta 0:00:00\n",
      "Collecting trio-websocket~=0.9 (from selenium)\n",
      "  Downloading trio_websocket-0.10.3-py3-none-any.whl (17 kB)\n",
      "Requirement already satisfied: certifi>=2021.10.8 in c:\\users\\user\\anaconda3\\lib\\site-packages (from selenium) (2023.5.7)\n",
      "Requirement already satisfied: attrs>=20.1.0 in c:\\users\\user\\anaconda3\\lib\\site-packages (from trio~=0.17->selenium) (22.1.0)\n",
      "Requirement already satisfied: sortedcontainers in c:\\users\\user\\anaconda3\\lib\\site-packages (from trio~=0.17->selenium) (2.4.0)\n",
      "Requirement already satisfied: idna in c:\\users\\user\\anaconda3\\lib\\site-packages (from trio~=0.17->selenium) (3.4)\n",
      "Collecting outcome (from trio~=0.17->selenium)\n",
      "  Downloading outcome-1.2.0-py2.py3-none-any.whl (9.7 kB)\n",
      "Requirement already satisfied: sniffio in c:\\users\\user\\anaconda3\\lib\\site-packages (from trio~=0.17->selenium) (1.2.0)\n",
      "Requirement already satisfied: cffi>=1.14 in c:\\users\\user\\anaconda3\\lib\\site-packages (from trio~=0.17->selenium) (1.15.1)\n",
      "Collecting exceptiongroup (from trio-websocket~=0.9->selenium)\n",
      "  Downloading exceptiongroup-1.1.3-py3-none-any.whl (14 kB)\n",
      "Collecting wsproto>=0.14 (from trio-websocket~=0.9->selenium)\n",
      "  Downloading wsproto-1.2.0-py3-none-any.whl (24 kB)\n",
      "Requirement already satisfied: PySocks!=1.5.7,<2.0,>=1.5.6 in c:\\users\\user\\anaconda3\\lib\\site-packages (from urllib3[socks]<3,>=1.26->selenium) (1.7.1)\n",
      "Requirement already satisfied: pycparser in c:\\users\\user\\anaconda3\\lib\\site-packages (from cffi>=1.14->trio~=0.17->selenium) (2.21)\n",
      "Collecting h11<1,>=0.9.0 (from wsproto>=0.14->trio-websocket~=0.9->selenium)\n",
      "  Downloading h11-0.14.0-py3-none-any.whl (58 kB)\n",
      "                                              0.0/58.3 kB ? eta -:--:--\n",
      "     ---------------------------------------- 58.3/58.3 kB 3.0 MB/s eta 0:00:00\n",
      "Installing collected packages: outcome, h11, exceptiongroup, wsproto, trio, trio-websocket, selenium\n",
      "Successfully installed exceptiongroup-1.1.3 h11-0.14.0 outcome-1.2.0 selenium-4.11.2 trio-0.22.2 trio-websocket-0.10.3 wsproto-1.2.0\n"
     ]
    }
   ],
   "source": [
    "!pip install selenium"
   ]
  },
  {
   "cell_type": "code",
   "execution_count": 2,
   "id": "cc5b2fcb-be22-4e5d-b010-6cfd5ee8192f",
   "metadata": {
    "tags": []
   },
   "outputs": [],
   "source": [
    "import pandas as pd\n",
    "from selenium import webdriver\n",
    "from selenium.webdriver.common.by import By"
   ]
  },
  {
   "cell_type": "code",
   "execution_count": 3,
   "id": "34925d61-bb57-4007-9dbb-1c3dca03d4e6",
   "metadata": {
    "tags": []
   },
   "outputs": [
    {
     "name": "stdout",
     "output_type": "stream",
     "text": [
      " C 드라이브의 볼륨: WINDOWS\n",
      " 볼륨 일련 번호: 1CE2-C115\n",
      "\n",
      " C:\\Users\\user\\AIVLE\\4_web\\day2 디렉터리\n",
      "\n",
      "2023-08-25  오후 03:42        14,312,960 chromedriver.exe\n",
      "               1개 파일          14,312,960 바이트\n",
      "               0개 디렉터리  165,627,588,608 바이트 남음\n"
     ]
    }
   ],
   "source": [
    "%ls chromedriver.exe"
   ]
  },
  {
   "cell_type": "code",
   "execution_count": 16,
   "id": "39e30c91",
   "metadata": {
    "tags": []
   },
   "outputs": [],
   "source": [
    "driver = webdriver.Chrome()"
   ]
  },
  {
   "cell_type": "code",
   "execution_count": 17,
   "id": "a93afca1-a77c-426d-b8ec-96c6f23f1cf1",
   "metadata": {
    "tags": []
   },
   "outputs": [],
   "source": [
    "# 페이지 이동\n",
    "driver.get('http://daum.net')"
   ]
  },
  {
   "cell_type": "code",
   "execution_count": 10,
   "id": "f3032259-0027-422e-ac13-6d243df3f85f",
   "metadata": {
    "tags": []
   },
   "outputs": [],
   "source": [
    "driver.set_window_size(200,600)"
   ]
  },
  {
   "cell_type": "code",
   "execution_count": 11,
   "id": "09e0231b-4c9a-44ad-a117-f4c2961b78a8",
   "metadata": {
    "tags": []
   },
   "outputs": [],
   "source": [
    "# javascript(이벤트 설정) 코드 실행 \n",
    "driver.execute_script('window.scrollTo(200,300);')"
   ]
  },
  {
   "cell_type": "code",
   "execution_count": 18,
   "id": "601d789f-b7a4-43f7-b7bb-607ede463bd2",
   "metadata": {
    "tags": []
   },
   "outputs": [],
   "source": [
    "driver.set_window_size(800,800)"
   ]
  },
  {
   "cell_type": "markdown",
   "id": "52a46bd0-d88c-44ea-ba0b-55476cca56f0",
   "metadata": {},
   "source": [
    "동작 설정"
   ]
  },
  {
   "cell_type": "code",
   "execution_count": 19,
   "id": "4be21952-6291-425c-86f0-4da55b96836c",
   "metadata": {
    "tags": []
   },
   "outputs": [],
   "source": [
    "# 문자열 입력\n",
    "driver.find_element(By.CSS_SELECTOR, '#q').send_keys('스마트펙토리')"
   ]
  },
  {
   "cell_type": "code",
   "execution_count": 21,
   "id": "b6a3942f-930a-441a-a51b-91c7b9bb54fc",
   "metadata": {
    "tags": []
   },
   "outputs": [],
   "source": [
    "# 검색버튼 클릭\n",
    "selector = '.ico_pctop.btn_search'  # 둘 다 가지고 있는 element를 선택\n",
    "driver.find_element(By.CSS_SELECTOR, selector).click()"
   ]
  },
  {
   "cell_type": "markdown",
   "id": "5bb25272-0511-4f68-81af-567af59066f5",
   "metadata": {},
   "source": [
    "브라우저 종료"
   ]
  },
  {
   "cell_type": "code",
   "execution_count": 22,
   "id": "22c495b8-69d2-4072-b516-3ab10f344401",
   "metadata": {
    "tags": []
   },
   "outputs": [],
   "source": [
    "driver.quit()"
   ]
  },
  {
   "cell_type": "markdown",
   "id": "591e8280-9a7d-40a3-a1be-a84f2d3de97b",
   "metadata": {},
   "source": [
    "#### 텍스트 데이터 가져오기\n",
    "- TED 사이트 : `https://www.ted.com`"
   ]
  },
  {
   "cell_type": "code",
   "execution_count": 25,
   "id": "d4ff6d4c-8c95-4a49-b80b-99d5f58ab72b",
   "metadata": {
    "tags": []
   },
   "outputs": [],
   "source": [
    "driver = webdriver.Chrome()\n",
    "driver.get('https://www.ted.com/talks')"
   ]
  },
  {
   "cell_type": "code",
   "execution_count": 29,
   "id": "c298be54-6130-4b78-9f04-85ed6b562f80",
   "metadata": {
    "tags": []
   },
   "outputs": [
    {
     "data": {
      "text/plain": [
       "'4300+ talks to stir your curiosity'"
      ]
     },
     "execution_count": 29,
     "metadata": {},
     "output_type": "execute_result"
    }
   ],
   "source": [
    "selector = '.talks-header__title'\n",
    "driver.find_element(By.CSS_SELECTOR, selector).text"
   ]
  },
  {
   "cell_type": "code",
   "execution_count": 32,
   "id": "e7e74dae-c94e-42d1-a83a-b03bc6e5714d",
   "metadata": {
    "tags": []
   },
   "outputs": [
    {
     "data": {
      "text/plain": [
       "36"
      ]
     },
     "execution_count": 32,
     "metadata": {},
     "output_type": "execute_result"
    }
   ],
   "source": [
    "selector = '#browse-results > .row > div'\n",
    "# selector = '#browse-results > div.row.row-sm-4up.row-lg-6up.row-skinny'\n",
    "contents = driver.find_elements(By.CSS_SELECTOR, selector)\n",
    "len(contents)"
   ]
  },
  {
   "cell_type": "code",
   "execution_count": 35,
   "id": "167c37ef-ab9a-4489-b709-7b4443068f50",
   "metadata": {
    "tags": []
   },
   "outputs": [
    {
     "data": {
      "text/plain": [
       "'Can alligators survive this apex predator?'"
      ]
     },
     "execution_count": 35,
     "metadata": {},
     "output_type": "execute_result"
    }
   ],
   "source": [
    "selector = '.media__message .ga-link'\n",
    "content = contents[0]\n",
    "content.find_element(By.CSS_SELECTOR, selector).text"
   ]
  },
  {
   "cell_type": "code",
   "execution_count": 37,
   "id": "007528b3-ff84-476b-ae7d-ce845f7be5b1",
   "metadata": {
    "tags": []
   },
   "outputs": [
    {
     "data": {
      "text/plain": [
       "(36,\n",
       " ['Can alligators survive this apex predator?',\n",
       "  \"How AI art could enhance humanity's collective memory\",\n",
       "  \"What's it like to be a giant sequoia tree?\"])"
      ]
     },
     "execution_count": 37,
     "metadata": {},
     "output_type": "execute_result"
    }
   ],
   "source": [
    "titles = []\n",
    "for content in contents:\n",
    "    titles.append(content.find_element(By.CSS_SELECTOR, selector).text)\n",
    "len(titles), titles[:3]"
   ]
  },
  {
   "cell_type": "code",
   "execution_count": 39,
   "id": "6773f6c4-5122-453d-8b0a-b726466c7ec3",
   "metadata": {
    "tags": []
   },
   "outputs": [],
   "source": [
    "driver.quit()"
   ]
  },
  {
   "cell_type": "markdown",
   "id": "3994e31a-2abb-4a14-bcda-2d2e768d3fba",
   "metadata": {},
   "source": [
    "페이지 렌더링 시간 기다려줘야함"
   ]
  },
  {
   "cell_type": "code",
   "execution_count": null,
   "id": "cecb676e-837e-4700-be9b-150bba685483",
   "metadata": {},
   "outputs": [],
   "source": [
    "import time \n",
    "print(1) # 페이지 이동 : 이동하는 1초걸림 \n",
    "time.sleep(1) \n",
    "print(2) # 데이터 수집"
   ]
  },
  {
   "cell_type": "markdown",
   "id": "152eda00",
   "metadata": {},
   "source": [
    "#### Headless\n",
    "- 브라우져를 화면에 띄우지 않고 메모리상에서만 올려서 크롤링하는 방법 \n",
    "- window가 지원되지 않는 환경에서 사용이 가능\n",
    "- chrome version 60.0.0.0 이상부터 지원 합니다."
   ]
  },
  {
   "cell_type": "code",
   "execution_count": 41,
   "id": "f7dbe182-a9a0-4b85-b879-0443f439fec1",
   "metadata": {
    "tags": []
   },
   "outputs": [
    {
     "name": "stdout",
     "output_type": "stream",
     "text": [
      "4300+ talks to stir your curiosity\n"
     ]
    }
   ],
   "source": [
    "options = webdriver.ChromeOptions()\n",
    "options.add_argument('headless')\n",
    "driver = webdriver.Chrome(options=options)\n",
    "\n",
    "driver.get('https://www.ted.com/talks')\n",
    "selector = '.talks-header__title'\n",
    "txt = driver.find_element(By.CSS_SELECTOR, selector).text\n",
    "driver.quit()\n",
    "print(txt)"
   ]
  }
 ],
 "metadata": {
  "kernelspec": {
   "display_name": "Python 3 (ipykernel)",
   "language": "python",
   "name": "python3"
  },
  "language_info": {
   "codemirror_mode": {
    "name": "ipython",
    "version": 3
   },
   "file_extension": ".py",
   "mimetype": "text/x-python",
   "name": "python",
   "nbconvert_exporter": "python",
   "pygments_lexer": "ipython3",
   "version": "3.11.3"
  },
  "toc": {
   "base_numbering": 1,
   "nav_menu": {},
   "number_sections": false,
   "sideBar": true,
   "skip_h1_title": false,
   "title_cell": "Table of Contents",
   "title_sidebar": "Contents",
   "toc_cell": false,
   "toc_position": {},
   "toc_section_display": true,
   "toc_window_display": false
  }
 },
 "nbformat": 4,
 "nbformat_minor": 5
}
