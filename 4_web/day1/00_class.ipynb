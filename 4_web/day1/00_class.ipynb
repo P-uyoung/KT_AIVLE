{
 "cells": [
  {
   "cell_type": "markdown",
   "id": "e7e4657d-e632-4b58-ac1d-90665913c3eb",
   "metadata": {},
   "source": [
    "## 클래스\n",
    "\n",
    "- 클래스는, 사용자정의 데이터타입\n",
    "\n",
    "- 객체 지향 구현 : 실제세계를 모델링하여 프로그램을 개발하는 개발 방법론 (협업 향상)\n",
    "\n",
    "- 사용법 : 클래스 선언(코드작성) > 객체생성(메모리사용) > 메서드호출(코드실행)\n",
    "\n",
    "- 비유 : 클래스 선언(설계도 작성) >  객체생성(제품생산) > 메서드호출(제품사용)\n",
    "\n",
    "- 클래스 식별자 컨벤션 : snake_case(X), PascalCase(O), UpperCamelCase(O)\n",
    "\n",
    "- class, self, __init__()\n",
    "\n",
    "=> 클래스는 사용자정의 데이터타입이며, 데이터 타입에 따라 사용가능한 변수와 메서드가 다르다."
   ]
  },
  {
   "cell_type": "markdown",
   "id": "2def1dfa-c788-4206-8cd5-2cf1572ed744",
   "metadata": {},
   "source": [
    "### 1) 클래스 선언"
   ]
  },
  {
   "cell_type": "code",
   "execution_count": 28,
   "id": "fa6cc373-a445-4f02-9853-3d34b600609d",
   "metadata": {
    "tags": []
   },
   "outputs": [],
   "source": [
    "class Account:\n",
    "    \n",
    "    balance = 10000\n",
    "    \n",
    "    def deposit(self,amount):\n",
    "        self.balance += amount\n",
    "    \n",
    "    def withdraw(self,amount):\n",
    "        self.balance -= amount"
   ]
  },
  {
   "cell_type": "markdown",
   "id": "02de5928-699b-4ce3-a274-0132804c92bb",
   "metadata": {},
   "source": [
    "### 2) 객체 생성"
   ]
  },
  {
   "cell_type": "code",
   "execution_count": 29,
   "id": "5c8ebbb1-6ba7-4750-8664-7d7b7969cff0",
   "metadata": {
    "tags": []
   },
   "outputs": [],
   "source": [
    "acc1 = Account()\n",
    "acc2 = Account()"
   ]
  },
  {
   "cell_type": "code",
   "execution_count": 30,
   "id": "3780b40f-410d-4b46-a97f-cdc392d79baf",
   "metadata": {
    "tags": []
   },
   "outputs": [
    {
     "data": {
      "text/plain": [
       "['balance', 'deposit', 'withdraw']"
      ]
     },
     "execution_count": 30,
     "metadata": {},
     "output_type": "execute_result"
    }
   ],
   "source": [
    "dir(acc1)[-3:]"
   ]
  },
  {
   "cell_type": "code",
   "execution_count": 31,
   "id": "7185a4ff-27fb-402f-a3e2-ea76f7a3396f",
   "metadata": {
    "tags": []
   },
   "outputs": [
    {
     "data": {
      "text/plain": [
       "(10000, 10000)"
      ]
     },
     "execution_count": 31,
     "metadata": {},
     "output_type": "execute_result"
    }
   ],
   "source": [
    "acc1.balance, acc2.balance"
   ]
  },
  {
   "cell_type": "code",
   "execution_count": 32,
   "id": "04c03b15-fac7-40dd-a2e1-8cbc3d4eec4e",
   "metadata": {
    "tags": []
   },
   "outputs": [
    {
     "data": {
      "text/plain": [
       "(20000, 10000)"
      ]
     },
     "execution_count": 32,
     "metadata": {},
     "output_type": "execute_result"
    }
   ],
   "source": [
    "# 데이터 수정\n",
    "acc1.balance = 20000\n",
    "acc1.balance, acc2.balance"
   ]
  },
  {
   "cell_type": "markdown",
   "id": "85d02bd8-4e7d-4175-8821-ed08dd1e6748",
   "metadata": {},
   "source": [
    "### 3) 메서드 호출"
   ]
  },
  {
   "cell_type": "code",
   "execution_count": 17,
   "id": "5fef6027-8d12-44fe-92d1-e85025554bcd",
   "metadata": {
    "tags": []
   },
   "outputs": [
    {
     "data": {
      "text/plain": [
       "(23000, 6000)"
      ]
     },
     "execution_count": 17,
     "metadata": {},
     "output_type": "execute_result"
    }
   ],
   "source": [
    "acc1.deposit(3000)\n",
    "acc2.withdraw(4000)\n",
    "acc1.balance, acc2.balance"
   ]
  },
  {
   "cell_type": "code",
   "execution_count": 47,
   "id": "ae96a849-6d5e-48a4-a3e0-340041e8889e",
   "metadata": {
    "collapsed": true,
    "jupyter": {
     "outputs_hidden": true
    },
    "tags": []
   },
   "outputs": [
    {
     "data": {
      "text/plain": [
       "['T',\n",
       " '_AXIS_LEN',\n",
       " '_AXIS_ORDERS',\n",
       " '_AXIS_TO_AXIS_NUMBER',\n",
       " '_HANDLED_TYPES',\n",
       " '__abs__',\n",
       " '__add__',\n",
       " '__and__',\n",
       " '__annotations__',\n",
       " '__array__',\n",
       " '__array_priority__',\n",
       " '__array_ufunc__',\n",
       " '__array_wrap__',\n",
       " '__bool__',\n",
       " '__class__',\n",
       " '__contains__',\n",
       " '__copy__',\n",
       " '__dataframe__',\n",
       " '__deepcopy__',\n",
       " '__delattr__',\n",
       " '__delitem__',\n",
       " '__dict__',\n",
       " '__dir__',\n",
       " '__divmod__',\n",
       " '__doc__',\n",
       " '__eq__',\n",
       " '__finalize__',\n",
       " '__floordiv__',\n",
       " '__format__',\n",
       " '__ge__',\n",
       " '__getattr__',\n",
       " '__getattribute__',\n",
       " '__getitem__',\n",
       " '__getstate__',\n",
       " '__gt__',\n",
       " '__hash__',\n",
       " '__iadd__',\n",
       " '__iand__',\n",
       " '__ifloordiv__',\n",
       " '__imod__',\n",
       " '__imul__',\n",
       " '__init__',\n",
       " '__init_subclass__',\n",
       " '__invert__',\n",
       " '__ior__',\n",
       " '__ipow__',\n",
       " '__isub__',\n",
       " '__iter__',\n",
       " '__itruediv__',\n",
       " '__ixor__',\n",
       " '__le__',\n",
       " '__len__',\n",
       " '__lt__',\n",
       " '__matmul__',\n",
       " '__mod__',\n",
       " '__module__',\n",
       " '__mul__',\n",
       " '__ne__',\n",
       " '__neg__',\n",
       " '__new__',\n",
       " '__nonzero__',\n",
       " '__or__',\n",
       " '__pos__',\n",
       " '__pow__',\n",
       " '__radd__',\n",
       " '__rand__',\n",
       " '__rdivmod__',\n",
       " '__reduce__',\n",
       " '__reduce_ex__',\n",
       " '__repr__',\n",
       " '__rfloordiv__',\n",
       " '__rmatmul__',\n",
       " '__rmod__',\n",
       " '__rmul__',\n",
       " '__ror__',\n",
       " '__round__',\n",
       " '__rpow__',\n",
       " '__rsub__',\n",
       " '__rtruediv__',\n",
       " '__rxor__',\n",
       " '__setattr__',\n",
       " '__setitem__',\n",
       " '__setstate__',\n",
       " '__sizeof__',\n",
       " '__str__',\n",
       " '__sub__',\n",
       " '__subclasshook__',\n",
       " '__truediv__',\n",
       " '__weakref__',\n",
       " '__xor__',\n",
       " '_accessors',\n",
       " '_accum_func',\n",
       " '_add_numeric_operations',\n",
       " '_agg_by_level',\n",
       " '_agg_examples_doc',\n",
       " '_agg_summary_and_see_also_doc',\n",
       " '_align_frame',\n",
       " '_align_series',\n",
       " '_append',\n",
       " '_arith_method',\n",
       " '_as_manager',\n",
       " '_attrs',\n",
       " '_box_col_values',\n",
       " '_can_fast_transpose',\n",
       " '_check_inplace_and_allows_duplicate_labels',\n",
       " '_check_inplace_setting',\n",
       " '_check_is_chained_assignment_possible',\n",
       " '_check_label_or_level_ambiguity',\n",
       " '_check_setitem_copy',\n",
       " '_clear_item_cache',\n",
       " '_clip_with_one_bound',\n",
       " '_clip_with_scalar',\n",
       " '_cmp_method',\n",
       " '_combine_frame',\n",
       " '_consolidate',\n",
       " '_consolidate_inplace',\n",
       " '_construct_axes_dict',\n",
       " '_construct_axes_from_arguments',\n",
       " '_construct_result',\n",
       " '_constructor',\n",
       " '_constructor_sliced',\n",
       " '_convert',\n",
       " '_count_level',\n",
       " '_data',\n",
       " '_dir_additions',\n",
       " '_dir_deletions',\n",
       " '_dispatch_frame_op',\n",
       " '_drop_axis',\n",
       " '_drop_labels_or_levels',\n",
       " '_ensure_valid_index',\n",
       " '_find_valid_index',\n",
       " '_flags',\n",
       " '_from_arrays',\n",
       " '_get_agg_axis',\n",
       " '_get_axis',\n",
       " '_get_axis_name',\n",
       " '_get_axis_number',\n",
       " '_get_axis_resolvers',\n",
       " '_get_block_manager_axis',\n",
       " '_get_bool_data',\n",
       " '_get_cleaned_column_resolvers',\n",
       " '_get_column_array',\n",
       " '_get_index_resolvers',\n",
       " '_get_item_cache',\n",
       " '_get_label_or_level_values',\n",
       " '_get_numeric_data',\n",
       " '_get_value',\n",
       " '_getitem_bool_array',\n",
       " '_getitem_multilevel',\n",
       " '_gotitem',\n",
       " '_hidden_attrs',\n",
       " '_indexed_same',\n",
       " '_info_axis',\n",
       " '_info_axis_name',\n",
       " '_info_axis_number',\n",
       " '_info_repr',\n",
       " '_init_mgr',\n",
       " '_inplace_method',\n",
       " '_internal_names',\n",
       " '_internal_names_set',\n",
       " '_is_copy',\n",
       " '_is_homogeneous_type',\n",
       " '_is_label_or_level_reference',\n",
       " '_is_label_reference',\n",
       " '_is_level_reference',\n",
       " '_is_mixed_type',\n",
       " '_is_view',\n",
       " '_iset_item',\n",
       " '_iset_item_mgr',\n",
       " '_iset_not_inplace',\n",
       " '_item_cache',\n",
       " '_iter_column_arrays',\n",
       " '_ixs',\n",
       " '_join_compat',\n",
       " '_logical_func',\n",
       " '_logical_method',\n",
       " '_maybe_cache_changed',\n",
       " '_maybe_update_cacher',\n",
       " '_metadata',\n",
       " '_mgr',\n",
       " '_min_count_stat_function',\n",
       " '_needs_reindex_multi',\n",
       " '_protect_consolidate',\n",
       " '_reduce',\n",
       " '_reduce_axis1',\n",
       " '_reindex_axes',\n",
       " '_reindex_columns',\n",
       " '_reindex_index',\n",
       " '_reindex_multi',\n",
       " '_reindex_with_indexers',\n",
       " '_rename',\n",
       " '_replace_columnwise',\n",
       " '_repr_data_resource_',\n",
       " '_repr_fits_horizontal_',\n",
       " '_repr_fits_vertical_',\n",
       " '_repr_html_',\n",
       " '_repr_latex_',\n",
       " '_reset_cache',\n",
       " '_reset_cacher',\n",
       " '_sanitize_column',\n",
       " '_series',\n",
       " '_set_axis',\n",
       " '_set_axis_name',\n",
       " '_set_axis_nocheck',\n",
       " '_set_is_copy',\n",
       " '_set_item',\n",
       " '_set_item_frame_value',\n",
       " '_set_item_mgr',\n",
       " '_set_value',\n",
       " '_setitem_array',\n",
       " '_setitem_frame',\n",
       " '_setitem_slice',\n",
       " '_slice',\n",
       " '_stat_axis',\n",
       " '_stat_axis_name',\n",
       " '_stat_axis_number',\n",
       " '_stat_function',\n",
       " '_stat_function_ddof',\n",
       " '_take',\n",
       " '_take_with_is_copy',\n",
       " '_to_dict_of_blocks',\n",
       " '_typ',\n",
       " '_update_inplace',\n",
       " '_validate_dtype',\n",
       " '_values',\n",
       " '_where',\n",
       " 'abs',\n",
       " 'add',\n",
       " 'add_prefix',\n",
       " 'add_suffix',\n",
       " 'agg',\n",
       " 'aggregate',\n",
       " 'align',\n",
       " 'all',\n",
       " 'any',\n",
       " 'append',\n",
       " 'apply',\n",
       " 'applymap',\n",
       " 'asfreq',\n",
       " 'asof',\n",
       " 'assign',\n",
       " 'astype',\n",
       " 'at',\n",
       " 'at_time',\n",
       " 'attrs',\n",
       " 'axes',\n",
       " 'backfill',\n",
       " 'between_time',\n",
       " 'bfill',\n",
       " 'bool',\n",
       " 'boxplot',\n",
       " 'clip',\n",
       " 'columns',\n",
       " 'combine',\n",
       " 'combine_first',\n",
       " 'compare',\n",
       " 'convert_dtypes',\n",
       " 'copy',\n",
       " 'corr',\n",
       " 'corrwith',\n",
       " 'count',\n",
       " 'cov',\n",
       " 'cummax',\n",
       " 'cummin',\n",
       " 'cumprod',\n",
       " 'cumsum',\n",
       " 'describe',\n",
       " 'diff',\n",
       " 'div',\n",
       " 'divide',\n",
       " 'dot',\n",
       " 'drop',\n",
       " 'drop_duplicates',\n",
       " 'droplevel',\n",
       " 'dropna',\n",
       " 'dtypes',\n",
       " 'duplicated',\n",
       " 'empty',\n",
       " 'eq',\n",
       " 'equals',\n",
       " 'eval',\n",
       " 'ewm',\n",
       " 'expanding',\n",
       " 'explode',\n",
       " 'ffill',\n",
       " 'fillna',\n",
       " 'filter',\n",
       " 'first',\n",
       " 'first_valid_index',\n",
       " 'flags',\n",
       " 'floordiv',\n",
       " 'from_dict',\n",
       " 'from_records',\n",
       " 'ge',\n",
       " 'get',\n",
       " 'groupby',\n",
       " 'gt',\n",
       " 'head',\n",
       " 'hist',\n",
       " 'iat',\n",
       " 'idxmax',\n",
       " 'idxmin',\n",
       " 'iloc',\n",
       " 'index',\n",
       " 'infer_objects',\n",
       " 'info',\n",
       " 'insert',\n",
       " 'interpolate',\n",
       " 'isetitem',\n",
       " 'isin',\n",
       " 'isna',\n",
       " 'isnull',\n",
       " 'items',\n",
       " 'iteritems',\n",
       " 'iterrows',\n",
       " 'itertuples',\n",
       " 'join',\n",
       " 'keys',\n",
       " 'kurt',\n",
       " 'kurtosis',\n",
       " 'last',\n",
       " 'last_valid_index',\n",
       " 'le',\n",
       " 'loc',\n",
       " 'lookup',\n",
       " 'lt',\n",
       " 'mad',\n",
       " 'mask',\n",
       " 'max',\n",
       " 'mean',\n",
       " 'median',\n",
       " 'melt',\n",
       " 'memory_usage',\n",
       " 'merge',\n",
       " 'min',\n",
       " 'mod',\n",
       " 'mode',\n",
       " 'mul',\n",
       " 'multiply',\n",
       " 'ndim',\n",
       " 'ne',\n",
       " 'nlargest',\n",
       " 'notna',\n",
       " 'notnull',\n",
       " 'nsmallest',\n",
       " 'nunique',\n",
       " 'pad',\n",
       " 'pct_change',\n",
       " 'pipe',\n",
       " 'pivot',\n",
       " 'pivot_table',\n",
       " 'plot',\n",
       " 'pop',\n",
       " 'pow',\n",
       " 'prod',\n",
       " 'product',\n",
       " 'quantile',\n",
       " 'query',\n",
       " 'radd',\n",
       " 'rank',\n",
       " 'rdiv',\n",
       " 'reindex',\n",
       " 'reindex_like',\n",
       " 'rename',\n",
       " 'rename_axis',\n",
       " 'reorder_levels',\n",
       " 'replace',\n",
       " 'resample',\n",
       " 'reset_index',\n",
       " 'rfloordiv',\n",
       " 'rmod',\n",
       " 'rmul',\n",
       " 'rolling',\n",
       " 'round',\n",
       " 'rpow',\n",
       " 'rsub',\n",
       " 'rtruediv',\n",
       " 'sample',\n",
       " 'select_dtypes',\n",
       " 'sem',\n",
       " 'set_axis',\n",
       " 'set_flags',\n",
       " 'set_index',\n",
       " 'shape',\n",
       " 'shift',\n",
       " 'size',\n",
       " 'skew',\n",
       " 'slice_shift',\n",
       " 'sort_index',\n",
       " 'sort_values',\n",
       " 'sparse',\n",
       " 'squeeze',\n",
       " 'stack',\n",
       " 'std',\n",
       " 'style',\n",
       " 'sub',\n",
       " 'subtract',\n",
       " 'sum',\n",
       " 'swapaxes',\n",
       " 'swaplevel',\n",
       " 'tail',\n",
       " 'take',\n",
       " 'to_clipboard',\n",
       " 'to_csv',\n",
       " 'to_dict',\n",
       " 'to_excel',\n",
       " 'to_feather',\n",
       " 'to_gbq',\n",
       " 'to_hdf',\n",
       " 'to_html',\n",
       " 'to_json',\n",
       " 'to_latex',\n",
       " 'to_markdown',\n",
       " 'to_numpy',\n",
       " 'to_orc',\n",
       " 'to_parquet',\n",
       " 'to_period',\n",
       " 'to_pickle',\n",
       " 'to_records',\n",
       " 'to_sql',\n",
       " 'to_stata',\n",
       " 'to_string',\n",
       " 'to_timestamp',\n",
       " 'to_xarray',\n",
       " 'to_xml',\n",
       " 'transform',\n",
       " 'transpose',\n",
       " 'truediv',\n",
       " 'truncate',\n",
       " 'tz_convert',\n",
       " 'tz_localize',\n",
       " 'unstack',\n",
       " 'update',\n",
       " 'value_counts',\n",
       " 'values',\n",
       " 'var',\n",
       " 'where',\n",
       " 'xs']"
      ]
     },
     "execution_count": 47,
     "metadata": {},
     "output_type": "execute_result"
    }
   ],
   "source": [
    "import pandas as pd\n",
    "a = pd.DataFrame()\n",
    "dir(a)"
   ]
  },
  {
   "cell_type": "markdown",
   "id": "a5755bd4-bfbf-4e29-99dc-7b3d6cb1a705",
   "metadata": {},
   "source": [
    "### self : 객체 자신  (자바, this)"
   ]
  },
  {
   "cell_type": "code",
   "execution_count": 22,
   "id": "23191de9-3a93-4452-ac2e-a5302c43ad25",
   "metadata": {
    "tags": []
   },
   "outputs": [],
   "source": [
    "# Account.deposit(amount) : self.balance += amount \n",
    "# acc1.deposit(3000) : self == acc1 : acc1.balance += 3000 \n",
    "# acc2.withdraw(4000) : self == acc2 : acc2.balance -= 4000"
   ]
  },
  {
   "cell_type": "markdown",
   "id": "8f3f509e-b0da-4621-bb00-27092e8e5ea6",
   "metadata": {
    "tags": []
   },
   "source": [
    "### 생성자 메서드 : __init__()"
   ]
  },
  {
   "cell_type": "markdown",
   "id": "98c6fcc4-2a64-47df-b9bf-59b06c4d142c",
   "metadata": {},
   "source": [
    "스페셜 메서드 : 메서드 식별자 앞뒤로 __ 가 붙음 : 특별한 기능을 하는 메서드     \n",
    "생성자 메서드가 스페셜 메서드중에 하나     \n",
    "특별한 기능 : 객체가 생성될때 실행되는 메서드"
   ]
  },
  {
   "cell_type": "code",
   "execution_count": 39,
   "id": "1ad5c9dd-511e-4554-9f70-39f08f58e7ff",
   "metadata": {
    "tags": []
   },
   "outputs": [],
   "source": [
    "# 클래스 선언\n",
    "class Account:\n",
    "    \n",
    "    # 객체가 생성될 때 실행되는 메서드\n",
    "    def __init__(self,balance=10000):\n",
    "        self.balance = balance\n",
    "    \n",
    "    def deposit(self,amount):\n",
    "        self.balance += amount\n",
    "    \n",
    "    def withdraw(self,amount):\n",
    "        self.balance -= amount"
   ]
  },
  {
   "cell_type": "code",
   "execution_count": 38,
   "id": "ebe54056-de21-4e89-8185-a17c94a75155",
   "metadata": {
    "tags": []
   },
   "outputs": [],
   "source": [
    "acc = Account(20000)"
   ]
  },
  {
   "cell_type": "code",
   "execution_count": 40,
   "id": "8ab23517-7956-4e06-abec-3c85cfcb461d",
   "metadata": {
    "tags": []
   },
   "outputs": [
    {
     "data": {
      "text/html": [
       "<div>\n",
       "<style scoped>\n",
       "    .dataframe tbody tr th:only-of-type {\n",
       "        vertical-align: middle;\n",
       "    }\n",
       "\n",
       "    .dataframe tbody tr th {\n",
       "        vertical-align: top;\n",
       "    }\n",
       "\n",
       "    .dataframe thead th {\n",
       "        text-align: right;\n",
       "    }\n",
       "</style>\n",
       "<table border=\"1\" class=\"dataframe\">\n",
       "  <thead>\n",
       "    <tr style=\"text-align: right;\">\n",
       "      <th></th>\n",
       "      <th>ui</th>\n",
       "      <th>name</th>\n",
       "    </tr>\n",
       "  </thead>\n",
       "  <tbody>\n",
       "    <tr>\n",
       "      <th>0</th>\n",
       "      <td>0</td>\n",
       "      <td>A</td>\n",
       "    </tr>\n",
       "    <tr>\n",
       "      <th>1</th>\n",
       "      <td>1</td>\n",
       "      <td>B</td>\n",
       "    </tr>\n",
       "    <tr>\n",
       "      <th>2</th>\n",
       "      <td>2</td>\n",
       "      <td>C</td>\n",
       "    </tr>\n",
       "  </tbody>\n",
       "</table>\n",
       "</div>"
      ],
      "text/plain": [
       "   ui name\n",
       "0   0    A\n",
       "1   1    B\n",
       "2   2    C"
      ]
     },
     "execution_count": 40,
     "metadata": {},
     "output_type": "execute_result"
    }
   ],
   "source": [
    "data = pd.DataFrame({'ui':range(3), 'name':list('ABC')})  # init()에서 초기 생성\n",
    "data"
   ]
  },
  {
   "cell_type": "markdown",
   "id": "1278b661-1f7f-4dfc-ae9e-4a549f1c7be9",
   "metadata": {},
   "source": [
    "### 클래스는 사용자정의 데이터 타입이다."
   ]
  },
  {
   "cell_type": "markdown",
   "id": "00e13be2-9b53-4c6b-9fb5-48a404105e6f",
   "metadata": {},
   "source": [
    "따라서, 데이터 타입이 다르면 사용할 수 있는 변수와 함수가 다르다."
   ]
  },
  {
   "cell_type": "markdown",
   "id": "e5a8e3de-7479-47fc-b7d8-a69e8bc0e079",
   "metadata": {},
   "source": [
    "- acc 객체의 클래스 : Account   \n",
    "- acc 겍체의 데이터타입 : Account   \n",
    "- <u>클래스는 곧 데이터타입 이다.</u>     \n",
    "- Account 클래스(데이터타입)은 우리가 직접 만듦 : 커스터마이즈 (사용자정의)"
   ]
  },
  {
   "cell_type": "code",
   "execution_count": 41,
   "id": "054f98a7-3aaa-495c-ab6b-48206ce7614b",
   "metadata": {
    "tags": []
   },
   "outputs": [
    {
     "data": {
      "text/plain": [
       "__main__.Account"
      ]
     },
     "execution_count": 41,
     "metadata": {},
     "output_type": "execute_result"
    }
   ],
   "source": [
    "acc = Account()\n",
    "type(acc)"
   ]
  },
  {
   "cell_type": "markdown",
   "id": "220ad1b6-0265-4f57-a02b-a19d946f86a0",
   "metadata": {},
   "source": [
    "- data 객체의 클래스 : str    \n",
    "- c언어 또는 포틀란으로 만든 클래스는 소문자로 출력    \n",
    "- data 객체에서 사용 가능한 변수, 함수는 str 클래스에서 정의"
   ]
  },
  {
   "cell_type": "code",
   "execution_count": 44,
   "id": "d2ab12e9-08f3-4f63-9184-b580af04832a",
   "metadata": {
    "tags": []
   },
   "outputs": [
    {
     "data": {
      "text/plain": [
       "(str, ['translate', 'upper', 'zfill'])"
      ]
     },
     "execution_count": 44,
     "metadata": {},
     "output_type": "execute_result"
    }
   ],
   "source": [
    "data = 'python'\n",
    "type(data), dir(data)[-3:]"
   ]
  },
  {
   "cell_type": "code",
   "execution_count": 51,
   "id": "d806c94c-0bb8-42f1-81ec-eceaa5236b57",
   "metadata": {
    "tags": []
   },
   "outputs": [
    {
     "name": "stdout",
     "output_type": "stream",
     "text": [
      "Help on built-in function upper:\n",
      "\n",
      "upper() method of builtins.str instance\n",
      "    Return a copy of the string converted to uppercase.\n",
      "\n"
     ]
    }
   ],
   "source": [
    "help(data.upper)"
   ]
  },
  {
   "cell_type": "markdown",
   "id": "0abc4d03-d87f-4c06-98b8-ec2f2f25f81c",
   "metadata": {},
   "source": [
    "df.info처럼 괄호 없이 메서드 이름만 적으면 어떻게 될까요? \n",
    "\n",
    "이 경우, 메서드 자체를 참조하게 되며, 해당 메서드의 정보(정의 및 위치 등)가 출력됩니다. 실제로 메서드를 실행하려면 괄호를 사용해야 합니다."
   ]
  },
  {
   "cell_type": "code",
   "execution_count": 53,
   "id": "5cf802dd-1783-473b-9a7b-7496d888f38a",
   "metadata": {
    "tags": []
   },
   "outputs": [
    {
     "data": {
      "text/plain": [
       "False"
      ]
     },
     "execution_count": 53,
     "metadata": {},
     "output_type": "execute_result"
    }
   ],
   "source": [
    "d1 = Account()\n",
    "d2 = Account()\n",
    "d1 == d2"
   ]
  },
  {
   "cell_type": "code",
   "execution_count": 54,
   "id": "eabd452d-0da3-4847-9bde-bff297dd9dc9",
   "metadata": {
    "tags": []
   },
   "outputs": [
    {
     "data": {
      "text/plain": [
       "True"
      ]
     },
     "execution_count": 54,
     "metadata": {},
     "output_type": "execute_result"
    }
   ],
   "source": [
    "d1 = 'py'\n",
    "d2 ='py'\n",
    "d1 == d2"
   ]
  },
  {
   "cell_type": "markdown",
   "id": "ff526a78-63cc-4f00-b0b5-2c8bfb0745e1",
   "metadata": {},
   "source": [
    "실습하기 : 간단한 스타크래프트 만들어보기"
   ]
  },
  {
   "cell_type": "code",
   "execution_count": 4,
   "id": "c16989da-01e9-4760-84df-f496217b6dfc",
   "metadata": {
    "tags": []
   },
   "outputs": [],
   "source": [
    "class Starcraft:\n",
    "    \n",
    "    def __init__(self, health=40, ap=5):\n",
    "        self.health = health\n",
    "        self.ap = ap\n",
    "    \n",
    "    def attack(self, target):\n",
    "        target.health -= self.ap"
   ]
  },
  {
   "cell_type": "code",
   "execution_count": 5,
   "id": "e2b27199-d0e5-4837-a403-e0557fdcdf40",
   "metadata": {
    "tags": []
   },
   "outputs": [
    {
     "data": {
      "text/plain": [
       "(40, 35)"
      ]
     },
     "execution_count": 5,
     "metadata": {},
     "output_type": "execute_result"
    }
   ],
   "source": [
    "p1 = Starcraft()\n",
    "p2 = Starcraft()\n",
    "p1.attack(p2)\n",
    "\n",
    "p1.health, p2.health"
   ]
  }
 ],
 "metadata": {
  "kernelspec": {
   "display_name": "Python 3 (ipykernel)",
   "language": "python",
   "name": "python3"
  },
  "language_info": {
   "codemirror_mode": {
    "name": "ipython",
    "version": 3
   },
   "file_extension": ".py",
   "mimetype": "text/x-python",
   "name": "python",
   "nbconvert_exporter": "python",
   "pygments_lexer": "ipython3",
   "version": "3.11.3"
  }
 },
 "nbformat": 4,
 "nbformat_minor": 5
}
